{
 "cells": [
  {
   "cell_type": "code",
   "execution_count": 2,
   "id": "fd3107e8",
   "metadata": {},
   "outputs": [],
   "source": [
    "import pandas as pd\n",
    "import numpy as np"
   ]
  },
  {
   "cell_type": "code",
   "execution_count": 17,
   "id": "7c4bd17b",
   "metadata": {},
   "outputs": [
    {
     "data": {
      "application/vnd.microsoft.datawrangler.viewer.v0+json": {
       "columns": [
        {
         "name": "index",
         "rawType": "int64",
         "type": "integer"
        },
        {
         "name": "movieId",
         "rawType": "int64",
         "type": "integer"
        },
        {
         "name": "imdbId",
         "rawType": "int64",
         "type": "integer"
        },
        {
         "name": "tmdbId",
         "rawType": "float64",
         "type": "float"
        }
       ],
       "ref": "5cf20ab7-10eb-4232-a40d-124d27962be9",
       "rows": [
        [
         "0",
         "1",
         "114709",
         "862.0"
        ],
        [
         "1",
         "2",
         "113497",
         "8844.0"
        ],
        [
         "2",
         "3",
         "113228",
         "15602.0"
        ],
        [
         "3",
         "4",
         "114885",
         "31357.0"
        ],
        [
         "4",
         "5",
         "113041",
         "11862.0"
        ],
        [
         "5",
         "6",
         "113277",
         "949.0"
        ],
        [
         "6",
         "7",
         "114319",
         "11860.0"
        ],
        [
         "7",
         "8",
         "112302",
         "45325.0"
        ],
        [
         "8",
         "9",
         "114576",
         "9091.0"
        ],
        [
         "9",
         "10",
         "113189",
         "710.0"
        ],
        [
         "10",
         "11",
         "112346",
         "9087.0"
        ],
        [
         "11",
         "12",
         "112896",
         "12110.0"
        ],
        [
         "12",
         "13",
         "112453",
         "21032.0"
        ],
        [
         "13",
         "14",
         "113987",
         "10858.0"
        ],
        [
         "14",
         "15",
         "112760",
         "1408.0"
        ],
        [
         "15",
         "16",
         "112641",
         "524.0"
        ],
        [
         "16",
         "17",
         "114388",
         "4584.0"
        ],
        [
         "17",
         "18",
         "113101",
         "5.0"
        ],
        [
         "18",
         "19",
         "112281",
         "9273.0"
        ],
        [
         "19",
         "20",
         "113845",
         "11517.0"
        ],
        [
         "20",
         "21",
         "113161",
         "8012.0"
        ],
        [
         "21",
         "22",
         "112722",
         "1710.0"
        ],
        [
         "22",
         "23",
         "112401",
         "9691.0"
        ],
        [
         "23",
         "24",
         "114168",
         "12665.0"
        ],
        [
         "24",
         "25",
         "113627",
         "451.0"
        ],
        [
         "25",
         "26",
         "114057",
         "16420.0"
        ],
        [
         "26",
         "27",
         "114011",
         "9263.0"
        ],
        [
         "27",
         "28",
         "114117",
         "17015.0"
        ],
        [
         "28",
         "29",
         "112682",
         "902.0"
        ],
        [
         "29",
         "30",
         "115012",
         "37557.0"
        ],
        [
         "30",
         "31",
         "112792",
         "9909.0"
        ],
        [
         "31",
         "32",
         "114746",
         "63.0"
        ],
        [
         "32",
         "34",
         "112431",
         "9598.0"
        ],
        [
         "33",
         "36",
         "112818",
         "687.0"
        ],
        [
         "34",
         "38",
         "113442",
         "33689.0"
        ],
        [
         "35",
         "39",
         "112697",
         "9603.0"
        ],
        [
         "36",
         "40",
         "112749",
         "34615.0"
        ],
        [
         "37",
         "41",
         "114279",
         "31174.0"
        ],
        [
         "38",
         "42",
         "112819",
         "11443.0"
        ],
        [
         "39",
         "43",
         "114272",
         "35196.0"
        ],
        [
         "40",
         "44",
         "113855",
         "9312.0"
        ],
        [
         "41",
         "45",
         "114681",
         "577.0"
        ],
        [
         "42",
         "46",
         "113347",
         "11861.0"
        ],
        [
         "43",
         "47",
         "114369",
         "807.0"
        ],
        [
         "44",
         "48",
         "114148",
         "10530.0"
        ],
        [
         "45",
         "49",
         "114916",
         "8391.0"
        ],
        [
         "46",
         "50",
         "114814",
         "629.0"
        ],
        [
         "47",
         "52",
         "113819",
         "11448.0"
        ],
        [
         "48",
         "53",
         "110299",
         "49133.0"
        ],
        [
         "49",
         "54",
         "112499",
         "26441.0"
        ]
       ],
       "shape": {
        "columns": 3,
        "rows": 9742
       }
      },
      "text/html": [
       "<div>\n",
       "<style scoped>\n",
       "    .dataframe tbody tr th:only-of-type {\n",
       "        vertical-align: middle;\n",
       "    }\n",
       "\n",
       "    .dataframe tbody tr th {\n",
       "        vertical-align: top;\n",
       "    }\n",
       "\n",
       "    .dataframe thead th {\n",
       "        text-align: right;\n",
       "    }\n",
       "</style>\n",
       "<table border=\"1\" class=\"dataframe\">\n",
       "  <thead>\n",
       "    <tr style=\"text-align: right;\">\n",
       "      <th></th>\n",
       "      <th>movieId</th>\n",
       "      <th>imdbId</th>\n",
       "      <th>tmdbId</th>\n",
       "    </tr>\n",
       "  </thead>\n",
       "  <tbody>\n",
       "    <tr>\n",
       "      <th>0</th>\n",
       "      <td>1</td>\n",
       "      <td>114709</td>\n",
       "      <td>862.0</td>\n",
       "    </tr>\n",
       "    <tr>\n",
       "      <th>1</th>\n",
       "      <td>2</td>\n",
       "      <td>113497</td>\n",
       "      <td>8844.0</td>\n",
       "    </tr>\n",
       "    <tr>\n",
       "      <th>2</th>\n",
       "      <td>3</td>\n",
       "      <td>113228</td>\n",
       "      <td>15602.0</td>\n",
       "    </tr>\n",
       "    <tr>\n",
       "      <th>3</th>\n",
       "      <td>4</td>\n",
       "      <td>114885</td>\n",
       "      <td>31357.0</td>\n",
       "    </tr>\n",
       "    <tr>\n",
       "      <th>4</th>\n",
       "      <td>5</td>\n",
       "      <td>113041</td>\n",
       "      <td>11862.0</td>\n",
       "    </tr>\n",
       "    <tr>\n",
       "      <th>...</th>\n",
       "      <td>...</td>\n",
       "      <td>...</td>\n",
       "      <td>...</td>\n",
       "    </tr>\n",
       "    <tr>\n",
       "      <th>9737</th>\n",
       "      <td>193581</td>\n",
       "      <td>5476944</td>\n",
       "      <td>432131.0</td>\n",
       "    </tr>\n",
       "    <tr>\n",
       "      <th>9738</th>\n",
       "      <td>193583</td>\n",
       "      <td>5914996</td>\n",
       "      <td>445030.0</td>\n",
       "    </tr>\n",
       "    <tr>\n",
       "      <th>9739</th>\n",
       "      <td>193585</td>\n",
       "      <td>6397426</td>\n",
       "      <td>479308.0</td>\n",
       "    </tr>\n",
       "    <tr>\n",
       "      <th>9740</th>\n",
       "      <td>193587</td>\n",
       "      <td>8391976</td>\n",
       "      <td>483455.0</td>\n",
       "    </tr>\n",
       "    <tr>\n",
       "      <th>9741</th>\n",
       "      <td>193609</td>\n",
       "      <td>101726</td>\n",
       "      <td>37891.0</td>\n",
       "    </tr>\n",
       "  </tbody>\n",
       "</table>\n",
       "<p>9742 rows × 3 columns</p>\n",
       "</div>"
      ],
      "text/plain": [
       "      movieId   imdbId    tmdbId\n",
       "0           1   114709     862.0\n",
       "1           2   113497    8844.0\n",
       "2           3   113228   15602.0\n",
       "3           4   114885   31357.0\n",
       "4           5   113041   11862.0\n",
       "...       ...      ...       ...\n",
       "9737   193581  5476944  432131.0\n",
       "9738   193583  5914996  445030.0\n",
       "9739   193585  6397426  479308.0\n",
       "9740   193587  8391976  483455.0\n",
       "9741   193609   101726   37891.0\n",
       "\n",
       "[9742 rows x 3 columns]"
      ]
     },
     "execution_count": 17,
     "metadata": {},
     "output_type": "execute_result"
    }
   ],
   "source": [
    "# Loading the datasets\n",
    "links = pd.read_csv(\"Data/links.csv\")\n",
    "movies = pd.read_csv(\"Data/movies.csv\")\n",
    "ratings = pd.read_csv(\"Data/ratings.csv\")\n",
    "tags = pd.read_csv(\"Data/tags.csv\")\n",
    "links"
   ]
  },
  {
   "cell_type": "code",
   "execution_count": 8,
   "id": "d17198db",
   "metadata": {},
   "outputs": [
    {
     "data": {
      "application/vnd.microsoft.datawrangler.viewer.v0+json": {
       "columns": [
        {
         "name": "index",
         "rawType": "int64",
         "type": "integer"
        },
        {
         "name": "movieId",
         "rawType": "int64",
         "type": "integer"
        },
        {
         "name": "title",
         "rawType": "object",
         "type": "string"
        },
        {
         "name": "genres",
         "rawType": "object",
         "type": "string"
        }
       ],
       "ref": "ad2db2c6-c5f7-47c2-8687-3f97cf53afc2",
       "rows": [
        [
         "0",
         "1",
         "Toy Story (1995)",
         "Adventure|Animation|Children|Comedy|Fantasy"
        ],
        [
         "1",
         "2",
         "Jumanji (1995)",
         "Adventure|Children|Fantasy"
        ],
        [
         "2",
         "3",
         "Grumpier Old Men (1995)",
         "Comedy|Romance"
        ],
        [
         "3",
         "4",
         "Waiting to Exhale (1995)",
         "Comedy|Drama|Romance"
        ],
        [
         "4",
         "5",
         "Father of the Bride Part II (1995)",
         "Comedy"
        ],
        [
         "5",
         "6",
         "Heat (1995)",
         "Action|Crime|Thriller"
        ],
        [
         "6",
         "7",
         "Sabrina (1995)",
         "Comedy|Romance"
        ],
        [
         "7",
         "8",
         "Tom and Huck (1995)",
         "Adventure|Children"
        ],
        [
         "8",
         "9",
         "Sudden Death (1995)",
         "Action"
        ],
        [
         "9",
         "10",
         "GoldenEye (1995)",
         "Action|Adventure|Thriller"
        ],
        [
         "10",
         "11",
         "American President, The (1995)",
         "Comedy|Drama|Romance"
        ],
        [
         "11",
         "12",
         "Dracula: Dead and Loving It (1995)",
         "Comedy|Horror"
        ],
        [
         "12",
         "13",
         "Balto (1995)",
         "Adventure|Animation|Children"
        ],
        [
         "13",
         "14",
         "Nixon (1995)",
         "Drama"
        ],
        [
         "14",
         "15",
         "Cutthroat Island (1995)",
         "Action|Adventure|Romance"
        ],
        [
         "15",
         "16",
         "Casino (1995)",
         "Crime|Drama"
        ],
        [
         "16",
         "17",
         "Sense and Sensibility (1995)",
         "Drama|Romance"
        ],
        [
         "17",
         "18",
         "Four Rooms (1995)",
         "Comedy"
        ],
        [
         "18",
         "19",
         "Ace Ventura: When Nature Calls (1995)",
         "Comedy"
        ],
        [
         "19",
         "20",
         "Money Train (1995)",
         "Action|Comedy|Crime|Drama|Thriller"
        ],
        [
         "20",
         "21",
         "Get Shorty (1995)",
         "Comedy|Crime|Thriller"
        ],
        [
         "21",
         "22",
         "Copycat (1995)",
         "Crime|Drama|Horror|Mystery|Thriller"
        ],
        [
         "22",
         "23",
         "Assassins (1995)",
         "Action|Crime|Thriller"
        ],
        [
         "23",
         "24",
         "Powder (1995)",
         "Drama|Sci-Fi"
        ],
        [
         "24",
         "25",
         "Leaving Las Vegas (1995)",
         "Drama|Romance"
        ],
        [
         "25",
         "26",
         "Othello (1995)",
         "Drama"
        ],
        [
         "26",
         "27",
         "Now and Then (1995)",
         "Children|Drama"
        ],
        [
         "27",
         "28",
         "Persuasion (1995)",
         "Drama|Romance"
        ],
        [
         "28",
         "29",
         "City of Lost Children, The (Cité des enfants perdus, La) (1995)",
         "Adventure|Drama|Fantasy|Mystery|Sci-Fi"
        ],
        [
         "29",
         "30",
         "Shanghai Triad (Yao a yao yao dao waipo qiao) (1995)",
         "Crime|Drama"
        ],
        [
         "30",
         "31",
         "Dangerous Minds (1995)",
         "Drama"
        ],
        [
         "31",
         "32",
         "Twelve Monkeys (a.k.a. 12 Monkeys) (1995)",
         "Mystery|Sci-Fi|Thriller"
        ],
        [
         "32",
         "34",
         "Babe (1995)",
         "Children|Drama"
        ],
        [
         "33",
         "36",
         "Dead Man Walking (1995)",
         "Crime|Drama"
        ],
        [
         "34",
         "38",
         "It Takes Two (1995)",
         "Children|Comedy"
        ],
        [
         "35",
         "39",
         "Clueless (1995)",
         "Comedy|Romance"
        ],
        [
         "36",
         "40",
         "Cry, the Beloved Country (1995)",
         "Drama"
        ],
        [
         "37",
         "41",
         "Richard III (1995)",
         "Drama|War"
        ],
        [
         "38",
         "42",
         "Dead Presidents (1995)",
         "Action|Crime|Drama"
        ],
        [
         "39",
         "43",
         "Restoration (1995)",
         "Drama"
        ],
        [
         "40",
         "44",
         "Mortal Kombat (1995)",
         "Action|Adventure|Fantasy"
        ],
        [
         "41",
         "45",
         "To Die For (1995)",
         "Comedy|Drama|Thriller"
        ],
        [
         "42",
         "46",
         "How to Make an American Quilt (1995)",
         "Drama|Romance"
        ],
        [
         "43",
         "47",
         "Seven (a.k.a. Se7en) (1995)",
         "Mystery|Thriller"
        ],
        [
         "44",
         "48",
         "Pocahontas (1995)",
         "Animation|Children|Drama|Musical|Romance"
        ],
        [
         "45",
         "49",
         "When Night Is Falling (1995)",
         "Drama|Romance"
        ],
        [
         "46",
         "50",
         "Usual Suspects, The (1995)",
         "Crime|Mystery|Thriller"
        ],
        [
         "47",
         "52",
         "Mighty Aphrodite (1995)",
         "Comedy|Drama|Romance"
        ],
        [
         "48",
         "53",
         "Lamerica (1994)",
         "Adventure|Drama"
        ],
        [
         "49",
         "54",
         "Big Green, The (1995)",
         "Children|Comedy"
        ]
       ],
       "shape": {
        "columns": 3,
        "rows": 9742
       }
      },
      "text/html": [
       "<div>\n",
       "<style scoped>\n",
       "    .dataframe tbody tr th:only-of-type {\n",
       "        vertical-align: middle;\n",
       "    }\n",
       "\n",
       "    .dataframe tbody tr th {\n",
       "        vertical-align: top;\n",
       "    }\n",
       "\n",
       "    .dataframe thead th {\n",
       "        text-align: right;\n",
       "    }\n",
       "</style>\n",
       "<table border=\"1\" class=\"dataframe\">\n",
       "  <thead>\n",
       "    <tr style=\"text-align: right;\">\n",
       "      <th></th>\n",
       "      <th>movieId</th>\n",
       "      <th>title</th>\n",
       "      <th>genres</th>\n",
       "    </tr>\n",
       "  </thead>\n",
       "  <tbody>\n",
       "    <tr>\n",
       "      <th>0</th>\n",
       "      <td>1</td>\n",
       "      <td>Toy Story (1995)</td>\n",
       "      <td>Adventure|Animation|Children|Comedy|Fantasy</td>\n",
       "    </tr>\n",
       "    <tr>\n",
       "      <th>1</th>\n",
       "      <td>2</td>\n",
       "      <td>Jumanji (1995)</td>\n",
       "      <td>Adventure|Children|Fantasy</td>\n",
       "    </tr>\n",
       "    <tr>\n",
       "      <th>2</th>\n",
       "      <td>3</td>\n",
       "      <td>Grumpier Old Men (1995)</td>\n",
       "      <td>Comedy|Romance</td>\n",
       "    </tr>\n",
       "    <tr>\n",
       "      <th>3</th>\n",
       "      <td>4</td>\n",
       "      <td>Waiting to Exhale (1995)</td>\n",
       "      <td>Comedy|Drama|Romance</td>\n",
       "    </tr>\n",
       "    <tr>\n",
       "      <th>4</th>\n",
       "      <td>5</td>\n",
       "      <td>Father of the Bride Part II (1995)</td>\n",
       "      <td>Comedy</td>\n",
       "    </tr>\n",
       "    <tr>\n",
       "      <th>...</th>\n",
       "      <td>...</td>\n",
       "      <td>...</td>\n",
       "      <td>...</td>\n",
       "    </tr>\n",
       "    <tr>\n",
       "      <th>9737</th>\n",
       "      <td>193581</td>\n",
       "      <td>Black Butler: Book of the Atlantic (2017)</td>\n",
       "      <td>Action|Animation|Comedy|Fantasy</td>\n",
       "    </tr>\n",
       "    <tr>\n",
       "      <th>9738</th>\n",
       "      <td>193583</td>\n",
       "      <td>No Game No Life: Zero (2017)</td>\n",
       "      <td>Animation|Comedy|Fantasy</td>\n",
       "    </tr>\n",
       "    <tr>\n",
       "      <th>9739</th>\n",
       "      <td>193585</td>\n",
       "      <td>Flint (2017)</td>\n",
       "      <td>Drama</td>\n",
       "    </tr>\n",
       "    <tr>\n",
       "      <th>9740</th>\n",
       "      <td>193587</td>\n",
       "      <td>Bungo Stray Dogs: Dead Apple (2018)</td>\n",
       "      <td>Action|Animation</td>\n",
       "    </tr>\n",
       "    <tr>\n",
       "      <th>9741</th>\n",
       "      <td>193609</td>\n",
       "      <td>Andrew Dice Clay: Dice Rules (1991)</td>\n",
       "      <td>Comedy</td>\n",
       "    </tr>\n",
       "  </tbody>\n",
       "</table>\n",
       "<p>9742 rows × 3 columns</p>\n",
       "</div>"
      ],
      "text/plain": [
       "      movieId                                      title  \\\n",
       "0           1                           Toy Story (1995)   \n",
       "1           2                             Jumanji (1995)   \n",
       "2           3                    Grumpier Old Men (1995)   \n",
       "3           4                   Waiting to Exhale (1995)   \n",
       "4           5         Father of the Bride Part II (1995)   \n",
       "...       ...                                        ...   \n",
       "9737   193581  Black Butler: Book of the Atlantic (2017)   \n",
       "9738   193583               No Game No Life: Zero (2017)   \n",
       "9739   193585                               Flint (2017)   \n",
       "9740   193587        Bungo Stray Dogs: Dead Apple (2018)   \n",
       "9741   193609        Andrew Dice Clay: Dice Rules (1991)   \n",
       "\n",
       "                                           genres  \n",
       "0     Adventure|Animation|Children|Comedy|Fantasy  \n",
       "1                      Adventure|Children|Fantasy  \n",
       "2                                  Comedy|Romance  \n",
       "3                            Comedy|Drama|Romance  \n",
       "4                                          Comedy  \n",
       "...                                           ...  \n",
       "9737              Action|Animation|Comedy|Fantasy  \n",
       "9738                     Animation|Comedy|Fantasy  \n",
       "9739                                        Drama  \n",
       "9740                             Action|Animation  \n",
       "9741                                       Comedy  \n",
       "\n",
       "[9742 rows x 3 columns]"
      ]
     },
     "execution_count": 8,
     "metadata": {},
     "output_type": "execute_result"
    }
   ],
   "source": [
    "movies"
   ]
  },
  {
   "cell_type": "code",
   "execution_count": 9,
   "id": "6a827cd6",
   "metadata": {},
   "outputs": [
    {
     "data": {
      "application/vnd.microsoft.datawrangler.viewer.v0+json": {
       "columns": [
        {
         "name": "index",
         "rawType": "int64",
         "type": "integer"
        },
        {
         "name": "userId",
         "rawType": "int64",
         "type": "integer"
        },
        {
         "name": "movieId",
         "rawType": "int64",
         "type": "integer"
        },
        {
         "name": "rating",
         "rawType": "float64",
         "type": "float"
        },
        {
         "name": "timestamp",
         "rawType": "int64",
         "type": "integer"
        }
       ],
       "ref": "f5792e94-11f7-4028-8ab0-4f7552fdd000",
       "rows": [
        [
         "0",
         "1",
         "1",
         "4.0",
         "964982703"
        ],
        [
         "1",
         "1",
         "3",
         "4.0",
         "964981247"
        ],
        [
         "2",
         "1",
         "6",
         "4.0",
         "964982224"
        ],
        [
         "3",
         "1",
         "47",
         "5.0",
         "964983815"
        ],
        [
         "4",
         "1",
         "50",
         "5.0",
         "964982931"
        ],
        [
         "5",
         "1",
         "70",
         "3.0",
         "964982400"
        ],
        [
         "6",
         "1",
         "101",
         "5.0",
         "964980868"
        ],
        [
         "7",
         "1",
         "110",
         "4.0",
         "964982176"
        ],
        [
         "8",
         "1",
         "151",
         "5.0",
         "964984041"
        ],
        [
         "9",
         "1",
         "157",
         "5.0",
         "964984100"
        ],
        [
         "10",
         "1",
         "163",
         "5.0",
         "964983650"
        ],
        [
         "11",
         "1",
         "216",
         "5.0",
         "964981208"
        ],
        [
         "12",
         "1",
         "223",
         "3.0",
         "964980985"
        ],
        [
         "13",
         "1",
         "231",
         "5.0",
         "964981179"
        ],
        [
         "14",
         "1",
         "235",
         "4.0",
         "964980908"
        ],
        [
         "15",
         "1",
         "260",
         "5.0",
         "964981680"
        ],
        [
         "16",
         "1",
         "296",
         "3.0",
         "964982967"
        ],
        [
         "17",
         "1",
         "316",
         "3.0",
         "964982310"
        ],
        [
         "18",
         "1",
         "333",
         "5.0",
         "964981179"
        ],
        [
         "19",
         "1",
         "349",
         "4.0",
         "964982563"
        ],
        [
         "20",
         "1",
         "356",
         "4.0",
         "964980962"
        ],
        [
         "21",
         "1",
         "362",
         "5.0",
         "964982588"
        ],
        [
         "22",
         "1",
         "367",
         "4.0",
         "964981710"
        ],
        [
         "23",
         "1",
         "423",
         "3.0",
         "964982363"
        ],
        [
         "24",
         "1",
         "441",
         "4.0",
         "964980868"
        ],
        [
         "25",
         "1",
         "457",
         "5.0",
         "964981909"
        ],
        [
         "26",
         "1",
         "480",
         "4.0",
         "964982346"
        ],
        [
         "27",
         "1",
         "500",
         "3.0",
         "964981208"
        ],
        [
         "28",
         "1",
         "527",
         "5.0",
         "964984002"
        ],
        [
         "29",
         "1",
         "543",
         "4.0",
         "964981179"
        ],
        [
         "30",
         "1",
         "552",
         "4.0",
         "964982653"
        ],
        [
         "31",
         "1",
         "553",
         "5.0",
         "964984153"
        ],
        [
         "32",
         "1",
         "590",
         "4.0",
         "964982546"
        ],
        [
         "33",
         "1",
         "592",
         "4.0",
         "964982271"
        ],
        [
         "34",
         "1",
         "593",
         "4.0",
         "964983793"
        ],
        [
         "35",
         "1",
         "596",
         "5.0",
         "964982838"
        ],
        [
         "36",
         "1",
         "608",
         "5.0",
         "964982931"
        ],
        [
         "37",
         "1",
         "648",
         "3.0",
         "964982563"
        ],
        [
         "38",
         "1",
         "661",
         "5.0",
         "964982838"
        ],
        [
         "39",
         "1",
         "673",
         "3.0",
         "964981775"
        ],
        [
         "40",
         "1",
         "733",
         "4.0",
         "964982400"
        ],
        [
         "41",
         "1",
         "736",
         "3.0",
         "964982653"
        ],
        [
         "42",
         "1",
         "780",
         "3.0",
         "964984086"
        ],
        [
         "43",
         "1",
         "804",
         "4.0",
         "964980499"
        ],
        [
         "44",
         "1",
         "919",
         "5.0",
         "964982475"
        ],
        [
         "45",
         "1",
         "923",
         "5.0",
         "964981529"
        ],
        [
         "46",
         "1",
         "940",
         "5.0",
         "964982176"
        ],
        [
         "47",
         "1",
         "943",
         "4.0",
         "964983614"
        ],
        [
         "48",
         "1",
         "954",
         "5.0",
         "964983219"
        ],
        [
         "49",
         "1",
         "1009",
         "3.0",
         "964981775"
        ]
       ],
       "shape": {
        "columns": 4,
        "rows": 100836
       }
      },
      "text/html": [
       "<div>\n",
       "<style scoped>\n",
       "    .dataframe tbody tr th:only-of-type {\n",
       "        vertical-align: middle;\n",
       "    }\n",
       "\n",
       "    .dataframe tbody tr th {\n",
       "        vertical-align: top;\n",
       "    }\n",
       "\n",
       "    .dataframe thead th {\n",
       "        text-align: right;\n",
       "    }\n",
       "</style>\n",
       "<table border=\"1\" class=\"dataframe\">\n",
       "  <thead>\n",
       "    <tr style=\"text-align: right;\">\n",
       "      <th></th>\n",
       "      <th>userId</th>\n",
       "      <th>movieId</th>\n",
       "      <th>rating</th>\n",
       "      <th>timestamp</th>\n",
       "    </tr>\n",
       "  </thead>\n",
       "  <tbody>\n",
       "    <tr>\n",
       "      <th>0</th>\n",
       "      <td>1</td>\n",
       "      <td>1</td>\n",
       "      <td>4.0</td>\n",
       "      <td>964982703</td>\n",
       "    </tr>\n",
       "    <tr>\n",
       "      <th>1</th>\n",
       "      <td>1</td>\n",
       "      <td>3</td>\n",
       "      <td>4.0</td>\n",
       "      <td>964981247</td>\n",
       "    </tr>\n",
       "    <tr>\n",
       "      <th>2</th>\n",
       "      <td>1</td>\n",
       "      <td>6</td>\n",
       "      <td>4.0</td>\n",
       "      <td>964982224</td>\n",
       "    </tr>\n",
       "    <tr>\n",
       "      <th>3</th>\n",
       "      <td>1</td>\n",
       "      <td>47</td>\n",
       "      <td>5.0</td>\n",
       "      <td>964983815</td>\n",
       "    </tr>\n",
       "    <tr>\n",
       "      <th>4</th>\n",
       "      <td>1</td>\n",
       "      <td>50</td>\n",
       "      <td>5.0</td>\n",
       "      <td>964982931</td>\n",
       "    </tr>\n",
       "    <tr>\n",
       "      <th>...</th>\n",
       "      <td>...</td>\n",
       "      <td>...</td>\n",
       "      <td>...</td>\n",
       "      <td>...</td>\n",
       "    </tr>\n",
       "    <tr>\n",
       "      <th>100831</th>\n",
       "      <td>610</td>\n",
       "      <td>166534</td>\n",
       "      <td>4.0</td>\n",
       "      <td>1493848402</td>\n",
       "    </tr>\n",
       "    <tr>\n",
       "      <th>100832</th>\n",
       "      <td>610</td>\n",
       "      <td>168248</td>\n",
       "      <td>5.0</td>\n",
       "      <td>1493850091</td>\n",
       "    </tr>\n",
       "    <tr>\n",
       "      <th>100833</th>\n",
       "      <td>610</td>\n",
       "      <td>168250</td>\n",
       "      <td>5.0</td>\n",
       "      <td>1494273047</td>\n",
       "    </tr>\n",
       "    <tr>\n",
       "      <th>100834</th>\n",
       "      <td>610</td>\n",
       "      <td>168252</td>\n",
       "      <td>5.0</td>\n",
       "      <td>1493846352</td>\n",
       "    </tr>\n",
       "    <tr>\n",
       "      <th>100835</th>\n",
       "      <td>610</td>\n",
       "      <td>170875</td>\n",
       "      <td>3.0</td>\n",
       "      <td>1493846415</td>\n",
       "    </tr>\n",
       "  </tbody>\n",
       "</table>\n",
       "<p>100836 rows × 4 columns</p>\n",
       "</div>"
      ],
      "text/plain": [
       "        userId  movieId  rating   timestamp\n",
       "0            1        1     4.0   964982703\n",
       "1            1        3     4.0   964981247\n",
       "2            1        6     4.0   964982224\n",
       "3            1       47     5.0   964983815\n",
       "4            1       50     5.0   964982931\n",
       "...        ...      ...     ...         ...\n",
       "100831     610   166534     4.0  1493848402\n",
       "100832     610   168248     5.0  1493850091\n",
       "100833     610   168250     5.0  1494273047\n",
       "100834     610   168252     5.0  1493846352\n",
       "100835     610   170875     3.0  1493846415\n",
       "\n",
       "[100836 rows x 4 columns]"
      ]
     },
     "execution_count": 9,
     "metadata": {},
     "output_type": "execute_result"
    }
   ],
   "source": [
    "ratings"
   ]
  },
  {
   "cell_type": "code",
   "execution_count": 10,
   "id": "c6af63b6",
   "metadata": {},
   "outputs": [
    {
     "data": {
      "application/vnd.microsoft.datawrangler.viewer.v0+json": {
       "columns": [
        {
         "name": "index",
         "rawType": "int64",
         "type": "integer"
        },
        {
         "name": "userId",
         "rawType": "int64",
         "type": "integer"
        },
        {
         "name": "movieId",
         "rawType": "int64",
         "type": "integer"
        },
        {
         "name": "tag",
         "rawType": "object",
         "type": "string"
        },
        {
         "name": "timestamp",
         "rawType": "int64",
         "type": "integer"
        }
       ],
       "ref": "eed117cb-6589-4c67-82de-46ff610b50c1",
       "rows": [
        [
         "0",
         "2",
         "60756",
         "funny",
         "1445714994"
        ],
        [
         "1",
         "2",
         "60756",
         "Highly quotable",
         "1445714996"
        ],
        [
         "2",
         "2",
         "60756",
         "will ferrell",
         "1445714992"
        ],
        [
         "3",
         "2",
         "89774",
         "Boxing story",
         "1445715207"
        ],
        [
         "4",
         "2",
         "89774",
         "MMA",
         "1445715200"
        ],
        [
         "5",
         "2",
         "89774",
         "Tom Hardy",
         "1445715205"
        ],
        [
         "6",
         "2",
         "106782",
         "drugs",
         "1445715054"
        ],
        [
         "7",
         "2",
         "106782",
         "Leonardo DiCaprio",
         "1445715051"
        ],
        [
         "8",
         "2",
         "106782",
         "Martin Scorsese",
         "1445715056"
        ],
        [
         "9",
         "7",
         "48516",
         "way too long",
         "1169687325"
        ],
        [
         "10",
         "18",
         "431",
         "Al Pacino",
         "1462138765"
        ],
        [
         "11",
         "18",
         "431",
         "gangster",
         "1462138749"
        ],
        [
         "12",
         "18",
         "431",
         "mafia",
         "1462138755"
        ],
        [
         "13",
         "18",
         "1221",
         "Al Pacino",
         "1461699306"
        ],
        [
         "14",
         "18",
         "1221",
         "Mafia",
         "1461699303"
        ],
        [
         "15",
         "18",
         "5995",
         "holocaust",
         "1455735472"
        ],
        [
         "16",
         "18",
         "5995",
         "true story",
         "1455735479"
        ],
        [
         "17",
         "18",
         "44665",
         "twist ending",
         "1456948283"
        ],
        [
         "18",
         "18",
         "52604",
         "Anthony Hopkins",
         "1457650696"
        ],
        [
         "19",
         "18",
         "52604",
         "courtroom drama",
         "1457650711"
        ],
        [
         "20",
         "18",
         "52604",
         "twist ending",
         "1457650682"
        ],
        [
         "21",
         "18",
         "88094",
         "britpop",
         "1457444500"
        ],
        [
         "22",
         "18",
         "88094",
         "indie record label",
         "1457444592"
        ],
        [
         "23",
         "18",
         "88094",
         "music",
         "1457444609"
        ],
        [
         "24",
         "18",
         "144210",
         "dumpster diving",
         "1455060381"
        ],
        [
         "25",
         "18",
         "144210",
         "Sustainability",
         "1455060452"
        ],
        [
         "26",
         "21",
         "1569",
         "romantic comedy",
         "1419805413"
        ],
        [
         "27",
         "21",
         "1569",
         "wedding",
         "1419805419"
        ],
        [
         "28",
         "21",
         "118985",
         "painter",
         "1419805477"
        ],
        [
         "29",
         "21",
         "119141",
         "bloody",
         "1419793962"
        ],
        [
         "30",
         "49",
         "109487",
         "black hole",
         "1493093306"
        ],
        [
         "31",
         "49",
         "109487",
         "sci-fi",
         "1493093332"
        ],
        [
         "32",
         "49",
         "109487",
         "time-travel",
         "1493093356"
        ],
        [
         "33",
         "62",
         "2",
         "fantasy",
         "1528843929"
        ],
        [
         "34",
         "62",
         "2",
         "magic board game",
         "1528843932"
        ],
        [
         "35",
         "62",
         "2",
         "Robin Williams",
         "1528843907"
        ],
        [
         "36",
         "62",
         "110",
         "beautiful scenery",
         "1528152541"
        ],
        [
         "37",
         "62",
         "110",
         "epic",
         "1528152532"
        ],
        [
         "38",
         "62",
         "110",
         "historical",
         "1528152523"
        ],
        [
         "39",
         "62",
         "110",
         "inspirational",
         "1528152527"
        ],
        [
         "40",
         "62",
         "110",
         "Medieval",
         "1528152528"
        ],
        [
         "41",
         "62",
         "110",
         "mel gibson",
         "1528152521"
        ],
        [
         "42",
         "62",
         "110",
         "Oscar (Best Cinematography)",
         "1528152539"
        ],
        [
         "43",
         "62",
         "110",
         "revenge",
         "1528152531"
        ],
        [
         "44",
         "62",
         "110",
         "sword fight",
         "1528152535"
        ],
        [
         "45",
         "62",
         "410",
         "black comedy",
         "1525636607"
        ],
        [
         "46",
         "62",
         "410",
         "Christina Ricci",
         "1525636685"
        ],
        [
         "47",
         "62",
         "410",
         "Christopher Lloyd",
         "1525636622"
        ],
        [
         "48",
         "62",
         "410",
         "dark comedy",
         "1525636610"
        ],
        [
         "49",
         "62",
         "410",
         "family",
         "1525636708"
        ]
       ],
       "shape": {
        "columns": 4,
        "rows": 3683
       }
      },
      "text/html": [
       "<div>\n",
       "<style scoped>\n",
       "    .dataframe tbody tr th:only-of-type {\n",
       "        vertical-align: middle;\n",
       "    }\n",
       "\n",
       "    .dataframe tbody tr th {\n",
       "        vertical-align: top;\n",
       "    }\n",
       "\n",
       "    .dataframe thead th {\n",
       "        text-align: right;\n",
       "    }\n",
       "</style>\n",
       "<table border=\"1\" class=\"dataframe\">\n",
       "  <thead>\n",
       "    <tr style=\"text-align: right;\">\n",
       "      <th></th>\n",
       "      <th>userId</th>\n",
       "      <th>movieId</th>\n",
       "      <th>tag</th>\n",
       "      <th>timestamp</th>\n",
       "    </tr>\n",
       "  </thead>\n",
       "  <tbody>\n",
       "    <tr>\n",
       "      <th>0</th>\n",
       "      <td>2</td>\n",
       "      <td>60756</td>\n",
       "      <td>funny</td>\n",
       "      <td>1445714994</td>\n",
       "    </tr>\n",
       "    <tr>\n",
       "      <th>1</th>\n",
       "      <td>2</td>\n",
       "      <td>60756</td>\n",
       "      <td>Highly quotable</td>\n",
       "      <td>1445714996</td>\n",
       "    </tr>\n",
       "    <tr>\n",
       "      <th>2</th>\n",
       "      <td>2</td>\n",
       "      <td>60756</td>\n",
       "      <td>will ferrell</td>\n",
       "      <td>1445714992</td>\n",
       "    </tr>\n",
       "    <tr>\n",
       "      <th>3</th>\n",
       "      <td>2</td>\n",
       "      <td>89774</td>\n",
       "      <td>Boxing story</td>\n",
       "      <td>1445715207</td>\n",
       "    </tr>\n",
       "    <tr>\n",
       "      <th>4</th>\n",
       "      <td>2</td>\n",
       "      <td>89774</td>\n",
       "      <td>MMA</td>\n",
       "      <td>1445715200</td>\n",
       "    </tr>\n",
       "    <tr>\n",
       "      <th>...</th>\n",
       "      <td>...</td>\n",
       "      <td>...</td>\n",
       "      <td>...</td>\n",
       "      <td>...</td>\n",
       "    </tr>\n",
       "    <tr>\n",
       "      <th>3678</th>\n",
       "      <td>606</td>\n",
       "      <td>7382</td>\n",
       "      <td>for katie</td>\n",
       "      <td>1171234019</td>\n",
       "    </tr>\n",
       "    <tr>\n",
       "      <th>3679</th>\n",
       "      <td>606</td>\n",
       "      <td>7936</td>\n",
       "      <td>austere</td>\n",
       "      <td>1173392334</td>\n",
       "    </tr>\n",
       "    <tr>\n",
       "      <th>3680</th>\n",
       "      <td>610</td>\n",
       "      <td>3265</td>\n",
       "      <td>gun fu</td>\n",
       "      <td>1493843984</td>\n",
       "    </tr>\n",
       "    <tr>\n",
       "      <th>3681</th>\n",
       "      <td>610</td>\n",
       "      <td>3265</td>\n",
       "      <td>heroic bloodshed</td>\n",
       "      <td>1493843978</td>\n",
       "    </tr>\n",
       "    <tr>\n",
       "      <th>3682</th>\n",
       "      <td>610</td>\n",
       "      <td>168248</td>\n",
       "      <td>Heroic Bloodshed</td>\n",
       "      <td>1493844270</td>\n",
       "    </tr>\n",
       "  </tbody>\n",
       "</table>\n",
       "<p>3683 rows × 4 columns</p>\n",
       "</div>"
      ],
      "text/plain": [
       "      userId  movieId               tag   timestamp\n",
       "0          2    60756             funny  1445714994\n",
       "1          2    60756   Highly quotable  1445714996\n",
       "2          2    60756      will ferrell  1445714992\n",
       "3          2    89774      Boxing story  1445715207\n",
       "4          2    89774               MMA  1445715200\n",
       "...      ...      ...               ...         ...\n",
       "3678     606     7382         for katie  1171234019\n",
       "3679     606     7936           austere  1173392334\n",
       "3680     610     3265            gun fu  1493843984\n",
       "3681     610     3265  heroic bloodshed  1493843978\n",
       "3682     610   168248  Heroic Bloodshed  1493844270\n",
       "\n",
       "[3683 rows x 4 columns]"
      ]
     },
     "execution_count": 10,
     "metadata": {},
     "output_type": "execute_result"
    }
   ],
   "source": [
    "tags"
   ]
  },
  {
   "cell_type": "code",
   "execution_count": 26,
   "id": "2b6c953b",
   "metadata": {},
   "outputs": [
    {
     "name": "stdout",
     "output_type": "stream",
     "text": [
      "Links Table\n",
      "movieId    0\n",
      "imdbId     0\n",
      "tmdbId     8\n",
      "dtype: int64\n",
      "\n",
      "Movies Table\n",
      "movieId    0\n",
      "title      0\n",
      "genres     0\n",
      "dtype: int64\n",
      "\n",
      "Ratings Table\n",
      "userId       0\n",
      "movieId      0\n",
      "rating       0\n",
      "timestamp    0\n",
      "dtype: int64\n",
      "\n",
      "Tags Table\n",
      "userId       0\n",
      "movieId      0\n",
      "tag          0\n",
      "timestamp    0\n",
      "dtype: int64\n",
      "\n"
     ]
    }
   ],
   "source": [
    "# Checking for null values\n",
    "print(f\"Links Table\\n{links.isna().sum()}\\n\")\n",
    "print(f\"Movies Table\\n{movies.isna().sum()}\\n\")\n",
    "print(f\"Ratings Table\\n{ratings.isna().sum()}\\n\")\n",
    "print(f\"Tags Table\\n{tags.isna().sum()}\\n\")"
   ]
  },
  {
   "cell_type": "code",
   "execution_count": 25,
   "id": "5b728332",
   "metadata": {},
   "outputs": [
    {
     "data": {
      "application/vnd.microsoft.datawrangler.viewer.v0+json": {
       "columns": [
        {
         "name": "index",
         "rawType": "int64",
         "type": "integer"
        },
        {
         "name": "movieId",
         "rawType": "int64",
         "type": "integer"
        },
        {
         "name": "imdbId",
         "rawType": "int64",
         "type": "integer"
        },
        {
         "name": "tmdbId",
         "rawType": "float64",
         "type": "float"
        }
       ],
       "ref": "44cf889d-5b95-420e-abdd-05e2c0cc2ea1",
       "rows": [
        [
         "624",
         "791",
         "113610",
         null
        ],
        [
         "843",
         "1107",
         "102336",
         null
        ],
        [
         "2141",
         "2851",
         "81454",
         null
        ],
        [
         "3027",
         "4051",
         "56600",
         null
        ],
        [
         "5532",
         "26587",
         "92337",
         null
        ],
        [
         "5854",
         "32600",
         "377059",
         null
        ],
        [
         "6059",
         "40697",
         "105946",
         null
        ],
        [
         "7382",
         "79299",
         "874957",
         null
        ]
       ],
       "shape": {
        "columns": 3,
        "rows": 8
       }
      },
      "text/html": [
       "<div>\n",
       "<style scoped>\n",
       "    .dataframe tbody tr th:only-of-type {\n",
       "        vertical-align: middle;\n",
       "    }\n",
       "\n",
       "    .dataframe tbody tr th {\n",
       "        vertical-align: top;\n",
       "    }\n",
       "\n",
       "    .dataframe thead th {\n",
       "        text-align: right;\n",
       "    }\n",
       "</style>\n",
       "<table border=\"1\" class=\"dataframe\">\n",
       "  <thead>\n",
       "    <tr style=\"text-align: right;\">\n",
       "      <th></th>\n",
       "      <th>movieId</th>\n",
       "      <th>imdbId</th>\n",
       "      <th>tmdbId</th>\n",
       "    </tr>\n",
       "  </thead>\n",
       "  <tbody>\n",
       "    <tr>\n",
       "      <th>624</th>\n",
       "      <td>791</td>\n",
       "      <td>113610</td>\n",
       "      <td>NaN</td>\n",
       "    </tr>\n",
       "    <tr>\n",
       "      <th>843</th>\n",
       "      <td>1107</td>\n",
       "      <td>102336</td>\n",
       "      <td>NaN</td>\n",
       "    </tr>\n",
       "    <tr>\n",
       "      <th>2141</th>\n",
       "      <td>2851</td>\n",
       "      <td>81454</td>\n",
       "      <td>NaN</td>\n",
       "    </tr>\n",
       "    <tr>\n",
       "      <th>3027</th>\n",
       "      <td>4051</td>\n",
       "      <td>56600</td>\n",
       "      <td>NaN</td>\n",
       "    </tr>\n",
       "    <tr>\n",
       "      <th>5532</th>\n",
       "      <td>26587</td>\n",
       "      <td>92337</td>\n",
       "      <td>NaN</td>\n",
       "    </tr>\n",
       "    <tr>\n",
       "      <th>5854</th>\n",
       "      <td>32600</td>\n",
       "      <td>377059</td>\n",
       "      <td>NaN</td>\n",
       "    </tr>\n",
       "    <tr>\n",
       "      <th>6059</th>\n",
       "      <td>40697</td>\n",
       "      <td>105946</td>\n",
       "      <td>NaN</td>\n",
       "    </tr>\n",
       "    <tr>\n",
       "      <th>7382</th>\n",
       "      <td>79299</td>\n",
       "      <td>874957</td>\n",
       "      <td>NaN</td>\n",
       "    </tr>\n",
       "  </tbody>\n",
       "</table>\n",
       "</div>"
      ],
      "text/plain": [
       "      movieId  imdbId  tmdbId\n",
       "624       791  113610     NaN\n",
       "843      1107  102336     NaN\n",
       "2141     2851   81454     NaN\n",
       "3027     4051   56600     NaN\n",
       "5532    26587   92337     NaN\n",
       "5854    32600  377059     NaN\n",
       "6059    40697  105946     NaN\n",
       "7382    79299  874957     NaN"
      ]
     },
     "execution_count": 25,
     "metadata": {},
     "output_type": "execute_result"
    }
   ],
   "source": [
    "links[links[\"tmdbId\"].isnull()]"
   ]
  }
 ],
 "metadata": {
  "kernelspec": {
   "display_name": "ds-env",
   "language": "python",
   "name": "python3"
  },
  "language_info": {
   "codemirror_mode": {
    "name": "ipython",
    "version": 3
   },
   "file_extension": ".py",
   "mimetype": "text/x-python",
   "name": "python",
   "nbconvert_exporter": "python",
   "pygments_lexer": "ipython3",
   "version": "3.11.7"
  }
 },
 "nbformat": 4,
 "nbformat_minor": 5
}
