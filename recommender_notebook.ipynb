{
 "cells": [
  {
   "cell_type": "markdown",
   "id": "85eb44f9",
   "metadata": {},
   "source": [
    "# Couch-Potato Movie Recommendation System\n",
    "\n",
    "# Business Understanding\n",
    "\n",
    "## 1. Project Objective\n",
    "\n",
    "Our team is building a movie recommendation system using the MovieLens dataset (100,000 user ratings) to provide personalized movie suggestions. The primary goal is to recommend the top 5 movies a user is most likely to enjoy based on their historical rating patterns.\n",
    "\n",
    "## 2. Problem Statement\n",
    "\n",
    "Users often struggle to discover movies that match their preferences when faced with large movie catalogs. Without personalized recommendations, users may:\n",
    "- Spend excessive time browsing without finding suitable content\n",
    "- Miss movies they would enjoy\n",
    "- Experience decision fatigue leading to reduced engagement\n",
    "\n",
    "Our recommendation system addresses this by analyzing user rating patterns to surface movies that align with their tastes.\n",
    "\n",
    "## 3. Technical Approach\n",
    "\n",
    "We will implement **Collaborative Filtering (CF)** as our core recommendation methodology. Collaborative filtering works by identifying users with similar movie preferences and recommending movies that similar users have enjoyed.\n",
    "\n",
    "**How it works:**\n",
    "- When a user rates movies, the system finds other users with similar rating patterns\n",
    "- The system identifies movies that similar users rated highly but our target user hasn't seen\n",
    "- These movies become our recommendations\n",
    "\n",
    "**Input**: User's existing movie ratings  \n",
    "**Output**: Top 5 personalized movie recommendations\n",
    "\n",
    "## 4. Key Challenges\n",
    "\n",
    "**Sparse Data**: Most users rate only a small fraction of available movies, making it harder to find similar users and identify patterns.\n",
    "\n",
    "**Cold Start Problem**: Users with few ratings are particularly challenging for collaborative filtering, which relies on having enough rating history to find meaningful similarities with other users. We need to ensure our system can provide reasonable recommendations even for users with limited rating history.\n",
    "\n",
    "## 5. Success Metrics\n",
    "\n",
    "We will evaluate our recommendation system using multiple metrics:\n",
    "\n",
    "- **RMSE (Root Mean Squared Error)**: Measures how accurately we can predict what rating a user would give to recommended movies\n",
    "  - *Target*: RMSE < 1.0 (within 1 star of actual rating)\n",
    "  \n",
    "- **Precision@5**: What proportion of our top 5 recommendations are actually good matches that users would rate highly\n",
    "\n",
    "- **Coverage**: Percentage of users for whom we can generate meaningful recommendations\n",
    "\n",
    "- **User Segment Performance**: Evaluate how well the system performs for users with different amounts of rating history (e.g., 5 ratings vs 50+ ratings)\n",
    "\n",
    "## 6. Expected Outcomes\n",
    "\n",
    "By implementing collaborative filtering, we aim to deliver a recommendation system that helps users discover movies they'll enjoy, reducing search time and improving their overall experience with the movie catalog."
   ]
  },
  {
   "cell_type": "markdown",
   "id": "da40f2ee",
   "metadata": {},
   "source": [
    "# Data Understanding"
   ]
  },
  {
   "cell_type": "code",
   "execution_count": 1,
   "id": "1421ec27",
   "metadata": {},
   "outputs": [],
   "source": [
    "# import relevant libraries\n",
    "import pandas as pd\n",
    "import numpy as np\n",
    "\n",
    "#visualization libraries\n",
    "import seaborn as sns\n",
    "import matplotlib.pyplot as plt\n",
    "%matplotlib inline\n"
   ]
  },
  {
   "cell_type": "markdown",
   "id": "e3a66718",
   "metadata": {},
   "source": [
    "## 1. Links Dataset"
   ]
  },
  {
   "cell_type": "code",
   "execution_count": 2,
   "id": "9c9a666a",
   "metadata": {},
   "outputs": [
    {
     "data": {
      "application/vnd.microsoft.datawrangler.viewer.v0+json": {
       "columns": [
        {
         "name": "index",
         "rawType": "int64",
         "type": "integer"
        },
        {
         "name": "movieId",
         "rawType": "int64",
         "type": "integer"
        },
        {
         "name": "imdbId",
         "rawType": "int64",
         "type": "integer"
        },
        {
         "name": "tmdbId",
         "rawType": "float64",
         "type": "float"
        }
       ],
       "ref": "beb93060-a008-45c6-8493-da693d413733",
       "rows": [
        [
         "0",
         "1",
         "114709",
         "862.0"
        ],
        [
         "1",
         "2",
         "113497",
         "8844.0"
        ],
        [
         "2",
         "3",
         "113228",
         "15602.0"
        ],
        [
         "3",
         "4",
         "114885",
         "31357.0"
        ],
        [
         "4",
         "5",
         "113041",
         "11862.0"
        ],
        [
         "5",
         "6",
         "113277",
         "949.0"
        ],
        [
         "6",
         "7",
         "114319",
         "11860.0"
        ],
        [
         "7",
         "8",
         "112302",
         "45325.0"
        ],
        [
         "8",
         "9",
         "114576",
         "9091.0"
        ],
        [
         "9",
         "10",
         "113189",
         "710.0"
        ],
        [
         "10",
         "11",
         "112346",
         "9087.0"
        ],
        [
         "11",
         "12",
         "112896",
         "12110.0"
        ],
        [
         "12",
         "13",
         "112453",
         "21032.0"
        ],
        [
         "13",
         "14",
         "113987",
         "10858.0"
        ],
        [
         "14",
         "15",
         "112760",
         "1408.0"
        ],
        [
         "15",
         "16",
         "112641",
         "524.0"
        ],
        [
         "16",
         "17",
         "114388",
         "4584.0"
        ],
        [
         "17",
         "18",
         "113101",
         "5.0"
        ],
        [
         "18",
         "19",
         "112281",
         "9273.0"
        ],
        [
         "19",
         "20",
         "113845",
         "11517.0"
        ],
        [
         "20",
         "21",
         "113161",
         "8012.0"
        ],
        [
         "21",
         "22",
         "112722",
         "1710.0"
        ],
        [
         "22",
         "23",
         "112401",
         "9691.0"
        ],
        [
         "23",
         "24",
         "114168",
         "12665.0"
        ],
        [
         "24",
         "25",
         "113627",
         "451.0"
        ],
        [
         "25",
         "26",
         "114057",
         "16420.0"
        ],
        [
         "26",
         "27",
         "114011",
         "9263.0"
        ],
        [
         "27",
         "28",
         "114117",
         "17015.0"
        ],
        [
         "28",
         "29",
         "112682",
         "902.0"
        ],
        [
         "29",
         "30",
         "115012",
         "37557.0"
        ],
        [
         "30",
         "31",
         "112792",
         "9909.0"
        ],
        [
         "31",
         "32",
         "114746",
         "63.0"
        ],
        [
         "32",
         "34",
         "112431",
         "9598.0"
        ],
        [
         "33",
         "36",
         "112818",
         "687.0"
        ],
        [
         "34",
         "38",
         "113442",
         "33689.0"
        ],
        [
         "35",
         "39",
         "112697",
         "9603.0"
        ],
        [
         "36",
         "40",
         "112749",
         "34615.0"
        ],
        [
         "37",
         "41",
         "114279",
         "31174.0"
        ],
        [
         "38",
         "42",
         "112819",
         "11443.0"
        ],
        [
         "39",
         "43",
         "114272",
         "35196.0"
        ],
        [
         "40",
         "44",
         "113855",
         "9312.0"
        ],
        [
         "41",
         "45",
         "114681",
         "577.0"
        ],
        [
         "42",
         "46",
         "113347",
         "11861.0"
        ],
        [
         "43",
         "47",
         "114369",
         "807.0"
        ],
        [
         "44",
         "48",
         "114148",
         "10530.0"
        ],
        [
         "45",
         "49",
         "114916",
         "8391.0"
        ],
        [
         "46",
         "50",
         "114814",
         "629.0"
        ],
        [
         "47",
         "52",
         "113819",
         "11448.0"
        ],
        [
         "48",
         "53",
         "110299",
         "49133.0"
        ],
        [
         "49",
         "54",
         "112499",
         "26441.0"
        ]
       ],
       "shape": {
        "columns": 3,
        "rows": 9742
       }
      },
      "text/html": [
       "<div>\n",
       "<style scoped>\n",
       "    .dataframe tbody tr th:only-of-type {\n",
       "        vertical-align: middle;\n",
       "    }\n",
       "\n",
       "    .dataframe tbody tr th {\n",
       "        vertical-align: top;\n",
       "    }\n",
       "\n",
       "    .dataframe thead th {\n",
       "        text-align: right;\n",
       "    }\n",
       "</style>\n",
       "<table border=\"1\" class=\"dataframe\">\n",
       "  <thead>\n",
       "    <tr style=\"text-align: right;\">\n",
       "      <th></th>\n",
       "      <th>movieId</th>\n",
       "      <th>imdbId</th>\n",
       "      <th>tmdbId</th>\n",
       "    </tr>\n",
       "  </thead>\n",
       "  <tbody>\n",
       "    <tr>\n",
       "      <th>0</th>\n",
       "      <td>1</td>\n",
       "      <td>114709</td>\n",
       "      <td>862.0</td>\n",
       "    </tr>\n",
       "    <tr>\n",
       "      <th>1</th>\n",
       "      <td>2</td>\n",
       "      <td>113497</td>\n",
       "      <td>8844.0</td>\n",
       "    </tr>\n",
       "    <tr>\n",
       "      <th>2</th>\n",
       "      <td>3</td>\n",
       "      <td>113228</td>\n",
       "      <td>15602.0</td>\n",
       "    </tr>\n",
       "    <tr>\n",
       "      <th>3</th>\n",
       "      <td>4</td>\n",
       "      <td>114885</td>\n",
       "      <td>31357.0</td>\n",
       "    </tr>\n",
       "    <tr>\n",
       "      <th>4</th>\n",
       "      <td>5</td>\n",
       "      <td>113041</td>\n",
       "      <td>11862.0</td>\n",
       "    </tr>\n",
       "    <tr>\n",
       "      <th>...</th>\n",
       "      <td>...</td>\n",
       "      <td>...</td>\n",
       "      <td>...</td>\n",
       "    </tr>\n",
       "    <tr>\n",
       "      <th>9737</th>\n",
       "      <td>193581</td>\n",
       "      <td>5476944</td>\n",
       "      <td>432131.0</td>\n",
       "    </tr>\n",
       "    <tr>\n",
       "      <th>9738</th>\n",
       "      <td>193583</td>\n",
       "      <td>5914996</td>\n",
       "      <td>445030.0</td>\n",
       "    </tr>\n",
       "    <tr>\n",
       "      <th>9739</th>\n",
       "      <td>193585</td>\n",
       "      <td>6397426</td>\n",
       "      <td>479308.0</td>\n",
       "    </tr>\n",
       "    <tr>\n",
       "      <th>9740</th>\n",
       "      <td>193587</td>\n",
       "      <td>8391976</td>\n",
       "      <td>483455.0</td>\n",
       "    </tr>\n",
       "    <tr>\n",
       "      <th>9741</th>\n",
       "      <td>193609</td>\n",
       "      <td>101726</td>\n",
       "      <td>37891.0</td>\n",
       "    </tr>\n",
       "  </tbody>\n",
       "</table>\n",
       "<p>9742 rows × 3 columns</p>\n",
       "</div>"
      ],
      "text/plain": [
       "      movieId   imdbId    tmdbId\n",
       "0           1   114709     862.0\n",
       "1           2   113497    8844.0\n",
       "2           3   113228   15602.0\n",
       "3           4   114885   31357.0\n",
       "4           5   113041   11862.0\n",
       "...       ...      ...       ...\n",
       "9737   193581  5476944  432131.0\n",
       "9738   193583  5914996  445030.0\n",
       "9739   193585  6397426  479308.0\n",
       "9740   193587  8391976  483455.0\n",
       "9741   193609   101726   37891.0\n",
       "\n",
       "[9742 rows x 3 columns]"
      ]
     },
     "execution_count": 2,
     "metadata": {},
     "output_type": "execute_result"
    }
   ],
   "source": [
    "links_df = pd.read_csv(\"Data/links.csv\")\n",
    "links_df"
   ]
  },
  {
   "cell_type": "markdown",
   "id": "d26f2b7f",
   "metadata": {},
   "source": [
    "### Dataset Description\n",
    "* `movieId` is an identifier for movies used by [MovieLens](https://movielens.org). \n",
    "* `imdbId` is an identifier for movies used by [IMDb](http://www.imdb.com).\n",
    "* `tmdbId` is an identifier for movies used by [TMDb](https://www.themoviedb.org)."
   ]
  },
  {
   "cell_type": "code",
   "execution_count": 3,
   "id": "389ad471",
   "metadata": {},
   "outputs": [
    {
     "data": {
      "application/vnd.microsoft.datawrangler.viewer.v0+json": {
       "columns": [
        {
         "name": "index",
         "rawType": "int64",
         "type": "integer"
        },
        {
         "name": "movieId",
         "rawType": "int64",
         "type": "integer"
        },
        {
         "name": "imdbId",
         "rawType": "int64",
         "type": "integer"
        },
        {
         "name": "tmdbId",
         "rawType": "float64",
         "type": "float"
        }
       ],
       "ref": "e5227a17-df07-4bbe-bb60-ab25247ef098",
       "rows": [
        [
         "0",
         "1",
         "114709",
         "862.0"
        ],
        [
         "1",
         "2",
         "113497",
         "8844.0"
        ],
        [
         "2",
         "3",
         "113228",
         "15602.0"
        ],
        [
         "3",
         "4",
         "114885",
         "31357.0"
        ],
        [
         "4",
         "5",
         "113041",
         "11862.0"
        ]
       ],
       "shape": {
        "columns": 3,
        "rows": 5
       }
      },
      "text/html": [
       "<div>\n",
       "<style scoped>\n",
       "    .dataframe tbody tr th:only-of-type {\n",
       "        vertical-align: middle;\n",
       "    }\n",
       "\n",
       "    .dataframe tbody tr th {\n",
       "        vertical-align: top;\n",
       "    }\n",
       "\n",
       "    .dataframe thead th {\n",
       "        text-align: right;\n",
       "    }\n",
       "</style>\n",
       "<table border=\"1\" class=\"dataframe\">\n",
       "  <thead>\n",
       "    <tr style=\"text-align: right;\">\n",
       "      <th></th>\n",
       "      <th>movieId</th>\n",
       "      <th>imdbId</th>\n",
       "      <th>tmdbId</th>\n",
       "    </tr>\n",
       "  </thead>\n",
       "  <tbody>\n",
       "    <tr>\n",
       "      <th>0</th>\n",
       "      <td>1</td>\n",
       "      <td>114709</td>\n",
       "      <td>862.0</td>\n",
       "    </tr>\n",
       "    <tr>\n",
       "      <th>1</th>\n",
       "      <td>2</td>\n",
       "      <td>113497</td>\n",
       "      <td>8844.0</td>\n",
       "    </tr>\n",
       "    <tr>\n",
       "      <th>2</th>\n",
       "      <td>3</td>\n",
       "      <td>113228</td>\n",
       "      <td>15602.0</td>\n",
       "    </tr>\n",
       "    <tr>\n",
       "      <th>3</th>\n",
       "      <td>4</td>\n",
       "      <td>114885</td>\n",
       "      <td>31357.0</td>\n",
       "    </tr>\n",
       "    <tr>\n",
       "      <th>4</th>\n",
       "      <td>5</td>\n",
       "      <td>113041</td>\n",
       "      <td>11862.0</td>\n",
       "    </tr>\n",
       "  </tbody>\n",
       "</table>\n",
       "</div>"
      ],
      "text/plain": [
       "   movieId  imdbId   tmdbId\n",
       "0        1  114709    862.0\n",
       "1        2  113497   8844.0\n",
       "2        3  113228  15602.0\n",
       "3        4  114885  31357.0\n",
       "4        5  113041  11862.0"
      ]
     },
     "execution_count": 3,
     "metadata": {},
     "output_type": "execute_result"
    }
   ],
   "source": [
    "#check the first 5 rows\n",
    "links_df.head()"
   ]
  },
  {
   "cell_type": "code",
   "execution_count": 4,
   "id": "39480136",
   "metadata": {},
   "outputs": [
    {
     "data": {
      "application/vnd.microsoft.datawrangler.viewer.v0+json": {
       "columns": [
        {
         "name": "index",
         "rawType": "int64",
         "type": "integer"
        },
        {
         "name": "movieId",
         "rawType": "int64",
         "type": "integer"
        },
        {
         "name": "imdbId",
         "rawType": "int64",
         "type": "integer"
        },
        {
         "name": "tmdbId",
         "rawType": "float64",
         "type": "float"
        }
       ],
       "ref": "8041ef5c-30e3-4f67-88b7-e300c20ecd25",
       "rows": [
        [
         "9737",
         "193581",
         "5476944",
         "432131.0"
        ],
        [
         "9738",
         "193583",
         "5914996",
         "445030.0"
        ],
        [
         "9739",
         "193585",
         "6397426",
         "479308.0"
        ],
        [
         "9740",
         "193587",
         "8391976",
         "483455.0"
        ],
        [
         "9741",
         "193609",
         "101726",
         "37891.0"
        ]
       ],
       "shape": {
        "columns": 3,
        "rows": 5
       }
      },
      "text/html": [
       "<div>\n",
       "<style scoped>\n",
       "    .dataframe tbody tr th:only-of-type {\n",
       "        vertical-align: middle;\n",
       "    }\n",
       "\n",
       "    .dataframe tbody tr th {\n",
       "        vertical-align: top;\n",
       "    }\n",
       "\n",
       "    .dataframe thead th {\n",
       "        text-align: right;\n",
       "    }\n",
       "</style>\n",
       "<table border=\"1\" class=\"dataframe\">\n",
       "  <thead>\n",
       "    <tr style=\"text-align: right;\">\n",
       "      <th></th>\n",
       "      <th>movieId</th>\n",
       "      <th>imdbId</th>\n",
       "      <th>tmdbId</th>\n",
       "    </tr>\n",
       "  </thead>\n",
       "  <tbody>\n",
       "    <tr>\n",
       "      <th>9737</th>\n",
       "      <td>193581</td>\n",
       "      <td>5476944</td>\n",
       "      <td>432131.0</td>\n",
       "    </tr>\n",
       "    <tr>\n",
       "      <th>9738</th>\n",
       "      <td>193583</td>\n",
       "      <td>5914996</td>\n",
       "      <td>445030.0</td>\n",
       "    </tr>\n",
       "    <tr>\n",
       "      <th>9739</th>\n",
       "      <td>193585</td>\n",
       "      <td>6397426</td>\n",
       "      <td>479308.0</td>\n",
       "    </tr>\n",
       "    <tr>\n",
       "      <th>9740</th>\n",
       "      <td>193587</td>\n",
       "      <td>8391976</td>\n",
       "      <td>483455.0</td>\n",
       "    </tr>\n",
       "    <tr>\n",
       "      <th>9741</th>\n",
       "      <td>193609</td>\n",
       "      <td>101726</td>\n",
       "      <td>37891.0</td>\n",
       "    </tr>\n",
       "  </tbody>\n",
       "</table>\n",
       "</div>"
      ],
      "text/plain": [
       "      movieId   imdbId    tmdbId\n",
       "9737   193581  5476944  432131.0\n",
       "9738   193583  5914996  445030.0\n",
       "9739   193585  6397426  479308.0\n",
       "9740   193587  8391976  483455.0\n",
       "9741   193609   101726   37891.0"
      ]
     },
     "execution_count": 4,
     "metadata": {},
     "output_type": "execute_result"
    }
   ],
   "source": [
    "#check the last 5 rows\n",
    "links_df.tail()"
   ]
  },
  {
   "cell_type": "markdown",
   "id": "dcb135be",
   "metadata": {},
   "source": [
    "The dataset is uniform from start to finish."
   ]
  },
  {
   "cell_type": "code",
   "execution_count": 5,
   "id": "fc226dd6",
   "metadata": {},
   "outputs": [
    {
     "name": "stdout",
     "output_type": "stream",
     "text": [
      "The links dataset has 9742 rows and 3 columns.\n"
     ]
    }
   ],
   "source": [
    "#check shape\n",
    "print(f\"The links dataset has {links_df.shape[0]} rows and {links_df.shape[1]} columns.\")"
   ]
  },
  {
   "cell_type": "code",
   "execution_count": 6,
   "id": "9061afbb",
   "metadata": {},
   "outputs": [
    {
     "name": "stdout",
     "output_type": "stream",
     "text": [
      "<class 'pandas.core.frame.DataFrame'>\n",
      "RangeIndex: 9742 entries, 0 to 9741\n",
      "Data columns (total 3 columns):\n",
      " #   Column   Non-Null Count  Dtype  \n",
      "---  ------   --------------  -----  \n",
      " 0   movieId  9742 non-null   int64  \n",
      " 1   imdbId   9742 non-null   int64  \n",
      " 2   tmdbId   9734 non-null   float64\n",
      "dtypes: float64(1), int64(2)\n",
      "memory usage: 228.5 KB\n"
     ]
    }
   ],
   "source": [
    "#get metadata\n",
    "links_df.info()"
   ]
  },
  {
   "cell_type": "markdown",
   "id": "6e4e456f",
   "metadata": {},
   "source": [
    "**Observation**\n",
    "\n",
    "The links dataset has 3 columns of numerical data type and 8 nulls in the tmdbId column."
   ]
  },
  {
   "cell_type": "code",
   "execution_count": 7,
   "id": "fbaf9274",
   "metadata": {},
   "outputs": [
    {
     "data": {
      "application/vnd.microsoft.datawrangler.viewer.v0+json": {
       "columns": [
        {
         "name": "index",
         "rawType": "object",
         "type": "string"
        },
        {
         "name": "count",
         "rawType": "float64",
         "type": "float"
        },
        {
         "name": "mean",
         "rawType": "float64",
         "type": "float"
        },
        {
         "name": "std",
         "rawType": "float64",
         "type": "float"
        },
        {
         "name": "min",
         "rawType": "float64",
         "type": "float"
        },
        {
         "name": "25%",
         "rawType": "float64",
         "type": "float"
        },
        {
         "name": "50%",
         "rawType": "float64",
         "type": "float"
        },
        {
         "name": "75%",
         "rawType": "float64",
         "type": "float"
        },
        {
         "name": "max",
         "rawType": "float64",
         "type": "float"
        }
       ],
       "ref": "69e5105d-9f6b-4861-8e43-fe86f21da935",
       "rows": [
        [
         "movieId",
         "9742.0",
         "42200.353623485935",
         "52160.494854438315",
         "1.0",
         "3248.25",
         "7300.0",
         "76232.0",
         "193609.0"
        ],
        [
         "imdbId",
         "9742.0",
         "677183.8981728598",
         "1107227.576759764",
         "417.0",
         "95180.75",
         "167260.5",
         "805568.5",
         "8391976.0"
        ],
        [
         "tmdbId",
         "9734.0",
         "55162.123792890896",
         "93653.48148734073",
         "2.0",
         "9665.5",
         "16529.0",
         "44205.75",
         "525662.0"
        ]
       ],
       "shape": {
        "columns": 8,
        "rows": 3
       }
      },
      "text/html": [
       "<div>\n",
       "<style scoped>\n",
       "    .dataframe tbody tr th:only-of-type {\n",
       "        vertical-align: middle;\n",
       "    }\n",
       "\n",
       "    .dataframe tbody tr th {\n",
       "        vertical-align: top;\n",
       "    }\n",
       "\n",
       "    .dataframe thead th {\n",
       "        text-align: right;\n",
       "    }\n",
       "</style>\n",
       "<table border=\"1\" class=\"dataframe\">\n",
       "  <thead>\n",
       "    <tr style=\"text-align: right;\">\n",
       "      <th></th>\n",
       "      <th>count</th>\n",
       "      <th>mean</th>\n",
       "      <th>std</th>\n",
       "      <th>min</th>\n",
       "      <th>25%</th>\n",
       "      <th>50%</th>\n",
       "      <th>75%</th>\n",
       "      <th>max</th>\n",
       "    </tr>\n",
       "  </thead>\n",
       "  <tbody>\n",
       "    <tr>\n",
       "      <th>movieId</th>\n",
       "      <td>9742.0</td>\n",
       "      <td>42200.353623</td>\n",
       "      <td>5.216049e+04</td>\n",
       "      <td>1.0</td>\n",
       "      <td>3248.25</td>\n",
       "      <td>7300.0</td>\n",
       "      <td>76232.00</td>\n",
       "      <td>193609.0</td>\n",
       "    </tr>\n",
       "    <tr>\n",
       "      <th>imdbId</th>\n",
       "      <td>9742.0</td>\n",
       "      <td>677183.898173</td>\n",
       "      <td>1.107228e+06</td>\n",
       "      <td>417.0</td>\n",
       "      <td>95180.75</td>\n",
       "      <td>167260.5</td>\n",
       "      <td>805568.50</td>\n",
       "      <td>8391976.0</td>\n",
       "    </tr>\n",
       "    <tr>\n",
       "      <th>tmdbId</th>\n",
       "      <td>9734.0</td>\n",
       "      <td>55162.123793</td>\n",
       "      <td>9.365348e+04</td>\n",
       "      <td>2.0</td>\n",
       "      <td>9665.50</td>\n",
       "      <td>16529.0</td>\n",
       "      <td>44205.75</td>\n",
       "      <td>525662.0</td>\n",
       "    </tr>\n",
       "  </tbody>\n",
       "</table>\n",
       "</div>"
      ],
      "text/plain": [
       "          count           mean           std    min       25%       50%  \\\n",
       "movieId  9742.0   42200.353623  5.216049e+04    1.0   3248.25    7300.0   \n",
       "imdbId   9742.0  677183.898173  1.107228e+06  417.0  95180.75  167260.5   \n",
       "tmdbId   9734.0   55162.123793  9.365348e+04    2.0   9665.50   16529.0   \n",
       "\n",
       "               75%        max  \n",
       "movieId   76232.00   193609.0  \n",
       "imdbId   805568.50  8391976.0  \n",
       "tmdbId    44205.75   525662.0  "
      ]
     },
     "execution_count": 7,
     "metadata": {},
     "output_type": "execute_result"
    }
   ],
   "source": [
    "#check statistical summary\n",
    "links_df.describe().T"
   ]
  },
  {
   "cell_type": "code",
   "execution_count": 8,
   "id": "404d1335",
   "metadata": {},
   "outputs": [
    {
     "name": "stdout",
     "output_type": "stream",
     "text": [
      " The links dataset has 8 null values.\n"
     ]
    }
   ],
   "source": [
    "#check nulls\n",
    "print(f\" The links dataset has {links_df.isna().sum().sum()} null values.\")"
   ]
  },
  {
   "cell_type": "code",
   "execution_count": 9,
   "id": "5667498f",
   "metadata": {},
   "outputs": [
    {
     "name": "stdout",
     "output_type": "stream",
     "text": [
      "The links dataset has 0 duplicates.\n"
     ]
    }
   ],
   "source": [
    "#check duplicates\n",
    "print(f\"The links dataset has {links_df.duplicated().sum()} duplicates.\")"
   ]
  },
  {
   "cell_type": "code",
   "execution_count": 10,
   "id": "398e0dc0",
   "metadata": {},
   "outputs": [
    {
     "data": {
      "image/png": "[encoded data removed]",
      "text/plain": [
       "<Figure size 640x480 with 1 Axes>"
      ]
     },
     "metadata": {},
     "output_type": "display_data"
    }
   ],
   "source": [
    "#check for outliers\n",
    "sns.boxplot(links_df);"
   ]
  },
  {
   "cell_type": "markdown",
   "id": "c576abb8",
   "metadata": {},
   "source": [
    "**Observation**\n",
    "\n",
    "The links dataset seems to have many outliers in the `imdbId` column but they are genuine outliers; so we will keep them."
   ]
  },
  {
   "cell_type": "markdown",
   "id": "53c3e90e",
   "metadata": {},
   "source": [
    "## 2. Movies Dataset"
   ]
  },
  {
   "cell_type": "code",
   "execution_count": 11,
   "id": "de34914d",
   "metadata": {},
   "outputs": [
    {
     "data": {
      "application/vnd.microsoft.datawrangler.viewer.v0+json": {
       "columns": [
        {
         "name": "index",
         "rawType": "int64",
         "type": "integer"
        },
        {
         "name": "movieId",
         "rawType": "int64",
         "type": "integer"
        },
        {
         "name": "title",
         "rawType": "object",
         "type": "string"
        },
        {
         "name": "genres",
         "rawType": "object",
         "type": "string"
        }
       ],
       "ref": "d25dbc96-a8aa-4d34-8d7c-a520ab627cb8",
       "rows": [
        [
         "0",
         "1",
         "Toy Story (1995)",
         "Adventure|Animation|Children|Comedy|Fantasy"
        ],
        [
         "1",
         "2",
         "Jumanji (1995)",
         "Adventure|Children|Fantasy"
        ],
        [
         "2",
         "3",
         "Grumpier Old Men (1995)",
         "Comedy|Romance"
        ],
        [
         "3",
         "4",
         "Waiting to Exhale (1995)",
         "Comedy|Drama|Romance"
        ],
        [
         "4",
         "5",
         "Father of the Bride Part II (1995)",
         "Comedy"
        ],
        [
         "5",
         "6",
         "Heat (1995)",
         "Action|Crime|Thriller"
        ],
        [
         "6",
         "7",
         "Sabrina (1995)",
         "Comedy|Romance"
        ],
        [
         "7",
         "8",
         "Tom and Huck (1995)",
         "Adventure|Children"
        ],
        [
         "8",
         "9",
         "Sudden Death (1995)",
         "Action"
        ],
        [
         "9",
         "10",
         "GoldenEye (1995)",
         "Action|Adventure|Thriller"
        ],
        [
         "10",
         "11",
         "American President, The (1995)",
         "Comedy|Drama|Romance"
        ],
        [
         "11",
         "12",
         "Dracula: Dead and Loving It (1995)",
         "Comedy|Horror"
        ],
        [
         "12",
         "13",
         "Balto (1995)",
         "Adventure|Animation|Children"
        ],
        [
         "13",
         "14",
         "Nixon (1995)",
         "Drama"
        ],
        [
         "14",
         "15",
         "Cutthroat Island (1995)",
         "Action|Adventure|Romance"
        ],
        [
         "15",
         "16",
         "Casino (1995)",
         "Crime|Drama"
        ],
        [
         "16",
         "17",
         "Sense and Sensibility (1995)",
         "Drama|Romance"
        ],
        [
         "17",
         "18",
         "Four Rooms (1995)",
         "Comedy"
        ],
        [
         "18",
         "19",
         "Ace Ventura: When Nature Calls (1995)",
         "Comedy"
        ],
        [
         "19",
         "20",
         "Money Train (1995)",
         "Action|Comedy|Crime|Drama|Thriller"
        ],
        [
         "20",
         "21",
         "Get Shorty (1995)",
         "Comedy|Crime|Thriller"
        ],
        [
         "21",
         "22",
         "Copycat (1995)",
         "Crime|Drama|Horror|Mystery|Thriller"
        ],
        [
         "22",
         "23",
         "Assassins (1995)",
         "Action|Crime|Thriller"
        ],
        [
         "23",
         "24",
         "Powder (1995)",
         "Drama|Sci-Fi"
        ],
        [
         "24",
         "25",
         "Leaving Las Vegas (1995)",
         "Drama|Romance"
        ],
        [
         "25",
         "26",
         "Othello (1995)",
         "Drama"
        ],
        [
         "26",
         "27",
         "Now and Then (1995)",
         "Children|Drama"
        ],
        [
         "27",
         "28",
         "Persuasion (1995)",
         "Drama|Romance"
        ],
        [
         "28",
         "29",
         "City of Lost Children, The (Cité des enfants perdus, La) (1995)",
         "Adventure|Drama|Fantasy|Mystery|Sci-Fi"
        ],
        [
         "29",
         "30",
         "Shanghai Triad (Yao a yao yao dao waipo qiao) (1995)",
         "Crime|Drama"
        ],
        [
         "30",
         "31",
         "Dangerous Minds (1995)",
         "Drama"
        ],
        [
         "31",
         "32",
         "Twelve Monkeys (a.k.a. 12 Monkeys) (1995)",
         "Mystery|Sci-Fi|Thriller"
        ],
        [
         "32",
         "34",
         "Babe (1995)",
         "Children|Drama"
        ],
        [
         "33",
         "36",
         "Dead Man Walking (1995)",
         "Crime|Drama"
        ],
        [
         "34",
         "38",
         "It Takes Two (1995)",
         "Children|Comedy"
        ],
        [
         "35",
         "39",
         "Clueless (1995)",
         "Comedy|Romance"
        ],
        [
         "36",
         "40",
         "Cry, the Beloved Country (1995)",
         "Drama"
        ],
        [
         "37",
         "41",
         "Richard III (1995)",
         "Drama|War"
        ],
        [
         "38",
         "42",
         "Dead Presidents (1995)",
         "Action|Crime|Drama"
        ],
        [
         "39",
         "43",
         "Restoration (1995)",
         "Drama"
        ],
        [
         "40",
         "44",
         "Mortal Kombat (1995)",
         "Action|Adventure|Fantasy"
        ],
        [
         "41",
         "45",
         "To Die For (1995)",
         "Comedy|Drama|Thriller"
        ],
        [
         "42",
         "46",
         "How to Make an American Quilt (1995)",
         "Drama|Romance"
        ],
        [
         "43",
         "47",
         "Seven (a.k.a. Se7en) (1995)",
         "Mystery|Thriller"
        ],
        [
         "44",
         "48",
         "Pocahontas (1995)",
         "Animation|Children|Drama|Musical|Romance"
        ],
        [
         "45",
         "49",
         "When Night Is Falling (1995)",
         "Drama|Romance"
        ],
        [
         "46",
         "50",
         "Usual Suspects, The (1995)",
         "Crime|Mystery|Thriller"
        ],
        [
         "47",
         "52",
         "Mighty Aphrodite (1995)",
         "Comedy|Drama|Romance"
        ],
        [
         "48",
         "53",
         "Lamerica (1994)",
         "Adventure|Drama"
        ],
        [
         "49",
         "54",
         "Big Green, The (1995)",
         "Children|Comedy"
        ]
       ],
       "shape": {
        "columns": 3,
        "rows": 9742
       }
      },
      "text/html": [
       "<div>\n",
       "<style scoped>\n",
       "    .dataframe tbody tr th:only-of-type {\n",
       "        vertical-align: middle;\n",
       "    }\n",
       "\n",
       "    .dataframe tbody tr th {\n",
       "        vertical-align: top;\n",
       "    }\n",
       "\n",
       "    .dataframe thead th {\n",
       "        text-align: right;\n",
       "    }\n",
       "</style>\n",
       "<table border=\"1\" class=\"dataframe\">\n",
       "  <thead>\n",
       "    <tr style=\"text-align: right;\">\n",
       "      <th></th>\n",
       "      <th>movieId</th>\n",
       "      <th>title</th>\n",
       "      <th>genres</th>\n",
       "    </tr>\n",
       "  </thead>\n",
       "  <tbody>\n",
       "    <tr>\n",
       "      <th>0</th>\n",
       "      <td>1</td>\n",
       "      <td>Toy Story (1995)</td>\n",
       "      <td>Adventure|Animation|Children|Comedy|Fantasy</td>\n",
       "    </tr>\n",
       "    <tr>\n",
       "      <th>1</th>\n",
       "      <td>2</td>\n",
       "      <td>Jumanji (1995)</td>\n",
       "      <td>Adventure|Children|Fantasy</td>\n",
       "    </tr>\n",
       "    <tr>\n",
       "      <th>2</th>\n",
       "      <td>3</td>\n",
       "      <td>Grumpier Old Men (1995)</td>\n",
       "      <td>Comedy|Romance</td>\n",
       "    </tr>\n",
       "    <tr>\n",
       "      <th>3</th>\n",
       "      <td>4</td>\n",
       "      <td>Waiting to Exhale (1995)</td>\n",
       "      <td>Comedy|Drama|Romance</td>\n",
       "    </tr>\n",
       "    <tr>\n",
       "      <th>4</th>\n",
       "      <td>5</td>\n",
       "      <td>Father of the Bride Part II (1995)</td>\n",
       "      <td>Comedy</td>\n",
       "    </tr>\n",
       "    <tr>\n",
       "      <th>...</th>\n",
       "      <td>...</td>\n",
       "      <td>...</td>\n",
       "      <td>...</td>\n",
       "    </tr>\n",
       "    <tr>\n",
       "      <th>9737</th>\n",
       "      <td>193581</td>\n",
       "      <td>Black Butler: Book of the Atlantic (2017)</td>\n",
       "      <td>Action|Animation|Comedy|Fantasy</td>\n",
       "    </tr>\n",
       "    <tr>\n",
       "      <th>9738</th>\n",
       "      <td>193583</td>\n",
       "      <td>No Game No Life: Zero (2017)</td>\n",
       "      <td>Animation|Comedy|Fantasy</td>\n",
       "    </tr>\n",
       "    <tr>\n",
       "      <th>9739</th>\n",
       "      <td>193585</td>\n",
       "      <td>Flint (2017)</td>\n",
       "      <td>Drama</td>\n",
       "    </tr>\n",
       "    <tr>\n",
       "      <th>9740</th>\n",
       "      <td>193587</td>\n",
       "      <td>Bungo Stray Dogs: Dead Apple (2018)</td>\n",
       "      <td>Action|Animation</td>\n",
       "    </tr>\n",
       "    <tr>\n",
       "      <th>9741</th>\n",
       "      <td>193609</td>\n",
       "      <td>Andrew Dice Clay: Dice Rules (1991)</td>\n",
       "      <td>Comedy</td>\n",
       "    </tr>\n",
       "  </tbody>\n",
       "</table>\n",
       "<p>9742 rows × 3 columns</p>\n",
       "</div>"
      ],
      "text/plain": [
       "      movieId                                      title  \\\n",
       "0           1                           Toy Story (1995)   \n",
       "1           2                             Jumanji (1995)   \n",
       "2           3                    Grumpier Old Men (1995)   \n",
       "3           4                   Waiting to Exhale (1995)   \n",
       "4           5         Father of the Bride Part II (1995)   \n",
       "...       ...                                        ...   \n",
       "9737   193581  Black Butler: Book of the Atlantic (2017)   \n",
       "9738   193583               No Game No Life: Zero (2017)   \n",
       "9739   193585                               Flint (2017)   \n",
       "9740   193587        Bungo Stray Dogs: Dead Apple (2018)   \n",
       "9741   193609        Andrew Dice Clay: Dice Rules (1991)   \n",
       "\n",
       "                                           genres  \n",
       "0     Adventure|Animation|Children|Comedy|Fantasy  \n",
       "1                      Adventure|Children|Fantasy  \n",
       "2                                  Comedy|Romance  \n",
       "3                            Comedy|Drama|Romance  \n",
       "4                                          Comedy  \n",
       "...                                           ...  \n",
       "9737              Action|Animation|Comedy|Fantasy  \n",
       "9738                     Animation|Comedy|Fantasy  \n",
       "9739                                        Drama  \n",
       "9740                             Action|Animation  \n",
       "9741                                       Comedy  \n",
       "\n",
       "[9742 rows x 3 columns]"
      ]
     },
     "execution_count": 11,
     "metadata": {},
     "output_type": "execute_result"
    }
   ],
   "source": [
    "#load and read dataset\n",
    "movies_df = pd.read_csv(\"Data/movies.csv\")\n",
    "movies_df"
   ]
  },
  {
   "cell_type": "markdown",
   "id": "e1c5857a",
   "metadata": {},
   "source": [
    "### Dataset Description  \n",
    "\n",
    "1. `title` is the name of a film and includes the year of release in parentheses.\n",
    "\n",
    "2. These are the `genres` present in the dataset:\n",
    "\n",
    "* Action\n",
    "* Adventure\n",
    "* Animation\n",
    "* Children's\n",
    "* Comedy\n",
    "* Crime\n",
    "* Documentary\n",
    "* Drama\n",
    "* Fantasy\n",
    "* Film-Noir\n",
    "* Horror\n",
    "* Musical\n",
    "* Mystery\n",
    "* Romance\n",
    "* Sci-Fi\n",
    "* Thriller\n",
    "* War\n",
    "* Western"
   ]
  },
  {
   "cell_type": "code",
   "execution_count": 12,
   "id": "8b6298a9",
   "metadata": {},
   "outputs": [
    {
     "data": {
      "application/vnd.microsoft.datawrangler.viewer.v0+json": {
       "columns": [
        {
         "name": "index",
         "rawType": "int64",
         "type": "integer"
        },
        {
         "name": "movieId",
         "rawType": "int64",
         "type": "integer"
        },
        {
         "name": "title",
         "rawType": "object",
         "type": "string"
        },
        {
         "name": "genres",
         "rawType": "object",
         "type": "string"
        }
       ],
       "ref": "a220a406-612b-403e-8161-55295d0e31c8",
       "rows": [
        [
         "0",
         "1",
         "Toy Story (1995)",
         "Adventure|Animation|Children|Comedy|Fantasy"
        ],
        [
         "1",
         "2",
         "Jumanji (1995)",
         "Adventure|Children|Fantasy"
        ],
        [
         "2",
         "3",
         "Grumpier Old Men (1995)",
         "Comedy|Romance"
        ],
        [
         "3",
         "4",
         "Waiting to Exhale (1995)",
         "Comedy|Drama|Romance"
        ],
        [
         "4",
         "5",
         "Father of the Bride Part II (1995)",
         "Comedy"
        ]
       ],
       "shape": {
        "columns": 3,
        "rows": 5
       }
      },
      "text/html": [
       "<div>\n",
       "<style scoped>\n",
       "    .dataframe tbody tr th:only-of-type {\n",
       "        vertical-align: middle;\n",
       "    }\n",
       "\n",
       "    .dataframe tbody tr th {\n",
       "        vertical-align: top;\n",
       "    }\n",
       "\n",
       "    .dataframe thead th {\n",
       "        text-align: right;\n",
       "    }\n",
       "</style>\n",
       "<table border=\"1\" class=\"dataframe\">\n",
       "  <thead>\n",
       "    <tr style=\"text-align: right;\">\n",
       "      <th></th>\n",
       "      <th>movieId</th>\n",
       "      <th>title</th>\n",
       "      <th>genres</th>\n",
       "    </tr>\n",
       "  </thead>\n",
       "  <tbody>\n",
       "    <tr>\n",
       "      <th>0</th>\n",
       "      <td>1</td>\n",
       "      <td>Toy Story (1995)</td>\n",
       "      <td>Adventure|Animation|Children|Comedy|Fantasy</td>\n",
       "    </tr>\n",
       "    <tr>\n",
       "      <th>1</th>\n",
       "      <td>2</td>\n",
       "      <td>Jumanji (1995)</td>\n",
       "      <td>Adventure|Children|Fantasy</td>\n",
       "    </tr>\n",
       "    <tr>\n",
       "      <th>2</th>\n",
       "      <td>3</td>\n",
       "      <td>Grumpier Old Men (1995)</td>\n",
       "      <td>Comedy|Romance</td>\n",
       "    </tr>\n",
       "    <tr>\n",
       "      <th>3</th>\n",
       "      <td>4</td>\n",
       "      <td>Waiting to Exhale (1995)</td>\n",
       "      <td>Comedy|Drama|Romance</td>\n",
       "    </tr>\n",
       "    <tr>\n",
       "      <th>4</th>\n",
       "      <td>5</td>\n",
       "      <td>Father of the Bride Part II (1995)</td>\n",
       "      <td>Comedy</td>\n",
       "    </tr>\n",
       "  </tbody>\n",
       "</table>\n",
       "</div>"
      ],
      "text/plain": [
       "   movieId                               title  \\\n",
       "0        1                    Toy Story (1995)   \n",
       "1        2                      Jumanji (1995)   \n",
       "2        3             Grumpier Old Men (1995)   \n",
       "3        4            Waiting to Exhale (1995)   \n",
       "4        5  Father of the Bride Part II (1995)   \n",
       "\n",
       "                                        genres  \n",
       "0  Adventure|Animation|Children|Comedy|Fantasy  \n",
       "1                   Adventure|Children|Fantasy  \n",
       "2                               Comedy|Romance  \n",
       "3                         Comedy|Drama|Romance  \n",
       "4                                       Comedy  "
      ]
     },
     "execution_count": 12,
     "metadata": {},
     "output_type": "execute_result"
    }
   ],
   "source": [
    "#check the first 5 rows\n",
    "movies_df.head()"
   ]
  },
  {
   "cell_type": "code",
   "execution_count": 13,
   "id": "bbf03181",
   "metadata": {},
   "outputs": [
    {
     "data": {
      "application/vnd.microsoft.datawrangler.viewer.v0+json": {
       "columns": [
        {
         "name": "index",
         "rawType": "int64",
         "type": "integer"
        },
        {
         "name": "movieId",
         "rawType": "int64",
         "type": "integer"
        },
        {
         "name": "title",
         "rawType": "object",
         "type": "string"
        },
        {
         "name": "genres",
         "rawType": "object",
         "type": "string"
        }
       ],
       "ref": "f99be5d9-baff-48ce-a4a1-c77304b7c2f4",
       "rows": [
        [
         "9737",
         "193581",
         "Black Butler: Book of the Atlantic (2017)",
         "Action|Animation|Comedy|Fantasy"
        ],
        [
         "9738",
         "193583",
         "No Game No Life: Zero (2017)",
         "Animation|Comedy|Fantasy"
        ],
        [
         "9739",
         "193585",
         "Flint (2017)",
         "Drama"
        ],
        [
         "9740",
         "193587",
         "Bungo Stray Dogs: Dead Apple (2018)",
         "Action|Animation"
        ],
        [
         "9741",
         "193609",
         "Andrew Dice Clay: Dice Rules (1991)",
         "Comedy"
        ]
       ],
       "shape": {
        "columns": 3,
        "rows": 5
       }
      },
      "text/html": [
       "<div>\n",
       "<style scoped>\n",
       "    .dataframe tbody tr th:only-of-type {\n",
       "        vertical-align: middle;\n",
       "    }\n",
       "\n",
       "    .dataframe tbody tr th {\n",
       "        vertical-align: top;\n",
       "    }\n",
       "\n",
       "    .dataframe thead th {\n",
       "        text-align: right;\n",
       "    }\n",
       "</style>\n",
       "<table border=\"1\" class=\"dataframe\">\n",
       "  <thead>\n",
       "    <tr style=\"text-align: right;\">\n",
       "      <th></th>\n",
       "      <th>movieId</th>\n",
       "      <th>title</th>\n",
       "      <th>genres</th>\n",
       "    </tr>\n",
       "  </thead>\n",
       "  <tbody>\n",
       "    <tr>\n",
       "      <th>9737</th>\n",
       "      <td>193581</td>\n",
       "      <td>Black Butler: Book of the Atlantic (2017)</td>\n",
       "      <td>Action|Animation|Comedy|Fantasy</td>\n",
       "    </tr>\n",
       "    <tr>\n",
       "      <th>9738</th>\n",
       "      <td>193583</td>\n",
       "      <td>No Game No Life: Zero (2017)</td>\n",
       "      <td>Animation|Comedy|Fantasy</td>\n",
       "    </tr>\n",
       "    <tr>\n",
       "      <th>9739</th>\n",
       "      <td>193585</td>\n",
       "      <td>Flint (2017)</td>\n",
       "      <td>Drama</td>\n",
       "    </tr>\n",
       "    <tr>\n",
       "      <th>9740</th>\n",
       "      <td>193587</td>\n",
       "      <td>Bungo Stray Dogs: Dead Apple (2018)</td>\n",
       "      <td>Action|Animation</td>\n",
       "    </tr>\n",
       "    <tr>\n",
       "      <th>9741</th>\n",
       "      <td>193609</td>\n",
       "      <td>Andrew Dice Clay: Dice Rules (1991)</td>\n",
       "      <td>Comedy</td>\n",
       "    </tr>\n",
       "  </tbody>\n",
       "</table>\n",
       "</div>"
      ],
      "text/plain": [
       "      movieId                                      title  \\\n",
       "9737   193581  Black Butler: Book of the Atlantic (2017)   \n",
       "9738   193583               No Game No Life: Zero (2017)   \n",
       "9739   193585                               Flint (2017)   \n",
       "9740   193587        Bungo Stray Dogs: Dead Apple (2018)   \n",
       "9741   193609        Andrew Dice Clay: Dice Rules (1991)   \n",
       "\n",
       "                               genres  \n",
       "9737  Action|Animation|Comedy|Fantasy  \n",
       "9738         Animation|Comedy|Fantasy  \n",
       "9739                            Drama  \n",
       "9740                 Action|Animation  \n",
       "9741                           Comedy  "
      ]
     },
     "execution_count": 13,
     "metadata": {},
     "output_type": "execute_result"
    }
   ],
   "source": [
    "#check the last 5 rows\n",
    "movies_df.tail()"
   ]
  },
  {
   "cell_type": "markdown",
   "id": "7386759d",
   "metadata": {},
   "source": [
    "**Observation**\n",
    "\n",
    "The movies dataset is uniform from start to finish."
   ]
  },
  {
   "cell_type": "code",
   "execution_count": 14,
   "id": "afe6ebe6",
   "metadata": {},
   "outputs": [
    {
     "name": "stdout",
     "output_type": "stream",
     "text": [
      "<class 'pandas.core.frame.DataFrame'>\n",
      "RangeIndex: 9742 entries, 0 to 9741\n",
      "Data columns (total 3 columns):\n",
      " #   Column   Non-Null Count  Dtype \n",
      "---  ------   --------------  ----- \n",
      " 0   movieId  9742 non-null   int64 \n",
      " 1   title    9742 non-null   object\n",
      " 2   genres   9742 non-null   object\n",
      "dtypes: int64(1), object(2)\n",
      "memory usage: 228.5+ KB\n"
     ]
    }
   ],
   "source": [
    "#get metadata\n",
    "movies_df.info()"
   ]
  },
  {
   "cell_type": "markdown",
   "id": "5557c5d0",
   "metadata": {},
   "source": [
    "**Observation**\n",
    "\n",
    "The movies dataset has one numerical column and 2 categorical columns."
   ]
  },
  {
   "cell_type": "code",
   "execution_count": 15,
   "id": "882d69fa",
   "metadata": {},
   "outputs": [
    {
     "name": "stdout",
     "output_type": "stream",
     "text": [
      "The movies dataset has 9742 rows and 3 columns.\n"
     ]
    }
   ],
   "source": [
    "#check shape\n",
    "print(f\"The movies dataset has {movies_df.shape[0]} rows and {movies_df.shape[1]} columns.\")"
   ]
  },
  {
   "cell_type": "code",
   "execution_count": 16,
   "id": "d736d5b7",
   "metadata": {},
   "outputs": [
    {
     "data": {
      "application/vnd.microsoft.datawrangler.viewer.v0+json": {
       "columns": [
        {
         "name": "index",
         "rawType": "object",
         "type": "string"
        },
        {
         "name": "count",
         "rawType": "float64",
         "type": "float"
        },
        {
         "name": "mean",
         "rawType": "float64",
         "type": "float"
        },
        {
         "name": "std",
         "rawType": "float64",
         "type": "float"
        },
        {
         "name": "min",
         "rawType": "float64",
         "type": "float"
        },
        {
         "name": "25%",
         "rawType": "float64",
         "type": "float"
        },
        {
         "name": "50%",
         "rawType": "float64",
         "type": "float"
        },
        {
         "name": "75%",
         "rawType": "float64",
         "type": "float"
        },
        {
         "name": "max",
         "rawType": "float64",
         "type": "float"
        }
       ],
       "ref": "26a27b42-1074-47d3-8eec-91fa8754e019",
       "rows": [
        [
         "movieId",
         "9742.0",
         "42200.353623485935",
         "52160.494854438315",
         "1.0",
         "3248.25",
         "7300.0",
         "76232.0",
         "193609.0"
        ]
       ],
       "shape": {
        "columns": 8,
        "rows": 1
       }
      },
      "text/html": [
       "<div>\n",
       "<style scoped>\n",
       "    .dataframe tbody tr th:only-of-type {\n",
       "        vertical-align: middle;\n",
       "    }\n",
       "\n",
       "    .dataframe tbody tr th {\n",
       "        vertical-align: top;\n",
       "    }\n",
       "\n",
       "    .dataframe thead th {\n",
       "        text-align: right;\n",
       "    }\n",
       "</style>\n",
       "<table border=\"1\" class=\"dataframe\">\n",
       "  <thead>\n",
       "    <tr style=\"text-align: right;\">\n",
       "      <th></th>\n",
       "      <th>count</th>\n",
       "      <th>mean</th>\n",
       "      <th>std</th>\n",
       "      <th>min</th>\n",
       "      <th>25%</th>\n",
       "      <th>50%</th>\n",
       "      <th>75%</th>\n",
       "      <th>max</th>\n",
       "    </tr>\n",
       "  </thead>\n",
       "  <tbody>\n",
       "    <tr>\n",
       "      <th>movieId</th>\n",
       "      <td>9742.0</td>\n",
       "      <td>42200.353623</td>\n",
       "      <td>52160.494854</td>\n",
       "      <td>1.0</td>\n",
       "      <td>3248.25</td>\n",
       "      <td>7300.0</td>\n",
       "      <td>76232.0</td>\n",
       "      <td>193609.0</td>\n",
       "    </tr>\n",
       "  </tbody>\n",
       "</table>\n",
       "</div>"
      ],
      "text/plain": [
       "          count          mean           std  min      25%     50%      75%  \\\n",
       "movieId  9742.0  42200.353623  52160.494854  1.0  3248.25  7300.0  76232.0   \n",
       "\n",
       "              max  \n",
       "movieId  193609.0  "
      ]
     },
     "execution_count": 16,
     "metadata": {},
     "output_type": "execute_result"
    }
   ],
   "source": [
    "#statistical summary of the numerical column\n",
    "movies_df.describe().T"
   ]
  },
  {
   "cell_type": "code",
   "execution_count": 17,
   "id": "ee4a404e",
   "metadata": {},
   "outputs": [
    {
     "data": {
      "application/vnd.microsoft.datawrangler.viewer.v0+json": {
       "columns": [
        {
         "name": "index",
         "rawType": "object",
         "type": "string"
        },
        {
         "name": "count",
         "rawType": "object",
         "type": "unknown"
        },
        {
         "name": "unique",
         "rawType": "object",
         "type": "unknown"
        },
        {
         "name": "top",
         "rawType": "object",
         "type": "string"
        },
        {
         "name": "freq",
         "rawType": "object",
         "type": "unknown"
        }
       ],
       "ref": "d01d0028-d5b6-4d8c-abc3-ede6be1e8ae3",
       "rows": [
        [
         "title",
         "9742",
         "9737",
         "Emma (1996)",
         "2"
        ],
        [
         "genres",
         "9742",
         "951",
         "Drama",
         "1053"
        ]
       ],
       "shape": {
        "columns": 4,
        "rows": 2
       }
      },
      "text/html": [
       "<div>\n",
       "<style scoped>\n",
       "    .dataframe tbody tr th:only-of-type {\n",
       "        vertical-align: middle;\n",
       "    }\n",
       "\n",
       "    .dataframe tbody tr th {\n",
       "        vertical-align: top;\n",
       "    }\n",
       "\n",
       "    .dataframe thead th {\n",
       "        text-align: right;\n",
       "    }\n",
       "</style>\n",
       "<table border=\"1\" class=\"dataframe\">\n",
       "  <thead>\n",
       "    <tr style=\"text-align: right;\">\n",
       "      <th></th>\n",
       "      <th>count</th>\n",
       "      <th>unique</th>\n",
       "      <th>top</th>\n",
       "      <th>freq</th>\n",
       "    </tr>\n",
       "  </thead>\n",
       "  <tbody>\n",
       "    <tr>\n",
       "      <th>title</th>\n",
       "      <td>9742</td>\n",
       "      <td>9737</td>\n",
       "      <td>Emma (1996)</td>\n",
       "      <td>2</td>\n",
       "    </tr>\n",
       "    <tr>\n",
       "      <th>genres</th>\n",
       "      <td>9742</td>\n",
       "      <td>951</td>\n",
       "      <td>Drama</td>\n",
       "      <td>1053</td>\n",
       "    </tr>\n",
       "  </tbody>\n",
       "</table>\n",
       "</div>"
      ],
      "text/plain": [
       "       count unique          top  freq\n",
       "title   9742   9737  Emma (1996)     2\n",
       "genres  9742    951        Drama  1053"
      ]
     },
     "execution_count": 17,
     "metadata": {},
     "output_type": "execute_result"
    }
   ],
   "source": [
    "#statistical summary of the categorical columns\n",
    "movies_df.describe(include=\"object\").T"
   ]
  },
  {
   "cell_type": "code",
   "execution_count": 18,
   "id": "b54a9b34",
   "metadata": {},
   "outputs": [
    {
     "name": "stdout",
     "output_type": "stream",
     "text": [
      " The movies dataset has 0 null values.\n"
     ]
    }
   ],
   "source": [
    "#check nulls\n",
    "print(f\" The movies dataset has {movies_df.isna().sum().sum()} null values.\")"
   ]
  },
  {
   "cell_type": "code",
   "execution_count": 19,
   "id": "7ccc23cd",
   "metadata": {},
   "outputs": [
    {
     "name": "stdout",
     "output_type": "stream",
     "text": [
      "The movies dataset has 0 duplicates.\n"
     ]
    }
   ],
   "source": [
    "#check duplicates\n",
    "print(f\"The movies dataset has {movies_df.duplicated().sum()} duplicates.\")"
   ]
  },
  {
   "cell_type": "code",
   "execution_count": 20,
   "id": "6829317d",
   "metadata": {},
   "outputs": [
    {
     "data": {
      "image/png": "[encoded data removed]",
      "text/plain": [
       "<Figure size 640x480 with 1 Axes>"
      ]
     },
     "metadata": {},
     "output_type": "display_data"
    }
   ],
   "source": [
    "#check for outliers\n",
    "sns.boxplot(movies_df);"
   ]
  },
  {
   "cell_type": "markdown",
   "id": "407f0d21",
   "metadata": {},
   "source": [
    "**Observation**\n",
    "\n",
    "The movies dataset has no outliers."
   ]
  },
  {
   "cell_type": "markdown",
   "id": "4c235d11",
   "metadata": {},
   "source": [
    "## 3. Ratings Dataset"
   ]
  },
  {
   "cell_type": "code",
   "execution_count": 21,
   "id": "c33530d1",
   "metadata": {},
   "outputs": [
    {
     "data": {
      "application/vnd.microsoft.datawrangler.viewer.v0+json": {
       "columns": [
        {
         "name": "index",
         "rawType": "int64",
         "type": "integer"
        },
        {
         "name": "userId",
         "rawType": "int64",
         "type": "integer"
        },
        {
         "name": "movieId",
         "rawType": "int64",
         "type": "integer"
        },
        {
         "name": "rating",
         "rawType": "float64",
         "type": "float"
        },
        {
         "name": "timestamp",
         "rawType": "int64",
         "type": "integer"
        }
       ],
       "ref": "ec219949-b23f-452f-b45d-c92a82db2bc2",
       "rows": [
        [
         "0",
         "1",
         "1",
         "4.0",
         "964982703"
        ],
        [
         "1",
         "1",
         "3",
         "4.0",
         "964981247"
        ],
        [
         "2",
         "1",
         "6",
         "4.0",
         "964982224"
        ],
        [
         "3",
         "1",
         "47",
         "5.0",
         "964983815"
        ],
        [
         "4",
         "1",
         "50",
         "5.0",
         "964982931"
        ],
        [
         "5",
         "1",
         "70",
         "3.0",
         "964982400"
        ],
        [
         "6",
         "1",
         "101",
         "5.0",
         "964980868"
        ],
        [
         "7",
         "1",
         "110",
         "4.0",
         "964982176"
        ],
        [
         "8",
         "1",
         "151",
         "5.0",
         "964984041"
        ],
        [
         "9",
         "1",
         "157",
         "5.0",
         "964984100"
        ],
        [
         "10",
         "1",
         "163",
         "5.0",
         "964983650"
        ],
        [
         "11",
         "1",
         "216",
         "5.0",
         "964981208"
        ],
        [
         "12",
         "1",
         "223",
         "3.0",
         "964980985"
        ],
        [
         "13",
         "1",
         "231",
         "5.0",
         "964981179"
        ],
        [
         "14",
         "1",
         "235",
         "4.0",
         "964980908"
        ],
        [
         "15",
         "1",
         "260",
         "5.0",
         "964981680"
        ],
        [
         "16",
         "1",
         "296",
         "3.0",
         "964982967"
        ],
        [
         "17",
         "1",
         "316",
         "3.0",
         "964982310"
        ],
        [
         "18",
         "1",
         "333",
         "5.0",
         "964981179"
        ],
        [
         "19",
         "1",
         "349",
         "4.0",
         "964982563"
        ],
        [
         "20",
         "1",
         "356",
         "4.0",
         "964980962"
        ],
        [
         "21",
         "1",
         "362",
         "5.0",
         "964982588"
        ],
        [
         "22",
         "1",
         "367",
         "4.0",
         "964981710"
        ],
        [
         "23",
         "1",
         "423",
         "3.0",
         "964982363"
        ],
        [
         "24",
         "1",
         "441",
         "4.0",
         "964980868"
        ],
        [
         "25",
         "1",
         "457",
         "5.0",
         "964981909"
        ],
        [
         "26",
         "1",
         "480",
         "4.0",
         "964982346"
        ],
        [
         "27",
         "1",
         "500",
         "3.0",
         "964981208"
        ],
        [
         "28",
         "1",
         "527",
         "5.0",
         "964984002"
        ],
        [
         "29",
         "1",
         "543",
         "4.0",
         "964981179"
        ],
        [
         "30",
         "1",
         "552",
         "4.0",
         "964982653"
        ],
        [
         "31",
         "1",
         "553",
         "5.0",
         "964984153"
        ],
        [
         "32",
         "1",
         "590",
         "4.0",
         "964982546"
        ],
        [
         "33",
         "1",
         "592",
         "4.0",
         "964982271"
        ],
        [
         "34",
         "1",
         "593",
         "4.0",
         "964983793"
        ],
        [
         "35",
         "1",
         "596",
         "5.0",
         "964982838"
        ],
        [
         "36",
         "1",
         "608",
         "5.0",
         "964982931"
        ],
        [
         "37",
         "1",
         "648",
         "3.0",
         "964982563"
        ],
        [
         "38",
         "1",
         "661",
         "5.0",
         "964982838"
        ],
        [
         "39",
         "1",
         "673",
         "3.0",
         "964981775"
        ],
        [
         "40",
         "1",
         "733",
         "4.0",
         "964982400"
        ],
        [
         "41",
         "1",
         "736",
         "3.0",
         "964982653"
        ],
        [
         "42",
         "1",
         "780",
         "3.0",
         "964984086"
        ],
        [
         "43",
         "1",
         "804",
         "4.0",
         "964980499"
        ],
        [
         "44",
         "1",
         "919",
         "5.0",
         "964982475"
        ],
        [
         "45",
         "1",
         "923",
         "5.0",
         "964981529"
        ],
        [
         "46",
         "1",
         "940",
         "5.0",
         "964982176"
        ],
        [
         "47",
         "1",
         "943",
         "4.0",
         "964983614"
        ],
        [
         "48",
         "1",
         "954",
         "5.0",
         "964983219"
        ],
        [
         "49",
         "1",
         "1009",
         "3.0",
         "964981775"
        ]
       ],
       "shape": {
        "columns": 4,
        "rows": 100836
       }
      },
      "text/html": [
       "<div>\n",
       "<style scoped>\n",
       "    .dataframe tbody tr th:only-of-type {\n",
       "        vertical-align: middle;\n",
       "    }\n",
       "\n",
       "    .dataframe tbody tr th {\n",
       "        vertical-align: top;\n",
       "    }\n",
       "\n",
       "    .dataframe thead th {\n",
       "        text-align: right;\n",
       "    }\n",
       "</style>\n",
       "<table border=\"1\" class=\"dataframe\">\n",
       "  <thead>\n",
       "    <tr style=\"text-align: right;\">\n",
       "      <th></th>\n",
       "      <th>userId</th>\n",
       "      <th>movieId</th>\n",
       "      <th>rating</th>\n",
       "      <th>timestamp</th>\n",
       "    </tr>\n",
       "  </thead>\n",
       "  <tbody>\n",
       "    <tr>\n",
       "      <th>0</th>\n",
       "      <td>1</td>\n",
       "      <td>1</td>\n",
       "      <td>4.0</td>\n",
       "      <td>964982703</td>\n",
       "    </tr>\n",
       "    <tr>\n",
       "      <th>1</th>\n",
       "      <td>1</td>\n",
       "      <td>3</td>\n",
       "      <td>4.0</td>\n",
       "      <td>964981247</td>\n",
       "    </tr>\n",
       "    <tr>\n",
       "      <th>2</th>\n",
       "      <td>1</td>\n",
       "      <td>6</td>\n",
       "      <td>4.0</td>\n",
       "      <td>964982224</td>\n",
       "    </tr>\n",
       "    <tr>\n",
       "      <th>3</th>\n",
       "      <td>1</td>\n",
       "      <td>47</td>\n",
       "      <td>5.0</td>\n",
       "      <td>964983815</td>\n",
       "    </tr>\n",
       "    <tr>\n",
       "      <th>4</th>\n",
       "      <td>1</td>\n",
       "      <td>50</td>\n",
       "      <td>5.0</td>\n",
       "      <td>964982931</td>\n",
       "    </tr>\n",
       "    <tr>\n",
       "      <th>...</th>\n",
       "      <td>...</td>\n",
       "      <td>...</td>\n",
       "      <td>...</td>\n",
       "      <td>...</td>\n",
       "    </tr>\n",
       "    <tr>\n",
       "      <th>100831</th>\n",
       "      <td>610</td>\n",
       "      <td>166534</td>\n",
       "      <td>4.0</td>\n",
       "      <td>1493848402</td>\n",
       "    </tr>\n",
       "    <tr>\n",
       "      <th>100832</th>\n",
       "      <td>610</td>\n",
       "      <td>168248</td>\n",
       "      <td>5.0</td>\n",
       "      <td>1493850091</td>\n",
       "    </tr>\n",
       "    <tr>\n",
       "      <th>100833</th>\n",
       "      <td>610</td>\n",
       "      <td>168250</td>\n",
       "      <td>5.0</td>\n",
       "      <td>1494273047</td>\n",
       "    </tr>\n",
       "    <tr>\n",
       "      <th>100834</th>\n",
       "      <td>610</td>\n",
       "      <td>168252</td>\n",
       "      <td>5.0</td>\n",
       "      <td>1493846352</td>\n",
       "    </tr>\n",
       "    <tr>\n",
       "      <th>100835</th>\n",
       "      <td>610</td>\n",
       "      <td>170875</td>\n",
       "      <td>3.0</td>\n",
       "      <td>1493846415</td>\n",
       "    </tr>\n",
       "  </tbody>\n",
       "</table>\n",
       "<p>100836 rows × 4 columns</p>\n",
       "</div>"
      ],
      "text/plain": [
       "        userId  movieId  rating   timestamp\n",
       "0            1        1     4.0   964982703\n",
       "1            1        3     4.0   964981247\n",
       "2            1        6     4.0   964982224\n",
       "3            1       47     5.0   964983815\n",
       "4            1       50     5.0   964982931\n",
       "...        ...      ...     ...         ...\n",
       "100831     610   166534     4.0  1493848402\n",
       "100832     610   168248     5.0  1493850091\n",
       "100833     610   168250     5.0  1494273047\n",
       "100834     610   168252     5.0  1493846352\n",
       "100835     610   170875     3.0  1493846415\n",
       "\n",
       "[100836 rows x 4 columns]"
      ]
     },
     "execution_count": 21,
     "metadata": {},
     "output_type": "execute_result"
    }
   ],
   "source": [
    "#load and read dataset\n",
    "ratings_df = pd.read_csv(\"Data/ratings.csv\")\n",
    "ratings_df"
   ]
  },
  {
   "cell_type": "markdown",
   "id": "27a1b4c3",
   "metadata": {},
   "source": [
    "### Dataset Description  \n",
    "\n",
    "* Each row represents one rating of one movie by one user.\n",
    "\n",
    "* `rating` are made on a 5-star scale with half-star increments (0.5 stars - 5.0 stars).\n",
    "\n",
    "* `timestamp` represents seconds since midnight Coordinated Universal Time (UTC) of January 1, 1970.\n"
   ]
  },
  {
   "cell_type": "code",
   "execution_count": 22,
   "id": "a261e2cc",
   "metadata": {},
   "outputs": [
    {
     "data": {
      "application/vnd.microsoft.datawrangler.viewer.v0+json": {
       "columns": [
        {
         "name": "index",
         "rawType": "int64",
         "type": "integer"
        },
        {
         "name": "userId",
         "rawType": "int64",
         "type": "integer"
        },
        {
         "name": "movieId",
         "rawType": "int64",
         "type": "integer"
        },
        {
         "name": "rating",
         "rawType": "float64",
         "type": "float"
        },
        {
         "name": "timestamp",
         "rawType": "int64",
         "type": "integer"
        }
       ],
       "ref": "03f8c552-6ed0-4a03-b7da-e0a93bdba5e1",
       "rows": [
        [
         "0",
         "1",
         "1",
         "4.0",
         "964982703"
        ],
        [
         "1",
         "1",
         "3",
         "4.0",
         "964981247"
        ],
        [
         "2",
         "1",
         "6",
         "4.0",
         "964982224"
        ],
        [
         "3",
         "1",
         "47",
         "5.0",
         "964983815"
        ],
        [
         "4",
         "1",
         "50",
         "5.0",
         "964982931"
        ]
       ],
       "shape": {
        "columns": 4,
        "rows": 5
       }
      },
      "text/html": [
       "<div>\n",
       "<style scoped>\n",
       "    .dataframe tbody tr th:only-of-type {\n",
       "        vertical-align: middle;\n",
       "    }\n",
       "\n",
       "    .dataframe tbody tr th {\n",
       "        vertical-align: top;\n",
       "    }\n",
       "\n",
       "    .dataframe thead th {\n",
       "        text-align: right;\n",
       "    }\n",
       "</style>\n",
       "<table border=\"1\" class=\"dataframe\">\n",
       "  <thead>\n",
       "    <tr style=\"text-align: right;\">\n",
       "      <th></th>\n",
       "      <th>userId</th>\n",
       "      <th>movieId</th>\n",
       "      <th>rating</th>\n",
       "      <th>timestamp</th>\n",
       "    </tr>\n",
       "  </thead>\n",
       "  <tbody>\n",
       "    <tr>\n",
       "      <th>0</th>\n",
       "      <td>1</td>\n",
       "      <td>1</td>\n",
       "      <td>4.0</td>\n",
       "      <td>964982703</td>\n",
       "    </tr>\n",
       "    <tr>\n",
       "      <th>1</th>\n",
       "      <td>1</td>\n",
       "      <td>3</td>\n",
       "      <td>4.0</td>\n",
       "      <td>964981247</td>\n",
       "    </tr>\n",
       "    <tr>\n",
       "      <th>2</th>\n",
       "      <td>1</td>\n",
       "      <td>6</td>\n",
       "      <td>4.0</td>\n",
       "      <td>964982224</td>\n",
       "    </tr>\n",
       "    <tr>\n",
       "      <th>3</th>\n",
       "      <td>1</td>\n",
       "      <td>47</td>\n",
       "      <td>5.0</td>\n",
       "      <td>964983815</td>\n",
       "    </tr>\n",
       "    <tr>\n",
       "      <th>4</th>\n",
       "      <td>1</td>\n",
       "      <td>50</td>\n",
       "      <td>5.0</td>\n",
       "      <td>964982931</td>\n",
       "    </tr>\n",
       "  </tbody>\n",
       "</table>\n",
       "</div>"
      ],
      "text/plain": [
       "   userId  movieId  rating  timestamp\n",
       "0       1        1     4.0  964982703\n",
       "1       1        3     4.0  964981247\n",
       "2       1        6     4.0  964982224\n",
       "3       1       47     5.0  964983815\n",
       "4       1       50     5.0  964982931"
      ]
     },
     "execution_count": 22,
     "metadata": {},
     "output_type": "execute_result"
    }
   ],
   "source": [
    "#check the first 5 rows\n",
    "ratings_df.head()"
   ]
  },
  {
   "cell_type": "code",
   "execution_count": 23,
   "id": "1bf7ccd3",
   "metadata": {},
   "outputs": [
    {
     "data": {
      "application/vnd.microsoft.datawrangler.viewer.v0+json": {
       "columns": [
        {
         "name": "index",
         "rawType": "int64",
         "type": "integer"
        },
        {
         "name": "userId",
         "rawType": "int64",
         "type": "integer"
        },
        {
         "name": "movieId",
         "rawType": "int64",
         "type": "integer"
        },
        {
         "name": "rating",
         "rawType": "float64",
         "type": "float"
        },
        {
         "name": "timestamp",
         "rawType": "int64",
         "type": "integer"
        }
       ],
       "ref": "aff54033-32ac-432b-a129-97213d5a4c2b",
       "rows": [
        [
         "100831",
         "610",
         "166534",
         "4.0",
         "1493848402"
        ],
        [
         "100832",
         "610",
         "168248",
         "5.0",
         "1493850091"
        ],
        [
         "100833",
         "610",
         "168250",
         "5.0",
         "1494273047"
        ],
        [
         "100834",
         "610",
         "168252",
         "5.0",
         "1493846352"
        ],
        [
         "100835",
         "610",
         "170875",
         "3.0",
         "1493846415"
        ]
       ],
       "shape": {
        "columns": 4,
        "rows": 5
       }
      },
      "text/html": [
       "<div>\n",
       "<style scoped>\n",
       "    .dataframe tbody tr th:only-of-type {\n",
       "        vertical-align: middle;\n",
       "    }\n",
       "\n",
       "    .dataframe tbody tr th {\n",
       "        vertical-align: top;\n",
       "    }\n",
       "\n",
       "    .dataframe thead th {\n",
       "        text-align: right;\n",
       "    }\n",
       "</style>\n",
       "<table border=\"1\" class=\"dataframe\">\n",
       "  <thead>\n",
       "    <tr style=\"text-align: right;\">\n",
       "      <th></th>\n",
       "      <th>userId</th>\n",
       "      <th>movieId</th>\n",
       "      <th>rating</th>\n",
       "      <th>timestamp</th>\n",
       "    </tr>\n",
       "  </thead>\n",
       "  <tbody>\n",
       "    <tr>\n",
       "      <th>100831</th>\n",
       "      <td>610</td>\n",
       "      <td>166534</td>\n",
       "      <td>4.0</td>\n",
       "      <td>1493848402</td>\n",
       "    </tr>\n",
       "    <tr>\n",
       "      <th>100832</th>\n",
       "      <td>610</td>\n",
       "      <td>168248</td>\n",
       "      <td>5.0</td>\n",
       "      <td>1493850091</td>\n",
       "    </tr>\n",
       "    <tr>\n",
       "      <th>100833</th>\n",
       "      <td>610</td>\n",
       "      <td>168250</td>\n",
       "      <td>5.0</td>\n",
       "      <td>1494273047</td>\n",
       "    </tr>\n",
       "    <tr>\n",
       "      <th>100834</th>\n",
       "      <td>610</td>\n",
       "      <td>168252</td>\n",
       "      <td>5.0</td>\n",
       "      <td>1493846352</td>\n",
       "    </tr>\n",
       "    <tr>\n",
       "      <th>100835</th>\n",
       "      <td>610</td>\n",
       "      <td>170875</td>\n",
       "      <td>3.0</td>\n",
       "      <td>1493846415</td>\n",
       "    </tr>\n",
       "  </tbody>\n",
       "</table>\n",
       "</div>"
      ],
      "text/plain": [
       "        userId  movieId  rating   timestamp\n",
       "100831     610   166534     4.0  1493848402\n",
       "100832     610   168248     5.0  1493850091\n",
       "100833     610   168250     5.0  1494273047\n",
       "100834     610   168252     5.0  1493846352\n",
       "100835     610   170875     3.0  1493846415"
      ]
     },
     "execution_count": 23,
     "metadata": {},
     "output_type": "execute_result"
    }
   ],
   "source": [
    "#check the last rows\n",
    "ratings_df.tail()"
   ]
  },
  {
   "cell_type": "markdown",
   "id": "66ce1720",
   "metadata": {},
   "source": [
    "**Observation**\n",
    "\n",
    "The ratings dataset is uniform from start to finish."
   ]
  },
  {
   "cell_type": "code",
   "execution_count": 24,
   "id": "421584df",
   "metadata": {},
   "outputs": [
    {
     "name": "stdout",
     "output_type": "stream",
     "text": [
      "The ratings dataset has 100836 rows and 4 columns.\n"
     ]
    }
   ],
   "source": [
    "#check shape\n",
    "print(f\"The ratings dataset has {ratings_df.shape[0]} rows and {ratings_df.shape[1]} columns.\")"
   ]
  },
  {
   "cell_type": "code",
   "execution_count": 25,
   "id": "8e17c470",
   "metadata": {},
   "outputs": [
    {
     "name": "stdout",
     "output_type": "stream",
     "text": [
      "<class 'pandas.core.frame.DataFrame'>\n",
      "RangeIndex: 100836 entries, 0 to 100835\n",
      "Data columns (total 4 columns):\n",
      " #   Column     Non-Null Count   Dtype  \n",
      "---  ------     --------------   -----  \n",
      " 0   userId     100836 non-null  int64  \n",
      " 1   movieId    100836 non-null  int64  \n",
      " 2   rating     100836 non-null  float64\n",
      " 3   timestamp  100836 non-null  int64  \n",
      "dtypes: float64(1), int64(3)\n",
      "memory usage: 3.1 MB\n"
     ]
    }
   ],
   "source": [
    "#get metadata\n",
    "\n",
    "ratings_df.info()"
   ]
  },
  {
   "cell_type": "markdown",
   "id": "c0847e6f",
   "metadata": {},
   "source": [
    "**Observation**\n",
    "\n",
    "The dataset has 4 numerical columns."
   ]
  },
  {
   "cell_type": "code",
   "execution_count": 26,
   "id": "939f178d",
   "metadata": {},
   "outputs": [
    {
     "data": {
      "application/vnd.microsoft.datawrangler.viewer.v0+json": {
       "columns": [
        {
         "name": "index",
         "rawType": "object",
         "type": "string"
        },
        {
         "name": "count",
         "rawType": "float64",
         "type": "float"
        },
        {
         "name": "mean",
         "rawType": "float64",
         "type": "float"
        },
        {
         "name": "std",
         "rawType": "float64",
         "type": "float"
        },
        {
         "name": "min",
         "rawType": "float64",
         "type": "float"
        },
        {
         "name": "25%",
         "rawType": "float64",
         "type": "float"
        },
        {
         "name": "50%",
         "rawType": "float64",
         "type": "float"
        },
        {
         "name": "75%",
         "rawType": "float64",
         "type": "float"
        },
        {
         "name": "max",
         "rawType": "float64",
         "type": "float"
        }
       ],
       "ref": "26c95786-46e7-4984-a352-fd2800e136a5",
       "rows": [
        [
         "userId",
         "100836.0",
         "326.12756356856676",
         "182.61849146349707",
         "1.0",
         "177.0",
         "325.0",
         "477.0",
         "610.0"
        ],
        [
         "movieId",
         "100836.0",
         "19435.2957177992",
         "35530.98719870027",
         "1.0",
         "1199.0",
         "2991.0",
         "8122.0",
         "193609.0"
        ],
        [
         "rating",
         "100836.0",
         "3.501556983616962",
         "1.0425292390605359",
         "0.5",
         "3.0",
         "3.5",
         "4.0",
         "5.0"
        ],
        [
         "timestamp",
         "100836.0",
         "1205946087.3684695",
         "216261035.9951324",
         "828124615.0",
         "1019123866.0",
         "1186086662.0",
         "1435994144.5",
         "1537799250.0"
        ]
       ],
       "shape": {
        "columns": 8,
        "rows": 4
       }
      },
      "text/html": [
       "<div>\n",
       "<style scoped>\n",
       "    .dataframe tbody tr th:only-of-type {\n",
       "        vertical-align: middle;\n",
       "    }\n",
       "\n",
       "    .dataframe tbody tr th {\n",
       "        vertical-align: top;\n",
       "    }\n",
       "\n",
       "    .dataframe thead th {\n",
       "        text-align: right;\n",
       "    }\n",
       "</style>\n",
       "<table border=\"1\" class=\"dataframe\">\n",
       "  <thead>\n",
       "    <tr style=\"text-align: right;\">\n",
       "      <th></th>\n",
       "      <th>count</th>\n",
       "      <th>mean</th>\n",
       "      <th>std</th>\n",
       "      <th>min</th>\n",
       "      <th>25%</th>\n",
       "      <th>50%</th>\n",
       "      <th>75%</th>\n",
       "      <th>max</th>\n",
       "    </tr>\n",
       "  </thead>\n",
       "  <tbody>\n",
       "    <tr>\n",
       "      <th>userId</th>\n",
       "      <td>100836.0</td>\n",
       "      <td>3.261276e+02</td>\n",
       "      <td>1.826185e+02</td>\n",
       "      <td>1.0</td>\n",
       "      <td>1.770000e+02</td>\n",
       "      <td>3.250000e+02</td>\n",
       "      <td>4.770000e+02</td>\n",
       "      <td>6.100000e+02</td>\n",
       "    </tr>\n",
       "    <tr>\n",
       "      <th>movieId</th>\n",
       "      <td>100836.0</td>\n",
       "      <td>1.943530e+04</td>\n",
       "      <td>3.553099e+04</td>\n",
       "      <td>1.0</td>\n",
       "      <td>1.199000e+03</td>\n",
       "      <td>2.991000e+03</td>\n",
       "      <td>8.122000e+03</td>\n",
       "      <td>1.936090e+05</td>\n",
       "    </tr>\n",
       "    <tr>\n",
       "      <th>rating</th>\n",
       "      <td>100836.0</td>\n",
       "      <td>3.501557e+00</td>\n",
       "      <td>1.042529e+00</td>\n",
       "      <td>0.5</td>\n",
       "      <td>3.000000e+00</td>\n",
       "      <td>3.500000e+00</td>\n",
       "      <td>4.000000e+00</td>\n",
       "      <td>5.000000e+00</td>\n",
       "    </tr>\n",
       "    <tr>\n",
       "      <th>timestamp</th>\n",
       "      <td>100836.0</td>\n",
       "      <td>1.205946e+09</td>\n",
       "      <td>2.162610e+08</td>\n",
       "      <td>828124615.0</td>\n",
       "      <td>1.019124e+09</td>\n",
       "      <td>1.186087e+09</td>\n",
       "      <td>1.435994e+09</td>\n",
       "      <td>1.537799e+09</td>\n",
       "    </tr>\n",
       "  </tbody>\n",
       "</table>\n",
       "</div>"
      ],
      "text/plain": [
       "              count          mean           std          min           25%  \\\n",
       "userId     100836.0  3.261276e+02  1.826185e+02          1.0  1.770000e+02   \n",
       "movieId    100836.0  1.943530e+04  3.553099e+04          1.0  1.199000e+03   \n",
       "rating     100836.0  3.501557e+00  1.042529e+00          0.5  3.000000e+00   \n",
       "timestamp  100836.0  1.205946e+09  2.162610e+08  828124615.0  1.019124e+09   \n",
       "\n",
       "                    50%           75%           max  \n",
       "userId     3.250000e+02  4.770000e+02  6.100000e+02  \n",
       "movieId    2.991000e+03  8.122000e+03  1.936090e+05  \n",
       "rating     3.500000e+00  4.000000e+00  5.000000e+00  \n",
       "timestamp  1.186087e+09  1.435994e+09  1.537799e+09  "
      ]
     },
     "execution_count": 26,
     "metadata": {},
     "output_type": "execute_result"
    }
   ],
   "source": [
    "#statistical summary of the numerical columns\n",
    "ratings_df.describe().T"
   ]
  },
  {
   "cell_type": "code",
   "execution_count": 27,
   "id": "36a753de",
   "metadata": {},
   "outputs": [
    {
     "name": "stdout",
     "output_type": "stream",
     "text": [
      "The ratings dataset has 0 null values.\n"
     ]
    }
   ],
   "source": [
    "#check nulls\n",
    "print(f\"The ratings dataset has {ratings_df.isna().sum().sum()} null values.\")"
   ]
  },
  {
   "cell_type": "code",
   "execution_count": 28,
   "id": "0389dcc6",
   "metadata": {},
   "outputs": [
    {
     "name": "stdout",
     "output_type": "stream",
     "text": [
      "The ratings dataset has 0 duplicates.\n"
     ]
    }
   ],
   "source": [
    "#check duplicates\n",
    "print(f\"The ratings dataset has {ratings_df.duplicated().sum()} duplicates.\")"
   ]
  },
  {
   "cell_type": "code",
   "execution_count": 29,
   "id": "46fd3e73",
   "metadata": {},
   "outputs": [
    {
     "data": {
      "image/png": "[encoded data removed]",
      "text/plain": [
       "<Figure size 640x480 with 1 Axes>"
      ]
     },
     "metadata": {},
     "output_type": "display_data"
    }
   ],
   "source": [
    "#check for outliers\n",
    "sns.boxplot(ratings_df);"
   ]
  },
  {
   "cell_type": "markdown",
   "id": "2458b544",
   "metadata": {},
   "source": [
    "**Observation**\n",
    "\n",
    "The ratings dataset has no outliers."
   ]
  },
  {
   "cell_type": "markdown",
   "id": "6d71fe0c",
   "metadata": {},
   "source": [
    "## 4. Tags Dataset\n"
   ]
  },
  {
   "cell_type": "code",
   "execution_count": 30,
   "id": "8c7c293e",
   "metadata": {},
   "outputs": [
    {
     "data": {
      "application/vnd.microsoft.datawrangler.viewer.v0+json": {
       "columns": [
        {
         "name": "index",
         "rawType": "int64",
         "type": "integer"
        },
        {
         "name": "userId",
         "rawType": "int64",
         "type": "integer"
        },
        {
         "name": "movieId",
         "rawType": "int64",
         "type": "integer"
        },
        {
         "name": "tag",
         "rawType": "object",
         "type": "string"
        },
        {
         "name": "timestamp",
         "rawType": "int64",
         "type": "integer"
        }
       ],
       "ref": "3389cbef-8a03-4f9d-a7cf-189d4fa4275c",
       "rows": [
        [
         "0",
         "2",
         "60756",
         "funny",
         "1445714994"
        ],
        [
         "1",
         "2",
         "60756",
         "Highly quotable",
         "1445714996"
        ],
        [
         "2",
         "2",
         "60756",
         "will ferrell",
         "1445714992"
        ],
        [
         "3",
         "2",
         "89774",
         "Boxing story",
         "1445715207"
        ],
        [
         "4",
         "2",
         "89774",
         "MMA",
         "1445715200"
        ],
        [
         "5",
         "2",
         "89774",
         "Tom Hardy",
         "1445715205"
        ],
        [
         "6",
         "2",
         "106782",
         "drugs",
         "1445715054"
        ],
        [
         "7",
         "2",
         "106782",
         "Leonardo DiCaprio",
         "1445715051"
        ],
        [
         "8",
         "2",
         "106782",
         "Martin Scorsese",
         "1445715056"
        ],
        [
         "9",
         "7",
         "48516",
         "way too long",
         "1169687325"
        ],
        [
         "10",
         "18",
         "431",
         "Al Pacino",
         "1462138765"
        ],
        [
         "11",
         "18",
         "431",
         "gangster",
         "1462138749"
        ],
        [
         "12",
         "18",
         "431",
         "mafia",
         "1462138755"
        ],
        [
         "13",
         "18",
         "1221",
         "Al Pacino",
         "1461699306"
        ],
        [
         "14",
         "18",
         "1221",
         "Mafia",
         "1461699303"
        ],
        [
         "15",
         "18",
         "5995",
         "holocaust",
         "1455735472"
        ],
        [
         "16",
         "18",
         "5995",
         "true story",
         "1455735479"
        ],
        [
         "17",
         "18",
         "44665",
         "twist ending",
         "1456948283"
        ],
        [
         "18",
         "18",
         "52604",
         "Anthony Hopkins",
         "1457650696"
        ],
        [
         "19",
         "18",
         "52604",
         "courtroom drama",
         "1457650711"
        ],
        [
         "20",
         "18",
         "52604",
         "twist ending",
         "1457650682"
        ],
        [
         "21",
         "18",
         "88094",
         "britpop",
         "1457444500"
        ],
        [
         "22",
         "18",
         "88094",
         "indie record label",
         "1457444592"
        ],
        [
         "23",
         "18",
         "88094",
         "music",
         "1457444609"
        ],
        [
         "24",
         "18",
         "144210",
         "dumpster diving",
         "1455060381"
        ],
        [
         "25",
         "18",
         "144210",
         "Sustainability",
         "1455060452"
        ],
        [
         "26",
         "21",
         "1569",
         "romantic comedy",
         "1419805413"
        ],
        [
         "27",
         "21",
         "1569",
         "wedding",
         "1419805419"
        ],
        [
         "28",
         "21",
         "118985",
         "painter",
         "1419805477"
        ],
        [
         "29",
         "21",
         "119141",
         "bloody",
         "1419793962"
        ],
        [
         "30",
         "49",
         "109487",
         "black hole",
         "1493093306"
        ],
        [
         "31",
         "49",
         "109487",
         "sci-fi",
         "1493093332"
        ],
        [
         "32",
         "49",
         "109487",
         "time-travel",
         "1493093356"
        ],
        [
         "33",
         "62",
         "2",
         "fantasy",
         "1528843929"
        ],
        [
         "34",
         "62",
         "2",
         "magic board game",
         "1528843932"
        ],
        [
         "35",
         "62",
         "2",
         "Robin Williams",
         "1528843907"
        ],
        [
         "36",
         "62",
         "110",
         "beautiful scenery",
         "1528152541"
        ],
        [
         "37",
         "62",
         "110",
         "epic",
         "1528152532"
        ],
        [
         "38",
         "62",
         "110",
         "historical",
         "1528152523"
        ],
        [
         "39",
         "62",
         "110",
         "inspirational",
         "1528152527"
        ],
        [
         "40",
         "62",
         "110",
         "Medieval",
         "1528152528"
        ],
        [
         "41",
         "62",
         "110",
         "mel gibson",
         "1528152521"
        ],
        [
         "42",
         "62",
         "110",
         "Oscar (Best Cinematography)",
         "1528152539"
        ],
        [
         "43",
         "62",
         "110",
         "revenge",
         "1528152531"
        ],
        [
         "44",
         "62",
         "110",
         "sword fight",
         "1528152535"
        ],
        [
         "45",
         "62",
         "410",
         "black comedy",
         "1525636607"
        ],
        [
         "46",
         "62",
         "410",
         "Christina Ricci",
         "1525636685"
        ],
        [
         "47",
         "62",
         "410",
         "Christopher Lloyd",
         "1525636622"
        ],
        [
         "48",
         "62",
         "410",
         "dark comedy",
         "1525636610"
        ],
        [
         "49",
         "62",
         "410",
         "family",
         "1525636708"
        ]
       ],
       "shape": {
        "columns": 4,
        "rows": 3683
       }
      },
      "text/html": [
       "<div>\n",
       "<style scoped>\n",
       "    .dataframe tbody tr th:only-of-type {\n",
       "        vertical-align: middle;\n",
       "    }\n",
       "\n",
       "    .dataframe tbody tr th {\n",
       "        vertical-align: top;\n",
       "    }\n",
       "\n",
       "    .dataframe thead th {\n",
       "        text-align: right;\n",
       "    }\n",
       "</style>\n",
       "<table border=\"1\" class=\"dataframe\">\n",
       "  <thead>\n",
       "    <tr style=\"text-align: right;\">\n",
       "      <th></th>\n",
       "      <th>userId</th>\n",
       "      <th>movieId</th>\n",
       "      <th>tag</th>\n",
       "      <th>timestamp</th>\n",
       "    </tr>\n",
       "  </thead>\n",
       "  <tbody>\n",
       "    <tr>\n",
       "      <th>0</th>\n",
       "      <td>2</td>\n",
       "      <td>60756</td>\n",
       "      <td>funny</td>\n",
       "      <td>1445714994</td>\n",
       "    </tr>\n",
       "    <tr>\n",
       "      <th>1</th>\n",
       "      <td>2</td>\n",
       "      <td>60756</td>\n",
       "      <td>Highly quotable</td>\n",
       "      <td>1445714996</td>\n",
       "    </tr>\n",
       "    <tr>\n",
       "      <th>2</th>\n",
       "      <td>2</td>\n",
       "      <td>60756</td>\n",
       "      <td>will ferrell</td>\n",
       "      <td>1445714992</td>\n",
       "    </tr>\n",
       "    <tr>\n",
       "      <th>3</th>\n",
       "      <td>2</td>\n",
       "      <td>89774</td>\n",
       "      <td>Boxing story</td>\n",
       "      <td>1445715207</td>\n",
       "    </tr>\n",
       "    <tr>\n",
       "      <th>4</th>\n",
       "      <td>2</td>\n",
       "      <td>89774</td>\n",
       "      <td>MMA</td>\n",
       "      <td>1445715200</td>\n",
       "    </tr>\n",
       "    <tr>\n",
       "      <th>...</th>\n",
       "      <td>...</td>\n",
       "      <td>...</td>\n",
       "      <td>...</td>\n",
       "      <td>...</td>\n",
       "    </tr>\n",
       "    <tr>\n",
       "      <th>3678</th>\n",
       "      <td>606</td>\n",
       "      <td>7382</td>\n",
       "      <td>for katie</td>\n",
       "      <td>1171234019</td>\n",
       "    </tr>\n",
       "    <tr>\n",
       "      <th>3679</th>\n",
       "      <td>606</td>\n",
       "      <td>7936</td>\n",
       "      <td>austere</td>\n",
       "      <td>1173392334</td>\n",
       "    </tr>\n",
       "    <tr>\n",
       "      <th>3680</th>\n",
       "      <td>610</td>\n",
       "      <td>3265</td>\n",
       "      <td>gun fu</td>\n",
       "      <td>1493843984</td>\n",
       "    </tr>\n",
       "    <tr>\n",
       "      <th>3681</th>\n",
       "      <td>610</td>\n",
       "      <td>3265</td>\n",
       "      <td>heroic bloodshed</td>\n",
       "      <td>1493843978</td>\n",
       "    </tr>\n",
       "    <tr>\n",
       "      <th>3682</th>\n",
       "      <td>610</td>\n",
       "      <td>168248</td>\n",
       "      <td>Heroic Bloodshed</td>\n",
       "      <td>1493844270</td>\n",
       "    </tr>\n",
       "  </tbody>\n",
       "</table>\n",
       "<p>3683 rows × 4 columns</p>\n",
       "</div>"
      ],
      "text/plain": [
       "      userId  movieId               tag   timestamp\n",
       "0          2    60756             funny  1445714994\n",
       "1          2    60756   Highly quotable  1445714996\n",
       "2          2    60756      will ferrell  1445714992\n",
       "3          2    89774      Boxing story  1445715207\n",
       "4          2    89774               MMA  1445715200\n",
       "...      ...      ...               ...         ...\n",
       "3678     606     7382         for katie  1171234019\n",
       "3679     606     7936           austere  1173392334\n",
       "3680     610     3265            gun fu  1493843984\n",
       "3681     610     3265  heroic bloodshed  1493843978\n",
       "3682     610   168248  Heroic Bloodshed  1493844270\n",
       "\n",
       "[3683 rows x 4 columns]"
      ]
     },
     "execution_count": 30,
     "metadata": {},
     "output_type": "execute_result"
    }
   ],
   "source": [
    "#load and read dataset\n",
    "tags_df = pd.read_csv(\"Data/tags.csv\")\n",
    "tags_df"
   ]
  },
  {
   "cell_type": "markdown",
   "id": "ab6cf675",
   "metadata": {},
   "source": [
    "### Dataset Description\n",
    "\n",
    "* Tags are user-generated metadata about movies. Each `tag` is typically a single word or short phrase. The meaning, value and purpose of a particular tag is determined by each user.\n",
    "\n",
    "* `timestamp` represent seconds since midnight Coordinated Universal Time (UTC) of January 1, 1970"
   ]
  },
  {
   "cell_type": "code",
   "execution_count": 31,
   "id": "f79bf09a",
   "metadata": {},
   "outputs": [
    {
     "data": {
      "application/vnd.microsoft.datawrangler.viewer.v0+json": {
       "columns": [
        {
         "name": "index",
         "rawType": "int64",
         "type": "integer"
        },
        {
         "name": "userId",
         "rawType": "int64",
         "type": "integer"
        },
        {
         "name": "movieId",
         "rawType": "int64",
         "type": "integer"
        },
        {
         "name": "tag",
         "rawType": "object",
         "type": "string"
        },
        {
         "name": "timestamp",
         "rawType": "int64",
         "type": "integer"
        }
       ],
       "ref": "1e6f03c5-1e25-48b6-bdc0-b185fb8cbc89",
       "rows": [
        [
         "0",
         "2",
         "60756",
         "funny",
         "1445714994"
        ],
        [
         "1",
         "2",
         "60756",
         "Highly quotable",
         "1445714996"
        ],
        [
         "2",
         "2",
         "60756",
         "will ferrell",
         "1445714992"
        ],
        [
         "3",
         "2",
         "89774",
         "Boxing story",
         "1445715207"
        ],
        [
         "4",
         "2",
         "89774",
         "MMA",
         "1445715200"
        ]
       ],
       "shape": {
        "columns": 4,
        "rows": 5
       }
      },
      "text/html": [
       "<div>\n",
       "<style scoped>\n",
       "    .dataframe tbody tr th:only-of-type {\n",
       "        vertical-align: middle;\n",
       "    }\n",
       "\n",
       "    .dataframe tbody tr th {\n",
       "        vertical-align: top;\n",
       "    }\n",
       "\n",
       "    .dataframe thead th {\n",
       "        text-align: right;\n",
       "    }\n",
       "</style>\n",
       "<table border=\"1\" class=\"dataframe\">\n",
       "  <thead>\n",
       "    <tr style=\"text-align: right;\">\n",
       "      <th></th>\n",
       "      <th>userId</th>\n",
       "      <th>movieId</th>\n",
       "      <th>tag</th>\n",
       "      <th>timestamp</th>\n",
       "    </tr>\n",
       "  </thead>\n",
       "  <tbody>\n",
       "    <tr>\n",
       "      <th>0</th>\n",
       "      <td>2</td>\n",
       "      <td>60756</td>\n",
       "      <td>funny</td>\n",
       "      <td>1445714994</td>\n",
       "    </tr>\n",
       "    <tr>\n",
       "      <th>1</th>\n",
       "      <td>2</td>\n",
       "      <td>60756</td>\n",
       "      <td>Highly quotable</td>\n",
       "      <td>1445714996</td>\n",
       "    </tr>\n",
       "    <tr>\n",
       "      <th>2</th>\n",
       "      <td>2</td>\n",
       "      <td>60756</td>\n",
       "      <td>will ferrell</td>\n",
       "      <td>1445714992</td>\n",
       "    </tr>\n",
       "    <tr>\n",
       "      <th>3</th>\n",
       "      <td>2</td>\n",
       "      <td>89774</td>\n",
       "      <td>Boxing story</td>\n",
       "      <td>1445715207</td>\n",
       "    </tr>\n",
       "    <tr>\n",
       "      <th>4</th>\n",
       "      <td>2</td>\n",
       "      <td>89774</td>\n",
       "      <td>MMA</td>\n",
       "      <td>1445715200</td>\n",
       "    </tr>\n",
       "  </tbody>\n",
       "</table>\n",
       "</div>"
      ],
      "text/plain": [
       "   userId  movieId              tag   timestamp\n",
       "0       2    60756            funny  1445714994\n",
       "1       2    60756  Highly quotable  1445714996\n",
       "2       2    60756     will ferrell  1445714992\n",
       "3       2    89774     Boxing story  1445715207\n",
       "4       2    89774              MMA  1445715200"
      ]
     },
     "execution_count": 31,
     "metadata": {},
     "output_type": "execute_result"
    }
   ],
   "source": [
    "#check the first 5 rows\n",
    "tags_df.head()"
   ]
  },
  {
   "cell_type": "code",
   "execution_count": 32,
   "id": "d9758619",
   "metadata": {},
   "outputs": [
    {
     "data": {
      "application/vnd.microsoft.datawrangler.viewer.v0+json": {
       "columns": [
        {
         "name": "index",
         "rawType": "int64",
         "type": "integer"
        },
        {
         "name": "userId",
         "rawType": "int64",
         "type": "integer"
        },
        {
         "name": "movieId",
         "rawType": "int64",
         "type": "integer"
        },
        {
         "name": "tag",
         "rawType": "object",
         "type": "string"
        },
        {
         "name": "timestamp",
         "rawType": "int64",
         "type": "integer"
        }
       ],
       "ref": "a015a8f4-f102-4d90-932c-19bb33c4c644",
       "rows": [
        [
         "3678",
         "606",
         "7382",
         "for katie",
         "1171234019"
        ],
        [
         "3679",
         "606",
         "7936",
         "austere",
         "1173392334"
        ],
        [
         "3680",
         "610",
         "3265",
         "gun fu",
         "1493843984"
        ],
        [
         "3681",
         "610",
         "3265",
         "heroic bloodshed",
         "1493843978"
        ],
        [
         "3682",
         "610",
         "168248",
         "Heroic Bloodshed",
         "1493844270"
        ]
       ],
       "shape": {
        "columns": 4,
        "rows": 5
       }
      },
      "text/html": [
       "<div>\n",
       "<style scoped>\n",
       "    .dataframe tbody tr th:only-of-type {\n",
       "        vertical-align: middle;\n",
       "    }\n",
       "\n",
       "    .dataframe tbody tr th {\n",
       "        vertical-align: top;\n",
       "    }\n",
       "\n",
       "    .dataframe thead th {\n",
       "        text-align: right;\n",
       "    }\n",
       "</style>\n",
       "<table border=\"1\" class=\"dataframe\">\n",
       "  <thead>\n",
       "    <tr style=\"text-align: right;\">\n",
       "      <th></th>\n",
       "      <th>userId</th>\n",
       "      <th>movieId</th>\n",
       "      <th>tag</th>\n",
       "      <th>timestamp</th>\n",
       "    </tr>\n",
       "  </thead>\n",
       "  <tbody>\n",
       "    <tr>\n",
       "      <th>3678</th>\n",
       "      <td>606</td>\n",
       "      <td>7382</td>\n",
       "      <td>for katie</td>\n",
       "      <td>1171234019</td>\n",
       "    </tr>\n",
       "    <tr>\n",
       "      <th>3679</th>\n",
       "      <td>606</td>\n",
       "      <td>7936</td>\n",
       "      <td>austere</td>\n",
       "      <td>1173392334</td>\n",
       "    </tr>\n",
       "    <tr>\n",
       "      <th>3680</th>\n",
       "      <td>610</td>\n",
       "      <td>3265</td>\n",
       "      <td>gun fu</td>\n",
       "      <td>1493843984</td>\n",
       "    </tr>\n",
       "    <tr>\n",
       "      <th>3681</th>\n",
       "      <td>610</td>\n",
       "      <td>3265</td>\n",
       "      <td>heroic bloodshed</td>\n",
       "      <td>1493843978</td>\n",
       "    </tr>\n",
       "    <tr>\n",
       "      <th>3682</th>\n",
       "      <td>610</td>\n",
       "      <td>168248</td>\n",
       "      <td>Heroic Bloodshed</td>\n",
       "      <td>1493844270</td>\n",
       "    </tr>\n",
       "  </tbody>\n",
       "</table>\n",
       "</div>"
      ],
      "text/plain": [
       "      userId  movieId               tag   timestamp\n",
       "3678     606     7382         for katie  1171234019\n",
       "3679     606     7936           austere  1173392334\n",
       "3680     610     3265            gun fu  1493843984\n",
       "3681     610     3265  heroic bloodshed  1493843978\n",
       "3682     610   168248  Heroic Bloodshed  1493844270"
      ]
     },
     "execution_count": 32,
     "metadata": {},
     "output_type": "execute_result"
    }
   ],
   "source": [
    "#check the last 5 rows\n",
    "tags_df.tail()"
   ]
  },
  {
   "cell_type": "markdown",
   "id": "eb60855e",
   "metadata": {},
   "source": [
    "**Observation**\n",
    "\n",
    "The tags dataset is uniform from start to finish."
   ]
  },
  {
   "cell_type": "code",
   "execution_count": 33,
   "id": "43e274e0",
   "metadata": {},
   "outputs": [
    {
     "name": "stdout",
     "output_type": "stream",
     "text": [
      "The tags dataset has 3683 rows and 4 columns.\n"
     ]
    }
   ],
   "source": [
    "#check shape\n",
    "print(f\"The tags dataset has {tags_df.shape[0]} rows and {tags_df.shape[1]} columns.\")"
   ]
  },
  {
   "cell_type": "code",
   "execution_count": 34,
   "id": "8cb26479",
   "metadata": {},
   "outputs": [
    {
     "name": "stdout",
     "output_type": "stream",
     "text": [
      "<class 'pandas.core.frame.DataFrame'>\n",
      "RangeIndex: 3683 entries, 0 to 3682\n",
      "Data columns (total 4 columns):\n",
      " #   Column     Non-Null Count  Dtype \n",
      "---  ------     --------------  ----- \n",
      " 0   userId     3683 non-null   int64 \n",
      " 1   movieId    3683 non-null   int64 \n",
      " 2   tag        3683 non-null   object\n",
      " 3   timestamp  3683 non-null   int64 \n",
      "dtypes: int64(3), object(1)\n",
      "memory usage: 115.2+ KB\n"
     ]
    }
   ],
   "source": [
    "#get metadata\n",
    "tags_df.info()"
   ]
  },
  {
   "cell_type": "markdown",
   "id": "5d76dbd9",
   "metadata": {},
   "source": [
    "**Observation**\n",
    "\n",
    "The tags dataset has one categorical columns and 3 numerical columns."
   ]
  },
  {
   "cell_type": "code",
   "execution_count": 35,
   "id": "b90f624b",
   "metadata": {},
   "outputs": [
    {
     "data": {
      "application/vnd.microsoft.datawrangler.viewer.v0+json": {
       "columns": [
        {
         "name": "index",
         "rawType": "object",
         "type": "string"
        },
        {
         "name": "count",
         "rawType": "float64",
         "type": "float"
        },
        {
         "name": "mean",
         "rawType": "float64",
         "type": "float"
        },
        {
         "name": "std",
         "rawType": "float64",
         "type": "float"
        },
        {
         "name": "min",
         "rawType": "float64",
         "type": "float"
        },
        {
         "name": "25%",
         "rawType": "float64",
         "type": "float"
        },
        {
         "name": "50%",
         "rawType": "float64",
         "type": "float"
        },
        {
         "name": "75%",
         "rawType": "float64",
         "type": "float"
        },
        {
         "name": "max",
         "rawType": "float64",
         "type": "float"
        }
       ],
       "ref": "bd0ab4f1-5e49-4694-911e-406637d919ca",
       "rows": [
        [
         "userId",
         "3683.0",
         "431.1493347814282",
         "158.472553484827",
         "2.0",
         "424.0",
         "474.0",
         "477.0",
         "610.0"
        ],
        [
         "movieId",
         "3683.0",
         "27252.01357588922",
         "43490.558802767875",
         "1.0",
         "1262.5",
         "4454.0",
         "39263.0",
         "193565.0"
        ],
        [
         "timestamp",
         "3683.0",
         "1320031966.823785",
         "172102450.4371264",
         "1137179352.0",
         "1137521216.0",
         "1269832564.0",
         "1498456765.5",
         "1537098603.0"
        ]
       ],
       "shape": {
        "columns": 8,
        "rows": 3
       }
      },
      "text/html": [
       "<div>\n",
       "<style scoped>\n",
       "    .dataframe tbody tr th:only-of-type {\n",
       "        vertical-align: middle;\n",
       "    }\n",
       "\n",
       "    .dataframe tbody tr th {\n",
       "        vertical-align: top;\n",
       "    }\n",
       "\n",
       "    .dataframe thead th {\n",
       "        text-align: right;\n",
       "    }\n",
       "</style>\n",
       "<table border=\"1\" class=\"dataframe\">\n",
       "  <thead>\n",
       "    <tr style=\"text-align: right;\">\n",
       "      <th></th>\n",
       "      <th>count</th>\n",
       "      <th>mean</th>\n",
       "      <th>std</th>\n",
       "      <th>min</th>\n",
       "      <th>25%</th>\n",
       "      <th>50%</th>\n",
       "      <th>75%</th>\n",
       "      <th>max</th>\n",
       "    </tr>\n",
       "  </thead>\n",
       "  <tbody>\n",
       "    <tr>\n",
       "      <th>userId</th>\n",
       "      <td>3683.0</td>\n",
       "      <td>4.311493e+02</td>\n",
       "      <td>1.584726e+02</td>\n",
       "      <td>2.000000e+00</td>\n",
       "      <td>4.240000e+02</td>\n",
       "      <td>4.740000e+02</td>\n",
       "      <td>4.770000e+02</td>\n",
       "      <td>6.100000e+02</td>\n",
       "    </tr>\n",
       "    <tr>\n",
       "      <th>movieId</th>\n",
       "      <td>3683.0</td>\n",
       "      <td>2.725201e+04</td>\n",
       "      <td>4.349056e+04</td>\n",
       "      <td>1.000000e+00</td>\n",
       "      <td>1.262500e+03</td>\n",
       "      <td>4.454000e+03</td>\n",
       "      <td>3.926300e+04</td>\n",
       "      <td>1.935650e+05</td>\n",
       "    </tr>\n",
       "    <tr>\n",
       "      <th>timestamp</th>\n",
       "      <td>3683.0</td>\n",
       "      <td>1.320032e+09</td>\n",
       "      <td>1.721025e+08</td>\n",
       "      <td>1.137179e+09</td>\n",
       "      <td>1.137521e+09</td>\n",
       "      <td>1.269833e+09</td>\n",
       "      <td>1.498457e+09</td>\n",
       "      <td>1.537099e+09</td>\n",
       "    </tr>\n",
       "  </tbody>\n",
       "</table>\n",
       "</div>"
      ],
      "text/plain": [
       "            count          mean           std           min           25%  \\\n",
       "userId     3683.0  4.311493e+02  1.584726e+02  2.000000e+00  4.240000e+02   \n",
       "movieId    3683.0  2.725201e+04  4.349056e+04  1.000000e+00  1.262500e+03   \n",
       "timestamp  3683.0  1.320032e+09  1.721025e+08  1.137179e+09  1.137521e+09   \n",
       "\n",
       "                    50%           75%           max  \n",
       "userId     4.740000e+02  4.770000e+02  6.100000e+02  \n",
       "movieId    4.454000e+03  3.926300e+04  1.935650e+05  \n",
       "timestamp  1.269833e+09  1.498457e+09  1.537099e+09  "
      ]
     },
     "execution_count": 35,
     "metadata": {},
     "output_type": "execute_result"
    }
   ],
   "source": [
    "#statistical summary of numerical columns\n",
    "tags_df.describe().T"
   ]
  },
  {
   "cell_type": "code",
   "execution_count": 36,
   "id": "95d0d4c4",
   "metadata": {},
   "outputs": [
    {
     "data": {
      "application/vnd.microsoft.datawrangler.viewer.v0+json": {
       "columns": [
        {
         "name": "index",
         "rawType": "object",
         "type": "string"
        },
        {
         "name": "count",
         "rawType": "object",
         "type": "unknown"
        },
        {
         "name": "unique",
         "rawType": "object",
         "type": "unknown"
        },
        {
         "name": "top",
         "rawType": "object",
         "type": "string"
        },
        {
         "name": "freq",
         "rawType": "object",
         "type": "unknown"
        }
       ],
       "ref": "6fccfad0-0c4c-42bb-8d11-5ea62a00cf5d",
       "rows": [
        [
         "tag",
         "3683",
         "1589",
         "In Netflix queue",
         "131"
        ]
       ],
       "shape": {
        "columns": 4,
        "rows": 1
       }
      },
      "text/html": [
       "<div>\n",
       "<style scoped>\n",
       "    .dataframe tbody tr th:only-of-type {\n",
       "        vertical-align: middle;\n",
       "    }\n",
       "\n",
       "    .dataframe tbody tr th {\n",
       "        vertical-align: top;\n",
       "    }\n",
       "\n",
       "    .dataframe thead th {\n",
       "        text-align: right;\n",
       "    }\n",
       "</style>\n",
       "<table border=\"1\" class=\"dataframe\">\n",
       "  <thead>\n",
       "    <tr style=\"text-align: right;\">\n",
       "      <th></th>\n",
       "      <th>count</th>\n",
       "      <th>unique</th>\n",
       "      <th>top</th>\n",
       "      <th>freq</th>\n",
       "    </tr>\n",
       "  </thead>\n",
       "  <tbody>\n",
       "    <tr>\n",
       "      <th>tag</th>\n",
       "      <td>3683</td>\n",
       "      <td>1589</td>\n",
       "      <td>In Netflix queue</td>\n",
       "      <td>131</td>\n",
       "    </tr>\n",
       "  </tbody>\n",
       "</table>\n",
       "</div>"
      ],
      "text/plain": [
       "    count unique               top freq\n",
       "tag  3683   1589  In Netflix queue  131"
      ]
     },
     "execution_count": 36,
     "metadata": {},
     "output_type": "execute_result"
    }
   ],
   "source": [
    "#statistical summary of the categorical column\n",
    "tags_df.describe(include=\"object\").T"
   ]
  },
  {
   "cell_type": "code",
   "execution_count": 37,
   "id": "110ce73f",
   "metadata": {},
   "outputs": [
    {
     "name": "stdout",
     "output_type": "stream",
     "text": [
      "The tags dataset has 0 null values.\n"
     ]
    }
   ],
   "source": [
    "#check for nulls\n",
    "print(f\"The tags dataset has {tags_df.isna().sum().sum()} null values.\")"
   ]
  },
  {
   "cell_type": "code",
   "execution_count": 38,
   "id": "75c39de4",
   "metadata": {},
   "outputs": [
    {
     "name": "stdout",
     "output_type": "stream",
     "text": [
      "The tags dataset has 0 duplicates.\n"
     ]
    }
   ],
   "source": [
    "#check for duplicates\n",
    "print(f\"The tags dataset has {tags_df.duplicated().sum()} duplicates.\")"
   ]
  },
  {
   "cell_type": "code",
   "execution_count": 39,
   "id": "cd85dd51",
   "metadata": {},
   "outputs": [
    {
     "data": {
      "image/png": "[encoded data removed]",
      "text/plain": [
       "<Figure size 640x480 with 1 Axes>"
      ]
     },
     "metadata": {},
     "output_type": "display_data"
    }
   ],
   "source": [
    "#check for outliers\n",
    "sns.boxplot(tags_df);"
   ]
  },
  {
   "cell_type": "markdown",
   "id": "26e81766",
   "metadata": {},
   "source": [
    "**Observation**\n",
    "\n",
    "The tags dataset has no outliers."
   ]
  },
  {
   "cell_type": "markdown",
   "id": "55b8d8f2",
   "metadata": {},
   "source": [
    "# Data Preparation\n",
    "\n",
    "## Data Cleaning"
   ]
  },
  {
   "cell_type": "code",
   "execution_count": 40,
   "id": "df04be03",
   "metadata": {},
   "outputs": [
    {
     "data": {
      "application/vnd.microsoft.datawrangler.viewer.v0+json": {
       "columns": [
        {
         "name": "index",
         "rawType": "int64",
         "type": "integer"
        },
        {
         "name": "userId",
         "rawType": "int64",
         "type": "integer"
        },
        {
         "name": "movieId",
         "rawType": "int64",
         "type": "integer"
        },
        {
         "name": "rating",
         "rawType": "float64",
         "type": "float"
        },
        {
         "name": "timestamp",
         "rawType": "int64",
         "type": "integer"
        },
        {
         "name": "imdbId",
         "rawType": "int64",
         "type": "integer"
        },
        {
         "name": "tmdbId",
         "rawType": "float64",
         "type": "float"
        },
        {
         "name": "title",
         "rawType": "object",
         "type": "string"
        },
        {
         "name": "genres",
         "rawType": "object",
         "type": "string"
        }
       ],
       "ref": "f573d5c0-05ca-49c3-8c71-e8f3486e5bd8",
       "rows": [
        [
         "0",
         "1",
         "1",
         "4.0",
         "964982703",
         "114709",
         "862.0",
         "Toy Story (1995)",
         "Adventure|Animation|Children|Comedy|Fantasy"
        ],
        [
         "1",
         "1",
         "3",
         "4.0",
         "964981247",
         "113228",
         "15602.0",
         "Grumpier Old Men (1995)",
         "Comedy|Romance"
        ],
        [
         "2",
         "1",
         "6",
         "4.0",
         "964982224",
         "113277",
         "949.0",
         "Heat (1995)",
         "Action|Crime|Thriller"
        ],
        [
         "3",
         "1",
         "47",
         "5.0",
         "964983815",
         "114369",
         "807.0",
         "Seven (a.k.a. Se7en) (1995)",
         "Mystery|Thriller"
        ],
        [
         "4",
         "1",
         "50",
         "5.0",
         "964982931",
         "114814",
         "629.0",
         "Usual Suspects, The (1995)",
         "Crime|Mystery|Thriller"
        ],
        [
         "5",
         "1",
         "70",
         "3.0",
         "964982400",
         "116367",
         "755.0",
         "From Dusk Till Dawn (1996)",
         "Action|Comedy|Horror|Thriller"
        ],
        [
         "6",
         "1",
         "101",
         "5.0",
         "964980868",
         "115734",
         "13685.0",
         "Bottle Rocket (1996)",
         "Adventure|Comedy|Crime|Romance"
        ],
        [
         "7",
         "1",
         "110",
         "4.0",
         "964982176",
         "112573",
         "197.0",
         "Braveheart (1995)",
         "Action|Drama|War"
        ],
        [
         "8",
         "1",
         "151",
         "5.0",
         "964984041",
         "114287",
         "11780.0",
         "Rob Roy (1995)",
         "Action|Drama|Romance|War"
        ],
        [
         "9",
         "1",
         "157",
         "5.0",
         "964984100",
         "109370",
         "1775.0",
         "Canadian Bacon (1995)",
         "Comedy|War"
        ],
        [
         "10",
         "1",
         "163",
         "5.0",
         "964983650",
         "112851",
         "8068.0",
         "Desperado (1995)",
         "Action|Romance|Western"
        ],
        [
         "11",
         "1",
         "216",
         "5.0",
         "964981208",
         "112508",
         "11017.0",
         "Billy Madison (1995)",
         "Comedy"
        ],
        [
         "12",
         "1",
         "223",
         "3.0",
         "964980985",
         "109445",
         "2292.0",
         "Clerks (1994)",
         "Comedy"
        ],
        [
         "13",
         "1",
         "231",
         "5.0",
         "964981179",
         "109686",
         "8467.0",
         "Dumb & Dumber (Dumb and Dumber) (1994)",
         "Adventure|Comedy"
        ],
        [
         "14",
         "1",
         "235",
         "4.0",
         "964980908",
         "109707",
         "522.0",
         "Ed Wood (1994)",
         "Comedy|Drama"
        ],
        [
         "15",
         "1",
         "260",
         "5.0",
         "964981680",
         "76759",
         "11.0",
         "Star Wars: Episode IV - A New Hope (1977)",
         "Action|Adventure|Sci-Fi"
        ],
        [
         "16",
         "1",
         "296",
         "3.0",
         "964982967",
         "110912",
         "680.0",
         "Pulp Fiction (1994)",
         "Comedy|Crime|Drama|Thriller"
        ],
        [
         "17",
         "1",
         "316",
         "3.0",
         "964982310",
         "111282",
         "2164.0",
         "Stargate (1994)",
         "Action|Adventure|Sci-Fi"
        ],
        [
         "18",
         "1",
         "333",
         "5.0",
         "964981179",
         "114694",
         "11381.0",
         "Tommy Boy (1995)",
         "Comedy"
        ],
        [
         "19",
         "1",
         "349",
         "4.0",
         "964982563",
         "109444",
         "9331.0",
         "Clear and Present Danger (1994)",
         "Action|Crime|Drama|Thriller"
        ],
        [
         "20",
         "1",
         "356",
         "4.0",
         "964980962",
         "109830",
         "13.0",
         "Forrest Gump (1994)",
         "Comedy|Drama|Romance|War"
        ],
        [
         "21",
         "1",
         "362",
         "5.0",
         "964982588",
         "110213",
         "10714.0",
         "Jungle Book, The (1994)",
         "Adventure|Children|Romance"
        ],
        [
         "22",
         "1",
         "367",
         "4.0",
         "964981710",
         "110475",
         "854.0",
         "Mask, The (1994)",
         "Action|Comedy|Crime|Fantasy"
        ],
        [
         "23",
         "1",
         "423",
         "3.0",
         "964982363",
         "109303",
         "178.0",
         "Blown Away (1994)",
         "Action|Thriller"
        ],
        [
         "24",
         "1",
         "441",
         "4.0",
         "964980868",
         "106677",
         "9571.0",
         "Dazed and Confused (1993)",
         "Comedy"
        ],
        [
         "25",
         "1",
         "457",
         "5.0",
         "964981909",
         "106977",
         "5503.0",
         "Fugitive, The (1993)",
         "Thriller"
        ],
        [
         "26",
         "1",
         "480",
         "4.0",
         "964982346",
         "107290",
         "329.0",
         "Jurassic Park (1993)",
         "Action|Adventure|Sci-Fi|Thriller"
        ],
        [
         "27",
         "1",
         "500",
         "3.0",
         "964981208",
         "107614",
         "788.0",
         "Mrs. Doubtfire (1993)",
         "Comedy|Drama"
        ],
        [
         "28",
         "1",
         "527",
         "5.0",
         "964984002",
         "108052",
         "424.0",
         "Schindler's List (1993)",
         "Drama|War"
        ],
        [
         "29",
         "1",
         "543",
         "4.0",
         "964981179",
         "108174",
         "10442.0",
         "So I Married an Axe Murderer (1993)",
         "Comedy|Romance|Thriller"
        ],
        [
         "30",
         "1",
         "552",
         "4.0",
         "964982653",
         "108333",
         "10057.0",
         "Three Musketeers, The (1993)",
         "Action|Adventure|Comedy|Romance"
        ],
        [
         "31",
         "1",
         "553",
         "5.0",
         "964984153",
         "108358",
         "11969.0",
         "Tombstone (1993)",
         "Action|Drama|Western"
        ],
        [
         "32",
         "1",
         "590",
         "4.0",
         "964982546",
         "99348",
         "581.0",
         "Dances with Wolves (1990)",
         "Adventure|Drama|Western"
        ],
        [
         "33",
         "1",
         "592",
         "4.0",
         "964982271",
         "96895",
         "268.0",
         "Batman (1989)",
         "Action|Crime|Thriller"
        ],
        [
         "34",
         "1",
         "593",
         "4.0",
         "964983793",
         "102926",
         "274.0",
         "Silence of the Lambs, The (1991)",
         "Crime|Horror|Thriller"
        ],
        [
         "35",
         "1",
         "596",
         "5.0",
         "964982838",
         "32910",
         "10895.0",
         "Pinocchio (1940)",
         "Animation|Children|Fantasy|Musical"
        ],
        [
         "36",
         "1",
         "608",
         "5.0",
         "964982931",
         "116282",
         "275.0",
         "Fargo (1996)",
         "Comedy|Crime|Drama|Thriller"
        ],
        [
         "37",
         "1",
         "648",
         "3.0",
         "964982563",
         "117060",
         "954.0",
         "Mission: Impossible (1996)",
         "Action|Adventure|Mystery|Thriller"
        ],
        [
         "38",
         "1",
         "661",
         "5.0",
         "964982838",
         "116683",
         "10539.0",
         "James and the Giant Peach (1996)",
         "Adventure|Animation|Children|Fantasy|Musical"
        ],
        [
         "39",
         "1",
         "673",
         "3.0",
         "964981775",
         "117705",
         "2300.0",
         "Space Jam (1996)",
         "Adventure|Animation|Children|Comedy|Fantasy|Sci-Fi"
        ],
        [
         "40",
         "1",
         "733",
         "4.0",
         "964982400",
         "117500",
         "9802.0",
         "Rock, The (1996)",
         "Action|Adventure|Thriller"
        ],
        [
         "41",
         "1",
         "736",
         "3.0",
         "964982653",
         "117998",
         "664.0",
         "Twister (1996)",
         "Action|Adventure|Romance|Thriller"
        ],
        [
         "42",
         "1",
         "780",
         "3.0",
         "964984086",
         "116629",
         "602.0",
         "Independence Day (a.k.a. ID4) (1996)",
         "Action|Adventure|Sci-Fi|Thriller"
        ],
        [
         "43",
         "1",
         "804",
         "4.0",
         "964980499",
         "117628",
         "11363.0",
         "She's the One (1996)",
         "Comedy|Romance"
        ],
        [
         "44",
         "1",
         "919",
         "5.0",
         "964982475",
         "32138",
         "630.0",
         "Wizard of Oz, The (1939)",
         "Adventure|Children|Fantasy|Musical"
        ],
        [
         "45",
         "1",
         "923",
         "5.0",
         "964981529",
         "33467",
         "15.0",
         "Citizen Kane (1941)",
         "Drama|Mystery"
        ],
        [
         "46",
         "1",
         "940",
         "5.0",
         "964982176",
         "29843",
         "10907.0",
         "Adventures of Robin Hood, The (1938)",
         "Action|Adventure|Romance"
        ],
        [
         "47",
         "1",
         "943",
         "4.0",
         "964983614",
         "39420",
         "22292.0",
         "Ghost and Mrs. Muir, The (1947)",
         "Drama|Fantasy|Romance"
        ],
        [
         "48",
         "1",
         "954",
         "5.0",
         "964983219",
         "31679",
         "3083.0",
         "Mr. Smith Goes to Washington (1939)",
         "Drama"
        ],
        [
         "49",
         "1",
         "1009",
         "3.0",
         "964981775",
         "72951",
         "14821.0",
         "Escape to Witch Mountain (1975)",
         "Adventure|Children|Fantasy"
        ]
       ],
       "shape": {
        "columns": 8,
        "rows": 100836
       }
      },
      "text/html": [
       "<div>\n",
       "<style scoped>\n",
       "    .dataframe tbody tr th:only-of-type {\n",
       "        vertical-align: middle;\n",
       "    }\n",
       "\n",
       "    .dataframe tbody tr th {\n",
       "        vertical-align: top;\n",
       "    }\n",
       "\n",
       "    .dataframe thead th {\n",
       "        text-align: right;\n",
       "    }\n",
       "</style>\n",
       "<table border=\"1\" class=\"dataframe\">\n",
       "  <thead>\n",
       "    <tr style=\"text-align: right;\">\n",
       "      <th></th>\n",
       "      <th>userId</th>\n",
       "      <th>movieId</th>\n",
       "      <th>rating</th>\n",
       "      <th>timestamp</th>\n",
       "      <th>imdbId</th>\n",
       "      <th>tmdbId</th>\n",
       "      <th>title</th>\n",
       "      <th>genres</th>\n",
       "    </tr>\n",
       "  </thead>\n",
       "  <tbody>\n",
       "    <tr>\n",
       "      <th>0</th>\n",
       "      <td>1</td>\n",
       "      <td>1</td>\n",
       "      <td>4.0</td>\n",
       "      <td>964982703</td>\n",
       "      <td>114709</td>\n",
       "      <td>862.0</td>\n",
       "      <td>Toy Story (1995)</td>\n",
       "      <td>Adventure|Animation|Children|Comedy|Fantasy</td>\n",
       "    </tr>\n",
       "    <tr>\n",
       "      <th>1</th>\n",
       "      <td>1</td>\n",
       "      <td>3</td>\n",
       "      <td>4.0</td>\n",
       "      <td>964981247</td>\n",
       "      <td>113228</td>\n",
       "      <td>15602.0</td>\n",
       "      <td>Grumpier Old Men (1995)</td>\n",
       "      <td>Comedy|Romance</td>\n",
       "    </tr>\n",
       "    <tr>\n",
       "      <th>2</th>\n",
       "      <td>1</td>\n",
       "      <td>6</td>\n",
       "      <td>4.0</td>\n",
       "      <td>964982224</td>\n",
       "      <td>113277</td>\n",
       "      <td>949.0</td>\n",
       "      <td>Heat (1995)</td>\n",
       "      <td>Action|Crime|Thriller</td>\n",
       "    </tr>\n",
       "    <tr>\n",
       "      <th>3</th>\n",
       "      <td>1</td>\n",
       "      <td>47</td>\n",
       "      <td>5.0</td>\n",
       "      <td>964983815</td>\n",
       "      <td>114369</td>\n",
       "      <td>807.0</td>\n",
       "      <td>Seven (a.k.a. Se7en) (1995)</td>\n",
       "      <td>Mystery|Thriller</td>\n",
       "    </tr>\n",
       "    <tr>\n",
       "      <th>4</th>\n",
       "      <td>1</td>\n",
       "      <td>50</td>\n",
       "      <td>5.0</td>\n",
       "      <td>964982931</td>\n",
       "      <td>114814</td>\n",
       "      <td>629.0</td>\n",
       "      <td>Usual Suspects, The (1995)</td>\n",
       "      <td>Crime|Mystery|Thriller</td>\n",
       "    </tr>\n",
       "    <tr>\n",
       "      <th>...</th>\n",
       "      <td>...</td>\n",
       "      <td>...</td>\n",
       "      <td>...</td>\n",
       "      <td>...</td>\n",
       "      <td>...</td>\n",
       "      <td>...</td>\n",
       "      <td>...</td>\n",
       "      <td>...</td>\n",
       "    </tr>\n",
       "    <tr>\n",
       "      <th>100831</th>\n",
       "      <td>610</td>\n",
       "      <td>166534</td>\n",
       "      <td>4.0</td>\n",
       "      <td>1493848402</td>\n",
       "      <td>4972582</td>\n",
       "      <td>381288.0</td>\n",
       "      <td>Split (2017)</td>\n",
       "      <td>Drama|Horror|Thriller</td>\n",
       "    </tr>\n",
       "    <tr>\n",
       "      <th>100832</th>\n",
       "      <td>610</td>\n",
       "      <td>168248</td>\n",
       "      <td>5.0</td>\n",
       "      <td>1493850091</td>\n",
       "      <td>4425200</td>\n",
       "      <td>324552.0</td>\n",
       "      <td>John Wick: Chapter Two (2017)</td>\n",
       "      <td>Action|Crime|Thriller</td>\n",
       "    </tr>\n",
       "    <tr>\n",
       "      <th>100833</th>\n",
       "      <td>610</td>\n",
       "      <td>168250</td>\n",
       "      <td>5.0</td>\n",
       "      <td>1494273047</td>\n",
       "      <td>5052448</td>\n",
       "      <td>419430.0</td>\n",
       "      <td>Get Out (2017)</td>\n",
       "      <td>Horror</td>\n",
       "    </tr>\n",
       "    <tr>\n",
       "      <th>100834</th>\n",
       "      <td>610</td>\n",
       "      <td>168252</td>\n",
       "      <td>5.0</td>\n",
       "      <td>1493846352</td>\n",
       "      <td>3315342</td>\n",
       "      <td>263115.0</td>\n",
       "      <td>Logan (2017)</td>\n",
       "      <td>Action|Sci-Fi</td>\n",
       "    </tr>\n",
       "    <tr>\n",
       "      <th>100835</th>\n",
       "      <td>610</td>\n",
       "      <td>170875</td>\n",
       "      <td>3.0</td>\n",
       "      <td>1493846415</td>\n",
       "      <td>4630562</td>\n",
       "      <td>337339.0</td>\n",
       "      <td>The Fate of the Furious (2017)</td>\n",
       "      <td>Action|Crime|Drama|Thriller</td>\n",
       "    </tr>\n",
       "  </tbody>\n",
       "</table>\n",
       "<p>100836 rows × 8 columns</p>\n",
       "</div>"
      ],
      "text/plain": [
       "        userId  movieId  rating   timestamp   imdbId    tmdbId  \\\n",
       "0            1        1     4.0   964982703   114709     862.0   \n",
       "1            1        3     4.0   964981247   113228   15602.0   \n",
       "2            1        6     4.0   964982224   113277     949.0   \n",
       "3            1       47     5.0   964983815   114369     807.0   \n",
       "4            1       50     5.0   964982931   114814     629.0   \n",
       "...        ...      ...     ...         ...      ...       ...   \n",
       "100831     610   166534     4.0  1493848402  4972582  381288.0   \n",
       "100832     610   168248     5.0  1493850091  4425200  324552.0   \n",
       "100833     610   168250     5.0  1494273047  5052448  419430.0   \n",
       "100834     610   168252     5.0  1493846352  3315342  263115.0   \n",
       "100835     610   170875     3.0  1493846415  4630562  337339.0   \n",
       "\n",
       "                                 title  \\\n",
       "0                     Toy Story (1995)   \n",
       "1              Grumpier Old Men (1995)   \n",
       "2                          Heat (1995)   \n",
       "3          Seven (a.k.a. Se7en) (1995)   \n",
       "4           Usual Suspects, The (1995)   \n",
       "...                                ...   \n",
       "100831                    Split (2017)   \n",
       "100832   John Wick: Chapter Two (2017)   \n",
       "100833                  Get Out (2017)   \n",
       "100834                    Logan (2017)   \n",
       "100835  The Fate of the Furious (2017)   \n",
       "\n",
       "                                             genres  \n",
       "0       Adventure|Animation|Children|Comedy|Fantasy  \n",
       "1                                    Comedy|Romance  \n",
       "2                             Action|Crime|Thriller  \n",
       "3                                  Mystery|Thriller  \n",
       "4                            Crime|Mystery|Thriller  \n",
       "...                                             ...  \n",
       "100831                        Drama|Horror|Thriller  \n",
       "100832                        Action|Crime|Thriller  \n",
       "100833                                       Horror  \n",
       "100834                                Action|Sci-Fi  \n",
       "100835                  Action|Crime|Drama|Thriller  \n",
       "\n",
       "[100836 rows x 8 columns]"
      ]
     },
     "execution_count": 40,
     "metadata": {},
     "output_type": "execute_result"
    }
   ],
   "source": [
    "# Merging the datasets to have one large dataset\n",
    "links_movies = pd.merge(links_df, movies_df, how=\"left\", on=\"movieId\")\n",
    "final_df = pd.merge(ratings_df, links_movies, how = \"left\", on = \"movieId\")\n",
    "final_df"
   ]
  },
  {
   "cell_type": "markdown",
   "id": "8f89fcaf",
   "metadata": {},
   "source": [
    "**_Note:_** The `tags_df` dataset was not included in the merging as its content will input around 97% of null values in our dataset which would not be ideal."
   ]
  },
  {
   "cell_type": "code",
   "execution_count": 41,
   "id": "64c83d7d",
   "metadata": {},
   "outputs": [
    {
     "data": {
      "application/vnd.microsoft.datawrangler.viewer.v0+json": {
       "columns": [
        {
         "name": "index",
         "rawType": "int64",
         "type": "integer"
        },
        {
         "name": "userId",
         "rawType": "int64",
         "type": "integer"
        },
        {
         "name": "movieId",
         "rawType": "int64",
         "type": "integer"
        },
        {
         "name": "rating",
         "rawType": "float64",
         "type": "float"
        },
        {
         "name": "title",
         "rawType": "object",
         "type": "string"
        },
        {
         "name": "genres",
         "rawType": "object",
         "type": "string"
        }
       ],
       "ref": "93529b52-491b-4b71-8d30-15e576570e04",
       "rows": [
        [
         "0",
         "1",
         "1",
         "4.0",
         "Toy Story (1995)",
         "Adventure|Animation|Children|Comedy|Fantasy"
        ],
        [
         "1",
         "1",
         "3",
         "4.0",
         "Grumpier Old Men (1995)",
         "Comedy|Romance"
        ],
        [
         "2",
         "1",
         "6",
         "4.0",
         "Heat (1995)",
         "Action|Crime|Thriller"
        ],
        [
         "3",
         "1",
         "47",
         "5.0",
         "Seven (a.k.a. Se7en) (1995)",
         "Mystery|Thriller"
        ],
        [
         "4",
         "1",
         "50",
         "5.0",
         "Usual Suspects, The (1995)",
         "Crime|Mystery|Thriller"
        ],
        [
         "5",
         "1",
         "70",
         "3.0",
         "From Dusk Till Dawn (1996)",
         "Action|Comedy|Horror|Thriller"
        ],
        [
         "6",
         "1",
         "101",
         "5.0",
         "Bottle Rocket (1996)",
         "Adventure|Comedy|Crime|Romance"
        ],
        [
         "7",
         "1",
         "110",
         "4.0",
         "Braveheart (1995)",
         "Action|Drama|War"
        ],
        [
         "8",
         "1",
         "151",
         "5.0",
         "Rob Roy (1995)",
         "Action|Drama|Romance|War"
        ],
        [
         "9",
         "1",
         "157",
         "5.0",
         "Canadian Bacon (1995)",
         "Comedy|War"
        ],
        [
         "10",
         "1",
         "163",
         "5.0",
         "Desperado (1995)",
         "Action|Romance|Western"
        ],
        [
         "11",
         "1",
         "216",
         "5.0",
         "Billy Madison (1995)",
         "Comedy"
        ],
        [
         "12",
         "1",
         "223",
         "3.0",
         "Clerks (1994)",
         "Comedy"
        ],
        [
         "13",
         "1",
         "231",
         "5.0",
         "Dumb & Dumber (Dumb and Dumber) (1994)",
         "Adventure|Comedy"
        ],
        [
         "14",
         "1",
         "235",
         "4.0",
         "Ed Wood (1994)",
         "Comedy|Drama"
        ],
        [
         "15",
         "1",
         "260",
         "5.0",
         "Star Wars: Episode IV - A New Hope (1977)",
         "Action|Adventure|Sci-Fi"
        ],
        [
         "16",
         "1",
         "296",
         "3.0",
         "Pulp Fiction (1994)",
         "Comedy|Crime|Drama|Thriller"
        ],
        [
         "17",
         "1",
         "316",
         "3.0",
         "Stargate (1994)",
         "Action|Adventure|Sci-Fi"
        ],
        [
         "18",
         "1",
         "333",
         "5.0",
         "Tommy Boy (1995)",
         "Comedy"
        ],
        [
         "19",
         "1",
         "349",
         "4.0",
         "Clear and Present Danger (1994)",
         "Action|Crime|Drama|Thriller"
        ],
        [
         "20",
         "1",
         "356",
         "4.0",
         "Forrest Gump (1994)",
         "Comedy|Drama|Romance|War"
        ],
        [
         "21",
         "1",
         "362",
         "5.0",
         "Jungle Book, The (1994)",
         "Adventure|Children|Romance"
        ],
        [
         "22",
         "1",
         "367",
         "4.0",
         "Mask, The (1994)",
         "Action|Comedy|Crime|Fantasy"
        ],
        [
         "23",
         "1",
         "423",
         "3.0",
         "Blown Away (1994)",
         "Action|Thriller"
        ],
        [
         "24",
         "1",
         "441",
         "4.0",
         "Dazed and Confused (1993)",
         "Comedy"
        ],
        [
         "25",
         "1",
         "457",
         "5.0",
         "Fugitive, The (1993)",
         "Thriller"
        ],
        [
         "26",
         "1",
         "480",
         "4.0",
         "Jurassic Park (1993)",
         "Action|Adventure|Sci-Fi|Thriller"
        ],
        [
         "27",
         "1",
         "500",
         "3.0",
         "Mrs. Doubtfire (1993)",
         "Comedy|Drama"
        ],
        [
         "28",
         "1",
         "527",
         "5.0",
         "Schindler's List (1993)",
         "Drama|War"
        ],
        [
         "29",
         "1",
         "543",
         "4.0",
         "So I Married an Axe Murderer (1993)",
         "Comedy|Romance|Thriller"
        ],
        [
         "30",
         "1",
         "552",
         "4.0",
         "Three Musketeers, The (1993)",
         "Action|Adventure|Comedy|Romance"
        ],
        [
         "31",
         "1",
         "553",
         "5.0",
         "Tombstone (1993)",
         "Action|Drama|Western"
        ],
        [
         "32",
         "1",
         "590",
         "4.0",
         "Dances with Wolves (1990)",
         "Adventure|Drama|Western"
        ],
        [
         "33",
         "1",
         "592",
         "4.0",
         "Batman (1989)",
         "Action|Crime|Thriller"
        ],
        [
         "34",
         "1",
         "593",
         "4.0",
         "Silence of the Lambs, The (1991)",
         "Crime|Horror|Thriller"
        ],
        [
         "35",
         "1",
         "596",
         "5.0",
         "Pinocchio (1940)",
         "Animation|Children|Fantasy|Musical"
        ],
        [
         "36",
         "1",
         "608",
         "5.0",
         "Fargo (1996)",
         "Comedy|Crime|Drama|Thriller"
        ],
        [
         "37",
         "1",
         "648",
         "3.0",
         "Mission: Impossible (1996)",
         "Action|Adventure|Mystery|Thriller"
        ],
        [
         "38",
         "1",
         "661",
         "5.0",
         "James and the Giant Peach (1996)",
         "Adventure|Animation|Children|Fantasy|Musical"
        ],
        [
         "39",
         "1",
         "673",
         "3.0",
         "Space Jam (1996)",
         "Adventure|Animation|Children|Comedy|Fantasy|Sci-Fi"
        ],
        [
         "40",
         "1",
         "733",
         "4.0",
         "Rock, The (1996)",
         "Action|Adventure|Thriller"
        ],
        [
         "41",
         "1",
         "736",
         "3.0",
         "Twister (1996)",
         "Action|Adventure|Romance|Thriller"
        ],
        [
         "42",
         "1",
         "780",
         "3.0",
         "Independence Day (a.k.a. ID4) (1996)",
         "Action|Adventure|Sci-Fi|Thriller"
        ],
        [
         "43",
         "1",
         "804",
         "4.0",
         "She's the One (1996)",
         "Comedy|Romance"
        ],
        [
         "44",
         "1",
         "919",
         "5.0",
         "Wizard of Oz, The (1939)",
         "Adventure|Children|Fantasy|Musical"
        ],
        [
         "45",
         "1",
         "923",
         "5.0",
         "Citizen Kane (1941)",
         "Drama|Mystery"
        ],
        [
         "46",
         "1",
         "940",
         "5.0",
         "Adventures of Robin Hood, The (1938)",
         "Action|Adventure|Romance"
        ],
        [
         "47",
         "1",
         "943",
         "4.0",
         "Ghost and Mrs. Muir, The (1947)",
         "Drama|Fantasy|Romance"
        ],
        [
         "48",
         "1",
         "954",
         "5.0",
         "Mr. Smith Goes to Washington (1939)",
         "Drama"
        ],
        [
         "49",
         "1",
         "1009",
         "3.0",
         "Escape to Witch Mountain (1975)",
         "Adventure|Children|Fantasy"
        ]
       ],
       "shape": {
        "columns": 5,
        "rows": 100836
       }
      },
      "text/html": [
       "<div>\n",
       "<style scoped>\n",
       "    .dataframe tbody tr th:only-of-type {\n",
       "        vertical-align: middle;\n",
       "    }\n",
       "\n",
       "    .dataframe tbody tr th {\n",
       "        vertical-align: top;\n",
       "    }\n",
       "\n",
       "    .dataframe thead th {\n",
       "        text-align: right;\n",
       "    }\n",
       "</style>\n",
       "<table border=\"1\" class=\"dataframe\">\n",
       "  <thead>\n",
       "    <tr style=\"text-align: right;\">\n",
       "      <th></th>\n",
       "      <th>userId</th>\n",
       "      <th>movieId</th>\n",
       "      <th>rating</th>\n",
       "      <th>title</th>\n",
       "      <th>genres</th>\n",
       "    </tr>\n",
       "  </thead>\n",
       "  <tbody>\n",
       "    <tr>\n",
       "      <th>0</th>\n",
       "      <td>1</td>\n",
       "      <td>1</td>\n",
       "      <td>4.0</td>\n",
       "      <td>Toy Story (1995)</td>\n",
       "      <td>Adventure|Animation|Children|Comedy|Fantasy</td>\n",
       "    </tr>\n",
       "    <tr>\n",
       "      <th>1</th>\n",
       "      <td>1</td>\n",
       "      <td>3</td>\n",
       "      <td>4.0</td>\n",
       "      <td>Grumpier Old Men (1995)</td>\n",
       "      <td>Comedy|Romance</td>\n",
       "    </tr>\n",
       "    <tr>\n",
       "      <th>2</th>\n",
       "      <td>1</td>\n",
       "      <td>6</td>\n",
       "      <td>4.0</td>\n",
       "      <td>Heat (1995)</td>\n",
       "      <td>Action|Crime|Thriller</td>\n",
       "    </tr>\n",
       "    <tr>\n",
       "      <th>3</th>\n",
       "      <td>1</td>\n",
       "      <td>47</td>\n",
       "      <td>5.0</td>\n",
       "      <td>Seven (a.k.a. Se7en) (1995)</td>\n",
       "      <td>Mystery|Thriller</td>\n",
       "    </tr>\n",
       "    <tr>\n",
       "      <th>4</th>\n",
       "      <td>1</td>\n",
       "      <td>50</td>\n",
       "      <td>5.0</td>\n",
       "      <td>Usual Suspects, The (1995)</td>\n",
       "      <td>Crime|Mystery|Thriller</td>\n",
       "    </tr>\n",
       "    <tr>\n",
       "      <th>...</th>\n",
       "      <td>...</td>\n",
       "      <td>...</td>\n",
       "      <td>...</td>\n",
       "      <td>...</td>\n",
       "      <td>...</td>\n",
       "    </tr>\n",
       "    <tr>\n",
       "      <th>100831</th>\n",
       "      <td>610</td>\n",
       "      <td>166534</td>\n",
       "      <td>4.0</td>\n",
       "      <td>Split (2017)</td>\n",
       "      <td>Drama|Horror|Thriller</td>\n",
       "    </tr>\n",
       "    <tr>\n",
       "      <th>100832</th>\n",
       "      <td>610</td>\n",
       "      <td>168248</td>\n",
       "      <td>5.0</td>\n",
       "      <td>John Wick: Chapter Two (2017)</td>\n",
       "      <td>Action|Crime|Thriller</td>\n",
       "    </tr>\n",
       "    <tr>\n",
       "      <th>100833</th>\n",
       "      <td>610</td>\n",
       "      <td>168250</td>\n",
       "      <td>5.0</td>\n",
       "      <td>Get Out (2017)</td>\n",
       "      <td>Horror</td>\n",
       "    </tr>\n",
       "    <tr>\n",
       "      <th>100834</th>\n",
       "      <td>610</td>\n",
       "      <td>168252</td>\n",
       "      <td>5.0</td>\n",
       "      <td>Logan (2017)</td>\n",
       "      <td>Action|Sci-Fi</td>\n",
       "    </tr>\n",
       "    <tr>\n",
       "      <th>100835</th>\n",
       "      <td>610</td>\n",
       "      <td>170875</td>\n",
       "      <td>3.0</td>\n",
       "      <td>The Fate of the Furious (2017)</td>\n",
       "      <td>Action|Crime|Drama|Thriller</td>\n",
       "    </tr>\n",
       "  </tbody>\n",
       "</table>\n",
       "<p>100836 rows × 5 columns</p>\n",
       "</div>"
      ],
      "text/plain": [
       "        userId  movieId  rating                           title  \\\n",
       "0            1        1     4.0                Toy Story (1995)   \n",
       "1            1        3     4.0         Grumpier Old Men (1995)   \n",
       "2            1        6     4.0                     Heat (1995)   \n",
       "3            1       47     5.0     Seven (a.k.a. Se7en) (1995)   \n",
       "4            1       50     5.0      Usual Suspects, The (1995)   \n",
       "...        ...      ...     ...                             ...   \n",
       "100831     610   166534     4.0                    Split (2017)   \n",
       "100832     610   168248     5.0   John Wick: Chapter Two (2017)   \n",
       "100833     610   168250     5.0                  Get Out (2017)   \n",
       "100834     610   168252     5.0                    Logan (2017)   \n",
       "100835     610   170875     3.0  The Fate of the Furious (2017)   \n",
       "\n",
       "                                             genres  \n",
       "0       Adventure|Animation|Children|Comedy|Fantasy  \n",
       "1                                    Comedy|Romance  \n",
       "2                             Action|Crime|Thriller  \n",
       "3                                  Mystery|Thriller  \n",
       "4                            Crime|Mystery|Thriller  \n",
       "...                                             ...  \n",
       "100831                        Drama|Horror|Thriller  \n",
       "100832                        Action|Crime|Thriller  \n",
       "100833                                       Horror  \n",
       "100834                                Action|Sci-Fi  \n",
       "100835                  Action|Crime|Drama|Thriller  \n",
       "\n",
       "[100836 rows x 5 columns]"
      ]
     },
     "execution_count": 41,
     "metadata": {},
     "output_type": "execute_result"
    }
   ],
   "source": [
    "# Dropping unnecessary columns\n",
    "final_df = final_df.drop(columns = [\"timestamp\", \"imdbId\", \"tmdbId\"], axis = 1)\n",
    "final_df"
   ]
  },
  {
   "cell_type": "markdown",
   "id": "d7b8bcca",
   "metadata": {},
   "source": [
    "**Observation**\n",
    "\n",
    "The `timestamp`, `imdbId`, `tmdbId` columns were dropped as they were seen as redundant. They are doing the same task as `movieId` as they are all seen as identifiers."
   ]
  },
  {
   "cell_type": "code",
   "execution_count": 42,
   "id": "a7c034d6",
   "metadata": {},
   "outputs": [
    {
     "data": {
      "application/vnd.microsoft.datawrangler.viewer.v0+json": {
       "columns": [
        {
         "name": "index",
         "rawType": "object",
         "type": "string"
        },
        {
         "name": "0",
         "rawType": "int64",
         "type": "integer"
        }
       ],
       "ref": "6d65d256-5595-4d83-9cd8-2a69c7d5dc6b",
       "rows": [
        [
         "userId",
         "0"
        ],
        [
         "movieId",
         "0"
        ],
        [
         "rating",
         "0"
        ],
        [
         "title",
         "0"
        ],
        [
         "genres",
         "0"
        ],
        [
         "year",
         "18"
        ]
       ],
       "shape": {
        "columns": 1,
        "rows": 6
       }
      },
      "text/plain": [
       "userId      0\n",
       "movieId     0\n",
       "rating      0\n",
       "title       0\n",
       "genres      0\n",
       "year       18\n",
       "dtype: int64"
      ]
     },
     "execution_count": 42,
     "metadata": {},
     "output_type": "execute_result"
    }
   ],
   "source": [
    "# Extracting the year from title\n",
    "final_df[\"year\"] = final_df[\"title\"].str.extract(r'\\((\\d{4})\\)')\n",
    "\n",
    "# Removing the year from title column\n",
    "final_df['title'] = final_df['title'].str.replace(r'\\s*\\(\\d{4,}\\)', '', regex=True).str.strip()\n",
    "\n",
    "# Checking if creating the new column created null values\n",
    "final_df.isna().sum()"
   ]
  },
  {
   "cell_type": "code",
   "execution_count": 43,
   "id": "56e59d35",
   "metadata": {},
   "outputs": [
    {
     "data": {
      "application/vnd.microsoft.datawrangler.viewer.v0+json": {
       "columns": [
        {
         "name": "index",
         "rawType": "int64",
         "type": "integer"
        },
        {
         "name": "userId",
         "rawType": "int64",
         "type": "integer"
        },
        {
         "name": "movieId",
         "rawType": "int64",
         "type": "integer"
        },
        {
         "name": "rating",
         "rawType": "float64",
         "type": "float"
        },
        {
         "name": "title",
         "rawType": "object",
         "type": "string"
        },
        {
         "name": "genres",
         "rawType": "object",
         "type": "string"
        },
        {
         "name": "year",
         "rawType": "object",
         "type": "unknown"
        }
       ],
       "ref": "19520099-ea32-47c9-b3ed-b9dddcbdac0b",
       "rows": [
        [
         "9147",
         "62",
         "176601",
         "5.0",
         "Black Mirror",
         "(no genres listed)",
         null
        ],
        [
         "16886",
         "105",
         "147250",
         "5.0",
         "The Adventures of Sherlock Holmes and Doctor Watson",
         "(no genres listed)",
         null
        ],
        [
         "16913",
         "105",
         "171749",
         "5.0",
         "Death Note: Desu nôto (2006–2007)",
         "(no genres listed)",
         null
        ],
        [
         "17879",
         "111",
         "171631",
         "1.0",
         "Maria Bamford: Old Baby",
         "(no genres listed)",
         null
        ],
        [
         "17881",
         "111",
         "171891",
         "3.5",
         "Generation Iron 2",
         "(no genres listed)",
         null
        ],
        [
         "30039",
         "209",
         "140956",
         "3.5",
         "Ready Player One",
         "Action|Sci-Fi|Thriller",
         null
        ],
        [
         "30090",
         "210",
         "40697",
         "4.0",
         "Babylon 5",
         "Sci-Fi",
         null
        ],
        [
         "46593",
         "305",
         "140956",
         "4.5",
         "Ready Player One",
         "Action|Sci-Fi|Thriller",
         null
        ],
        [
         "46711",
         "306",
         "149334",
         "3.0",
         "Nocturnal Animals",
         "Drama|Thriller",
         null
        ],
        [
         "49851",
         "318",
         "171495",
         "5.0",
         "Cosmos",
         "(no genres listed)",
         null
        ],
        [
         "58040",
         "380",
         "140956",
         "3.0",
         "Ready Player One",
         "Action|Sci-Fi|Thriller",
         null
        ],
        [
         "64964",
         "414",
         "167570",
         "4.0",
         "The OA",
         "(no genres listed)",
         null
        ],
        [
         "70432",
         "448",
         "143410",
         "2.0",
         "Hyena Road",
         "(no genres listed)",
         null
        ],
        [
         "71984",
         "462",
         "162414",
         "5.0",
         "Moonlight",
         "Drama",
         null
        ],
        [
         "81445",
         "514",
         "140956",
         "3.0",
         "Ready Player One",
         "Action|Sci-Fi|Thriller",
         null
        ],
        [
         "83380",
         "528",
         "40697",
         "0.5",
         "Babylon 5",
         "Sci-Fi",
         null
        ],
        [
         "88136",
         "567",
         "156605",
         "4.5",
         "Paterson",
         "(no genres listed)",
         null
        ],
        [
         "95078",
         "599",
         "171495",
         "4.0",
         "Cosmos",
         "(no genres listed)",
         null
        ]
       ],
       "shape": {
        "columns": 6,
        "rows": 18
       }
      },
      "text/html": [
       "<div>\n",
       "<style scoped>\n",
       "    .dataframe tbody tr th:only-of-type {\n",
       "        vertical-align: middle;\n",
       "    }\n",
       "\n",
       "    .dataframe tbody tr th {\n",
       "        vertical-align: top;\n",
       "    }\n",
       "\n",
       "    .dataframe thead th {\n",
       "        text-align: right;\n",
       "    }\n",
       "</style>\n",
       "<table border=\"1\" class=\"dataframe\">\n",
       "  <thead>\n",
       "    <tr style=\"text-align: right;\">\n",
       "      <th></th>\n",
       "      <th>userId</th>\n",
       "      <th>movieId</th>\n",
       "      <th>rating</th>\n",
       "      <th>title</th>\n",
       "      <th>genres</th>\n",
       "      <th>year</th>\n",
       "    </tr>\n",
       "  </thead>\n",
       "  <tbody>\n",
       "    <tr>\n",
       "      <th>9147</th>\n",
       "      <td>62</td>\n",
       "      <td>176601</td>\n",
       "      <td>5.0</td>\n",
       "      <td>Black Mirror</td>\n",
       "      <td>(no genres listed)</td>\n",
       "      <td>NaN</td>\n",
       "    </tr>\n",
       "    <tr>\n",
       "      <th>16886</th>\n",
       "      <td>105</td>\n",
       "      <td>147250</td>\n",
       "      <td>5.0</td>\n",
       "      <td>The Adventures of Sherlock Holmes and Doctor W...</td>\n",
       "      <td>(no genres listed)</td>\n",
       "      <td>NaN</td>\n",
       "    </tr>\n",
       "    <tr>\n",
       "      <th>16913</th>\n",
       "      <td>105</td>\n",
       "      <td>171749</td>\n",
       "      <td>5.0</td>\n",
       "      <td>Death Note: Desu nôto (2006–2007)</td>\n",
       "      <td>(no genres listed)</td>\n",
       "      <td>NaN</td>\n",
       "    </tr>\n",
       "    <tr>\n",
       "      <th>17879</th>\n",
       "      <td>111</td>\n",
       "      <td>171631</td>\n",
       "      <td>1.0</td>\n",
       "      <td>Maria Bamford: Old Baby</td>\n",
       "      <td>(no genres listed)</td>\n",
       "      <td>NaN</td>\n",
       "    </tr>\n",
       "    <tr>\n",
       "      <th>17881</th>\n",
       "      <td>111</td>\n",
       "      <td>171891</td>\n",
       "      <td>3.5</td>\n",
       "      <td>Generation Iron 2</td>\n",
       "      <td>(no genres listed)</td>\n",
       "      <td>NaN</td>\n",
       "    </tr>\n",
       "    <tr>\n",
       "      <th>30039</th>\n",
       "      <td>209</td>\n",
       "      <td>140956</td>\n",
       "      <td>3.5</td>\n",
       "      <td>Ready Player One</td>\n",
       "      <td>Action|Sci-Fi|Thriller</td>\n",
       "      <td>NaN</td>\n",
       "    </tr>\n",
       "    <tr>\n",
       "      <th>30090</th>\n",
       "      <td>210</td>\n",
       "      <td>40697</td>\n",
       "      <td>4.0</td>\n",
       "      <td>Babylon 5</td>\n",
       "      <td>Sci-Fi</td>\n",
       "      <td>NaN</td>\n",
       "    </tr>\n",
       "    <tr>\n",
       "      <th>46593</th>\n",
       "      <td>305</td>\n",
       "      <td>140956</td>\n",
       "      <td>4.5</td>\n",
       "      <td>Ready Player One</td>\n",
       "      <td>Action|Sci-Fi|Thriller</td>\n",
       "      <td>NaN</td>\n",
       "    </tr>\n",
       "    <tr>\n",
       "      <th>46711</th>\n",
       "      <td>306</td>\n",
       "      <td>149334</td>\n",
       "      <td>3.0</td>\n",
       "      <td>Nocturnal Animals</td>\n",
       "      <td>Drama|Thriller</td>\n",
       "      <td>NaN</td>\n",
       "    </tr>\n",
       "    <tr>\n",
       "      <th>49851</th>\n",
       "      <td>318</td>\n",
       "      <td>171495</td>\n",
       "      <td>5.0</td>\n",
       "      <td>Cosmos</td>\n",
       "      <td>(no genres listed)</td>\n",
       "      <td>NaN</td>\n",
       "    </tr>\n",
       "    <tr>\n",
       "      <th>58040</th>\n",
       "      <td>380</td>\n",
       "      <td>140956</td>\n",
       "      <td>3.0</td>\n",
       "      <td>Ready Player One</td>\n",
       "      <td>Action|Sci-Fi|Thriller</td>\n",
       "      <td>NaN</td>\n",
       "    </tr>\n",
       "    <tr>\n",
       "      <th>64964</th>\n",
       "      <td>414</td>\n",
       "      <td>167570</td>\n",
       "      <td>4.0</td>\n",
       "      <td>The OA</td>\n",
       "      <td>(no genres listed)</td>\n",
       "      <td>NaN</td>\n",
       "    </tr>\n",
       "    <tr>\n",
       "      <th>70432</th>\n",
       "      <td>448</td>\n",
       "      <td>143410</td>\n",
       "      <td>2.0</td>\n",
       "      <td>Hyena Road</td>\n",
       "      <td>(no genres listed)</td>\n",
       "      <td>NaN</td>\n",
       "    </tr>\n",
       "    <tr>\n",
       "      <th>71984</th>\n",
       "      <td>462</td>\n",
       "      <td>162414</td>\n",
       "      <td>5.0</td>\n",
       "      <td>Moonlight</td>\n",
       "      <td>Drama</td>\n",
       "      <td>NaN</td>\n",
       "    </tr>\n",
       "    <tr>\n",
       "      <th>81445</th>\n",
       "      <td>514</td>\n",
       "      <td>140956</td>\n",
       "      <td>3.0</td>\n",
       "      <td>Ready Player One</td>\n",
       "      <td>Action|Sci-Fi|Thriller</td>\n",
       "      <td>NaN</td>\n",
       "    </tr>\n",
       "    <tr>\n",
       "      <th>83380</th>\n",
       "      <td>528</td>\n",
       "      <td>40697</td>\n",
       "      <td>0.5</td>\n",
       "      <td>Babylon 5</td>\n",
       "      <td>Sci-Fi</td>\n",
       "      <td>NaN</td>\n",
       "    </tr>\n",
       "    <tr>\n",
       "      <th>88136</th>\n",
       "      <td>567</td>\n",
       "      <td>156605</td>\n",
       "      <td>4.5</td>\n",
       "      <td>Paterson</td>\n",
       "      <td>(no genres listed)</td>\n",
       "      <td>NaN</td>\n",
       "    </tr>\n",
       "    <tr>\n",
       "      <th>95078</th>\n",
       "      <td>599</td>\n",
       "      <td>171495</td>\n",
       "      <td>4.0</td>\n",
       "      <td>Cosmos</td>\n",
       "      <td>(no genres listed)</td>\n",
       "      <td>NaN</td>\n",
       "    </tr>\n",
       "  </tbody>\n",
       "</table>\n",
       "</div>"
      ],
      "text/plain": [
       "       userId  movieId  rating  \\\n",
       "9147       62   176601     5.0   \n",
       "16886     105   147250     5.0   \n",
       "16913     105   171749     5.0   \n",
       "17879     111   171631     1.0   \n",
       "17881     111   171891     3.5   \n",
       "30039     209   140956     3.5   \n",
       "30090     210    40697     4.0   \n",
       "46593     305   140956     4.5   \n",
       "46711     306   149334     3.0   \n",
       "49851     318   171495     5.0   \n",
       "58040     380   140956     3.0   \n",
       "64964     414   167570     4.0   \n",
       "70432     448   143410     2.0   \n",
       "71984     462   162414     5.0   \n",
       "81445     514   140956     3.0   \n",
       "83380     528    40697     0.5   \n",
       "88136     567   156605     4.5   \n",
       "95078     599   171495     4.0   \n",
       "\n",
       "                                                   title  \\\n",
       "9147                                        Black Mirror   \n",
       "16886  The Adventures of Sherlock Holmes and Doctor W...   \n",
       "16913                  Death Note: Desu nôto (2006–2007)   \n",
       "17879                            Maria Bamford: Old Baby   \n",
       "17881                                  Generation Iron 2   \n",
       "30039                                   Ready Player One   \n",
       "30090                                          Babylon 5   \n",
       "46593                                   Ready Player One   \n",
       "46711                                  Nocturnal Animals   \n",
       "49851                                             Cosmos   \n",
       "58040                                   Ready Player One   \n",
       "64964                                             The OA   \n",
       "70432                                         Hyena Road   \n",
       "71984                                          Moonlight   \n",
       "81445                                   Ready Player One   \n",
       "83380                                          Babylon 5   \n",
       "88136                                           Paterson   \n",
       "95078                                             Cosmos   \n",
       "\n",
       "                       genres year  \n",
       "9147       (no genres listed)  NaN  \n",
       "16886      (no genres listed)  NaN  \n",
       "16913      (no genres listed)  NaN  \n",
       "17879      (no genres listed)  NaN  \n",
       "17881      (no genres listed)  NaN  \n",
       "30039  Action|Sci-Fi|Thriller  NaN  \n",
       "30090                  Sci-Fi  NaN  \n",
       "46593  Action|Sci-Fi|Thriller  NaN  \n",
       "46711          Drama|Thriller  NaN  \n",
       "49851      (no genres listed)  NaN  \n",
       "58040  Action|Sci-Fi|Thriller  NaN  \n",
       "64964      (no genres listed)  NaN  \n",
       "70432      (no genres listed)  NaN  \n",
       "71984                   Drama  NaN  \n",
       "81445  Action|Sci-Fi|Thriller  NaN  \n",
       "83380                  Sci-Fi  NaN  \n",
       "88136      (no genres listed)  NaN  \n",
       "95078      (no genres listed)  NaN  "
      ]
     },
     "execution_count": 43,
     "metadata": {},
     "output_type": "execute_result"
    }
   ],
   "source": [
    "# Viewing which rows have not been assigned a year\n",
    "final_df[final_df[\"year\"].isna()]"
   ]
  },
  {
   "cell_type": "code",
   "execution_count": 44,
   "id": "472f902b",
   "metadata": {},
   "outputs": [
    {
     "name": "stdout",
     "output_type": "stream",
     "text": [
      "<class 'pandas.core.frame.DataFrame'>\n",
      "RangeIndex: 100836 entries, 0 to 100835\n",
      "Data columns (total 6 columns):\n",
      " #   Column   Non-Null Count   Dtype  \n",
      "---  ------   --------------   -----  \n",
      " 0   userId   100836 non-null  int64  \n",
      " 1   movieId  100836 non-null  int64  \n",
      " 2   rating   100836 non-null  float64\n",
      " 3   title    100836 non-null  object \n",
      " 4   genres   100836 non-null  object \n",
      " 5   year     100836 non-null  int64  \n",
      "dtypes: float64(1), int64(3), object(2)\n",
      "memory usage: 4.6+ MB\n"
     ]
    }
   ],
   "source": [
    "# Imputing the correct years to the missing rows using research\n",
    "final_df.loc[final_df[\"title\"] == \"Black Mirror\", \"year\"] = \"2011\"\n",
    "final_df.loc[final_df[\"title\"] == \"The Adventures of Sherlock Holmes and Doctor Watson\", \"year\"] = \"1980\"\n",
    "final_df.loc[final_df[\"title\"] == \"Death Note: Desu nôto (2006–2007)\", \"year\"] = \"2006\"\n",
    "final_df.loc[final_df[\"title\"] == \"Maria Bamford: Old Baby\", \"year\"] = \"2017\"\n",
    "final_df.loc[final_df[\"title\"] == \"Generation Iron 2\", \"year\"] = \"2017\"\n",
    "final_df.loc[final_df[\"title\"] == \"Ready Player One\", \"year\"] = \"2018\"\n",
    "final_df.loc[final_df[\"title\"] == \"Nocturnal Animals\", \"year\"] = \"2016\"\n",
    "final_df.loc[final_df[\"title\"] == \"Cosmos\", \"year\"] = \"2019\"\n",
    "final_df.loc[final_df[\"title\"] == \"The OA\", \"year\"] = \"2016\"\n",
    "final_df.loc[final_df[\"title\"] == \"Hyena Road\", \"year\"] = \"2015\"\n",
    "final_df.loc[final_df[\"title\"] == \"Moonlight\", \"year\"] = \"2016\"\n",
    "final_df.loc[final_df[\"title\"] == \"Paterson\", \"year\"] = \"2016\"\n",
    "final_df.loc[final_df[\"title\"] == \"Babylon 5\", \"year\"] = \"1994\"\n",
    "\n",
    "# Converting the year into an integer\n",
    "final_df[\"year\"] = final_df[\"year\"].astype(\"int64\")\n",
    "\n",
    "# Confirming\n",
    "final_df.info()"
   ]
  },
  {
   "cell_type": "code",
   "execution_count": 45,
   "id": "1cf92d64",
   "metadata": {},
   "outputs": [
    {
     "data": {
      "application/vnd.microsoft.datawrangler.viewer.v0+json": {
       "columns": [
        {
         "name": "index",
         "rawType": "object",
         "type": "string"
        },
        {
         "name": "0",
         "rawType": "int64",
         "type": "integer"
        }
       ],
       "ref": "8db9ce8c-ce65-41c7-b69d-8c12a8c3d950",
       "rows": [
        [
         "userId",
         "0"
        ],
        [
         "movieId",
         "0"
        ],
        [
         "rating",
         "0"
        ],
        [
         "title",
         "0"
        ],
        [
         "genres",
         "0"
        ],
        [
         "year",
         "0"
        ]
       ],
       "shape": {
        "columns": 1,
        "rows": 6
       }
      },
      "text/plain": [
       "userId     0\n",
       "movieId    0\n",
       "rating     0\n",
       "title      0\n",
       "genres     0\n",
       "year       0\n",
       "dtype: int64"
      ]
     },
     "execution_count": 45,
     "metadata": {},
     "output_type": "execute_result"
    }
   ],
   "source": [
    "# Confirming that there are no null values\n",
    "final_df.isna().sum()"
   ]
  },
  {
   "cell_type": "code",
   "execution_count": 46,
   "id": "429ca51a",
   "metadata": {},
   "outputs": [
    {
     "name": "stdout",
     "output_type": "stream",
     "text": [
      "Our final_df dataset contains 0 duplicated values and 0 null values.\n"
     ]
    }
   ],
   "source": [
    "print(f\"Our final_df dataset contains {final_df.duplicated().sum()} duplicated values and {final_df.isna().sum().sum()} null values.\")"
   ]
  },
  {
   "cell_type": "code",
   "execution_count": 47,
   "id": "2d19e53a",
   "metadata": {
    "scrolled": true
   },
   "outputs": [
    {
     "data": {
      "application/vnd.microsoft.datawrangler.viewer.v0+json": {
       "columns": [
        {
         "name": "index",
         "rawType": "int64",
         "type": "integer"
        },
        {
         "name": "userId",
         "rawType": "int64",
         "type": "integer"
        },
        {
         "name": "movieId",
         "rawType": "int64",
         "type": "integer"
        },
        {
         "name": "title",
         "rawType": "object",
         "type": "string"
        },
        {
         "name": "year",
         "rawType": "int64",
         "type": "integer"
        },
        {
         "name": "genres",
         "rawType": "object",
         "type": "string"
        },
        {
         "name": "rating",
         "rawType": "float64",
         "type": "float"
        }
       ],
       "ref": "554d6619-eb80-469e-8af4-283695b27347",
       "rows": [
        [
         "0",
         "1",
         "1",
         "Toy Story",
         "1995",
         "Adventure|Animation|Children|Comedy|Fantasy",
         "4.0"
        ],
        [
         "1",
         "1",
         "3",
         "Grumpier Old Men",
         "1995",
         "Comedy|Romance",
         "4.0"
        ],
        [
         "2",
         "1",
         "6",
         "Heat",
         "1995",
         "Action|Crime|Thriller",
         "4.0"
        ],
        [
         "3",
         "1",
         "47",
         "Seven (a.k.a. Se7en)",
         "1995",
         "Mystery|Thriller",
         "5.0"
        ],
        [
         "4",
         "1",
         "50",
         "Usual Suspects, The",
         "1995",
         "Crime|Mystery|Thriller",
         "5.0"
        ],
        [
         "5",
         "1",
         "70",
         "From Dusk Till Dawn",
         "1996",
         "Action|Comedy|Horror|Thriller",
         "3.0"
        ],
        [
         "6",
         "1",
         "101",
         "Bottle Rocket",
         "1996",
         "Adventure|Comedy|Crime|Romance",
         "5.0"
        ],
        [
         "7",
         "1",
         "110",
         "Braveheart",
         "1995",
         "Action|Drama|War",
         "4.0"
        ],
        [
         "8",
         "1",
         "151",
         "Rob Roy",
         "1995",
         "Action|Drama|Romance|War",
         "5.0"
        ],
        [
         "9",
         "1",
         "157",
         "Canadian Bacon",
         "1995",
         "Comedy|War",
         "5.0"
        ],
        [
         "10",
         "1",
         "163",
         "Desperado",
         "1995",
         "Action|Romance|Western",
         "5.0"
        ],
        [
         "11",
         "1",
         "216",
         "Billy Madison",
         "1995",
         "Comedy",
         "5.0"
        ],
        [
         "12",
         "1",
         "223",
         "Clerks",
         "1994",
         "Comedy",
         "3.0"
        ],
        [
         "13",
         "1",
         "231",
         "Dumb & Dumber (Dumb and Dumber)",
         "1994",
         "Adventure|Comedy",
         "5.0"
        ],
        [
         "14",
         "1",
         "235",
         "Ed Wood",
         "1994",
         "Comedy|Drama",
         "4.0"
        ],
        [
         "15",
         "1",
         "260",
         "Star Wars: Episode IV - A New Hope",
         "1977",
         "Action|Adventure|Sci-Fi",
         "5.0"
        ],
        [
         "16",
         "1",
         "296",
         "Pulp Fiction",
         "1994",
         "Comedy|Crime|Drama|Thriller",
         "3.0"
        ],
        [
         "17",
         "1",
         "316",
         "Stargate",
         "1994",
         "Action|Adventure|Sci-Fi",
         "3.0"
        ],
        [
         "18",
         "1",
         "333",
         "Tommy Boy",
         "1995",
         "Comedy",
         "5.0"
        ],
        [
         "19",
         "1",
         "349",
         "Clear and Present Danger",
         "1994",
         "Action|Crime|Drama|Thriller",
         "4.0"
        ],
        [
         "20",
         "1",
         "356",
         "Forrest Gump",
         "1994",
         "Comedy|Drama|Romance|War",
         "4.0"
        ],
        [
         "21",
         "1",
         "362",
         "Jungle Book, The",
         "1994",
         "Adventure|Children|Romance",
         "5.0"
        ],
        [
         "22",
         "1",
         "367",
         "Mask, The",
         "1994",
         "Action|Comedy|Crime|Fantasy",
         "4.0"
        ],
        [
         "23",
         "1",
         "423",
         "Blown Away",
         "1994",
         "Action|Thriller",
         "3.0"
        ],
        [
         "24",
         "1",
         "441",
         "Dazed and Confused",
         "1993",
         "Comedy",
         "4.0"
        ],
        [
         "25",
         "1",
         "457",
         "Fugitive, The",
         "1993",
         "Thriller",
         "5.0"
        ],
        [
         "26",
         "1",
         "480",
         "Jurassic Park",
         "1993",
         "Action|Adventure|Sci-Fi|Thriller",
         "4.0"
        ],
        [
         "27",
         "1",
         "500",
         "Mrs. Doubtfire",
         "1993",
         "Comedy|Drama",
         "3.0"
        ],
        [
         "28",
         "1",
         "527",
         "Schindler's List",
         "1993",
         "Drama|War",
         "5.0"
        ],
        [
         "29",
         "1",
         "543",
         "So I Married an Axe Murderer",
         "1993",
         "Comedy|Romance|Thriller",
         "4.0"
        ],
        [
         "30",
         "1",
         "552",
         "Three Musketeers, The",
         "1993",
         "Action|Adventure|Comedy|Romance",
         "4.0"
        ],
        [
         "31",
         "1",
         "553",
         "Tombstone",
         "1993",
         "Action|Drama|Western",
         "5.0"
        ],
        [
         "32",
         "1",
         "590",
         "Dances with Wolves",
         "1990",
         "Adventure|Drama|Western",
         "4.0"
        ],
        [
         "33",
         "1",
         "592",
         "Batman",
         "1989",
         "Action|Crime|Thriller",
         "4.0"
        ],
        [
         "34",
         "1",
         "593",
         "Silence of the Lambs, The",
         "1991",
         "Crime|Horror|Thriller",
         "4.0"
        ],
        [
         "35",
         "1",
         "596",
         "Pinocchio",
         "1940",
         "Animation|Children|Fantasy|Musical",
         "5.0"
        ],
        [
         "36",
         "1",
         "608",
         "Fargo",
         "1996",
         "Comedy|Crime|Drama|Thriller",
         "5.0"
        ],
        [
         "37",
         "1",
         "648",
         "Mission: Impossible",
         "1996",
         "Action|Adventure|Mystery|Thriller",
         "3.0"
        ],
        [
         "38",
         "1",
         "661",
         "James and the Giant Peach",
         "1996",
         "Adventure|Animation|Children|Fantasy|Musical",
         "5.0"
        ],
        [
         "39",
         "1",
         "673",
         "Space Jam",
         "1996",
         "Adventure|Animation|Children|Comedy|Fantasy|Sci-Fi",
         "3.0"
        ],
        [
         "40",
         "1",
         "733",
         "Rock, The",
         "1996",
         "Action|Adventure|Thriller",
         "4.0"
        ],
        [
         "41",
         "1",
         "736",
         "Twister",
         "1996",
         "Action|Adventure|Romance|Thriller",
         "3.0"
        ],
        [
         "42",
         "1",
         "780",
         "Independence Day (a.k.a. ID4)",
         "1996",
         "Action|Adventure|Sci-Fi|Thriller",
         "3.0"
        ],
        [
         "43",
         "1",
         "804",
         "She's the One",
         "1996",
         "Comedy|Romance",
         "4.0"
        ],
        [
         "44",
         "1",
         "919",
         "Wizard of Oz, The",
         "1939",
         "Adventure|Children|Fantasy|Musical",
         "5.0"
        ],
        [
         "45",
         "1",
         "923",
         "Citizen Kane",
         "1941",
         "Drama|Mystery",
         "5.0"
        ],
        [
         "46",
         "1",
         "940",
         "Adventures of Robin Hood, The",
         "1938",
         "Action|Adventure|Romance",
         "5.0"
        ],
        [
         "47",
         "1",
         "943",
         "Ghost and Mrs. Muir, The",
         "1947",
         "Drama|Fantasy|Romance",
         "4.0"
        ],
        [
         "48",
         "1",
         "954",
         "Mr. Smith Goes to Washington",
         "1939",
         "Drama",
         "5.0"
        ],
        [
         "49",
         "1",
         "1009",
         "Escape to Witch Mountain",
         "1975",
         "Adventure|Children|Fantasy",
         "3.0"
        ]
       ],
       "shape": {
        "columns": 6,
        "rows": 100836
       }
      },
      "text/html": [
       "<div>\n",
       "<style scoped>\n",
       "    .dataframe tbody tr th:only-of-type {\n",
       "        vertical-align: middle;\n",
       "    }\n",
       "\n",
       "    .dataframe tbody tr th {\n",
       "        vertical-align: top;\n",
       "    }\n",
       "\n",
       "    .dataframe thead th {\n",
       "        text-align: right;\n",
       "    }\n",
       "</style>\n",
       "<table border=\"1\" class=\"dataframe\">\n",
       "  <thead>\n",
       "    <tr style=\"text-align: right;\">\n",
       "      <th></th>\n",
       "      <th>userId</th>\n",
       "      <th>movieId</th>\n",
       "      <th>title</th>\n",
       "      <th>year</th>\n",
       "      <th>genres</th>\n",
       "      <th>rating</th>\n",
       "    </tr>\n",
       "  </thead>\n",
       "  <tbody>\n",
       "    <tr>\n",
       "      <th>0</th>\n",
       "      <td>1</td>\n",
       "      <td>1</td>\n",
       "      <td>Toy Story</td>\n",
       "      <td>1995</td>\n",
       "      <td>Adventure|Animation|Children|Comedy|Fantasy</td>\n",
       "      <td>4.0</td>\n",
       "    </tr>\n",
       "    <tr>\n",
       "      <th>1</th>\n",
       "      <td>1</td>\n",
       "      <td>3</td>\n",
       "      <td>Grumpier Old Men</td>\n",
       "      <td>1995</td>\n",
       "      <td>Comedy|Romance</td>\n",
       "      <td>4.0</td>\n",
       "    </tr>\n",
       "    <tr>\n",
       "      <th>2</th>\n",
       "      <td>1</td>\n",
       "      <td>6</td>\n",
       "      <td>Heat</td>\n",
       "      <td>1995</td>\n",
       "      <td>Action|Crime|Thriller</td>\n",
       "      <td>4.0</td>\n",
       "    </tr>\n",
       "    <tr>\n",
       "      <th>3</th>\n",
       "      <td>1</td>\n",
       "      <td>47</td>\n",
       "      <td>Seven (a.k.a. Se7en)</td>\n",
       "      <td>1995</td>\n",
       "      <td>Mystery|Thriller</td>\n",
       "      <td>5.0</td>\n",
       "    </tr>\n",
       "    <tr>\n",
       "      <th>4</th>\n",
       "      <td>1</td>\n",
       "      <td>50</td>\n",
       "      <td>Usual Suspects, The</td>\n",
       "      <td>1995</td>\n",
       "      <td>Crime|Mystery|Thriller</td>\n",
       "      <td>5.0</td>\n",
       "    </tr>\n",
       "    <tr>\n",
       "      <th>...</th>\n",
       "      <td>...</td>\n",
       "      <td>...</td>\n",
       "      <td>...</td>\n",
       "      <td>...</td>\n",
       "      <td>...</td>\n",
       "      <td>...</td>\n",
       "    </tr>\n",
       "    <tr>\n",
       "      <th>100831</th>\n",
       "      <td>610</td>\n",
       "      <td>166534</td>\n",
       "      <td>Split</td>\n",
       "      <td>2017</td>\n",
       "      <td>Drama|Horror|Thriller</td>\n",
       "      <td>4.0</td>\n",
       "    </tr>\n",
       "    <tr>\n",
       "      <th>100832</th>\n",
       "      <td>610</td>\n",
       "      <td>168248</td>\n",
       "      <td>John Wick: Chapter Two</td>\n",
       "      <td>2017</td>\n",
       "      <td>Action|Crime|Thriller</td>\n",
       "      <td>5.0</td>\n",
       "    </tr>\n",
       "    <tr>\n",
       "      <th>100833</th>\n",
       "      <td>610</td>\n",
       "      <td>168250</td>\n",
       "      <td>Get Out</td>\n",
       "      <td>2017</td>\n",
       "      <td>Horror</td>\n",
       "      <td>5.0</td>\n",
       "    </tr>\n",
       "    <tr>\n",
       "      <th>100834</th>\n",
       "      <td>610</td>\n",
       "      <td>168252</td>\n",
       "      <td>Logan</td>\n",
       "      <td>2017</td>\n",
       "      <td>Action|Sci-Fi</td>\n",
       "      <td>5.0</td>\n",
       "    </tr>\n",
       "    <tr>\n",
       "      <th>100835</th>\n",
       "      <td>610</td>\n",
       "      <td>170875</td>\n",
       "      <td>The Fate of the Furious</td>\n",
       "      <td>2017</td>\n",
       "      <td>Action|Crime|Drama|Thriller</td>\n",
       "      <td>3.0</td>\n",
       "    </tr>\n",
       "  </tbody>\n",
       "</table>\n",
       "<p>100836 rows × 6 columns</p>\n",
       "</div>"
      ],
      "text/plain": [
       "        userId  movieId                    title  year  \\\n",
       "0            1        1                Toy Story  1995   \n",
       "1            1        3         Grumpier Old Men  1995   \n",
       "2            1        6                     Heat  1995   \n",
       "3            1       47     Seven (a.k.a. Se7en)  1995   \n",
       "4            1       50      Usual Suspects, The  1995   \n",
       "...        ...      ...                      ...   ...   \n",
       "100831     610   166534                    Split  2017   \n",
       "100832     610   168248   John Wick: Chapter Two  2017   \n",
       "100833     610   168250                  Get Out  2017   \n",
       "100834     610   168252                    Logan  2017   \n",
       "100835     610   170875  The Fate of the Furious  2017   \n",
       "\n",
       "                                             genres  rating  \n",
       "0       Adventure|Animation|Children|Comedy|Fantasy     4.0  \n",
       "1                                    Comedy|Romance     4.0  \n",
       "2                             Action|Crime|Thriller     4.0  \n",
       "3                                  Mystery|Thriller     5.0  \n",
       "4                            Crime|Mystery|Thriller     5.0  \n",
       "...                                             ...     ...  \n",
       "100831                        Drama|Horror|Thriller     4.0  \n",
       "100832                        Action|Crime|Thriller     5.0  \n",
       "100833                                       Horror     5.0  \n",
       "100834                                Action|Sci-Fi     5.0  \n",
       "100835                  Action|Crime|Drama|Thriller     3.0  \n",
       "\n",
       "[100836 rows x 6 columns]"
      ]
     },
     "execution_count": 47,
     "metadata": {},
     "output_type": "execute_result"
    }
   ],
   "source": [
    "# Rearranging the columns\n",
    "col_order = [\"userId\", \"movieId\", \"title\", \"year\", \"genres\", \"rating\"]\n",
    "final_df = final_df[col_order].reset_index(drop = True)\n",
    "\n",
    "# Confirming changes\n",
    "final_df"
   ]
  },
  {
   "cell_type": "markdown",
   "id": "5230ed49",
   "metadata": {},
   "source": [
    "Our dataset is now clean and ready for Exploratory Data Analysis and Modeling"
   ]
  },
  {
   "cell_type": "code",
   "execution_count": 48,
   "id": "fce9a233",
   "metadata": {},
   "outputs": [],
   "source": [
    "# Saving the file\n",
    "final_df.to_csv(\"Data/Merged_data.csv\", index = False) "
   ]
  },
  {
   "cell_type": "markdown",
   "id": "7915e757-27fb-4076-90e3-a5e81275612d",
   "metadata": {},
   "source": [
    "# Exploratory Data Analysis\n",
    "## Univariate analysis"
   ]
  },
  {
   "cell_type": "code",
   "execution_count": 49,
   "id": "e7ecbc51-cd93-4acb-af42-ff386f17435c",
   "metadata": {},
   "outputs": [
    {
     "data": {
      "image/png": "[encoded data removed]",
      "text/plain": [
       "<Figure size 1000x800 with 1 Axes>"
      ]
     },
     "metadata": {},
     "output_type": "display_data"
    }
   ],
   "source": [
    "#distribution of the year movies were released\n",
    "final_df_copy = final_df.drop_duplicates(subset=\"movieId\")\n",
    "plt.figure(figsize=(10,8))\n",
    "sns.histplot(final_df_copy['year'], kde= True, bins=10) \n",
    "plt.title(\"Distribution of Movies Release Year\")\n",
    "plt.xlabel(\"Release Year\")\n",
    "plt.ylabel(\"Frequency\")\n",
    "plt.show()"
   ]
  },
  {
   "cell_type": "markdown",
   "id": "dea382bc-c762-49dc-8f53-5a912a7f2015",
   "metadata": {},
   "source": [
    "**Observation**\n",
    "\n",
    "- Most of the movies in our dataset were released after the 80s.This makes it to be negatively skewed.\n",
    "- The oldest movies in our dataset were released around the 1900s."
   ]
  },
  {
   "cell_type": "code",
   "execution_count": 50,
   "id": "eddcd3cd-2294-4dc2-9459-c41a999a9b6a",
   "metadata": {},
   "outputs": [
    {
     "data": {
      "image/png": "[encoded data removed]",
      "text/plain": [
       "<Figure size 1000x800 with 1 Axes>"
      ]
     },
     "metadata": {},
     "output_type": "display_data"
    }
   ],
   "source": [
    "# distribution of ratings\n",
    "plt.figure(figsize=(10,8))\n",
    "sns.histplot(final_df['rating'], bins=10)\n",
    "plt.title(\"Distribution of Movie Ratings\")\n",
    "plt.xlabel(\"Rating\")\n",
    "plt.axvline(x=final_df['rating'].mean(),color='red', linestyle='--', label= 'Mean Rating') \n",
    "plt.ylabel(\"Frequency\")\n",
    "plt.legend() \n",
    "plt.show()"
   ]
  },
  {
   "cell_type": "markdown",
   "id": "979bcb7f-5d3a-48be-b00a-329716fc98ab",
   "metadata": {},
   "source": [
    "**Observation**\n",
    "- Over 25000 movies have been given a rating of 4.\n",
    "- Less than 5000 movies have been given a rating of less than 1.5\n",
    "- The mean rating of our dataset is around 3.5\n",
    "   \n",
    " "
   ]
  },
  {
   "cell_type": "code",
   "execution_count": 51,
   "id": "324d6018-0b80-4c62-9659-96c93e1f266b",
   "metadata": {},
   "outputs": [
    {
     "data": {
      "image/png": "[encoded data removed]",
      "text/plain": [
       "<Figure size 1200x600 with 2 Axes>"
      ]
     },
     "metadata": {},
     "output_type": "display_data"
    }
   ],
   "source": [
    "#making a copy of the dataset to separate the genres individually\n",
    "exploded_df = final_df_copy.copy(deep=True) \n",
    "exploded_df['genres'] = exploded_df['genres'].str.split(\"|\")\n",
    "exploded_df = exploded_df.explode('genres')\n",
    "exploded_df \n",
    "\n",
    "fig, axis= plt.subplots(ncols=2, figsize=(12,6)) \n",
    "\n",
    "#visualizing the combined genres\n",
    "sns.countplot(data=final_df_copy, x='genres', order= final_df_copy['genres'].value_counts().head(10).index,ax=axis[0]) \n",
    "axis[0].set_title(\"Top Ten Combined Genres\")\n",
    "axis[0].set_ylabel('Movies per Combined Genre')\n",
    "axis[0].set_xlabel('Combined Genres')\n",
    "axis[0].tick_params(axis='x', rotation=90) \n",
    "\n",
    "#visualizing the individual genres\n",
    "sns.barplot(data= exploded_df['genres'].value_counts().head(10),ax=axis[1])  \n",
    "axis[1].set_title(\"Top Ten Individual Genres\")\n",
    "axis[1].set_ylabel('Movies per Individual Genre')\n",
    "axis[1].set_xlabel('Individual Genres') \n",
    "axis[1].tick_params(axis='x', rotation=90) \n",
    "\n",
    "plt.tight_layout()\n",
    "plt.suptitle(\"Genre Distribution\", fontsize=20, y= 1.05)\n",
    "plt.show() \n"
   ]
  },
  {
   "cell_type": "markdown",
   "id": "db23f8d4-139b-4984-b1dc-d8beecddfe16",
   "metadata": {},
   "source": [
    "**Observation**\n",
    "\n",
    "- Drama and comedy are the most dominant genres individually and also when combined with other genres.\n",
    "- Drama is also the most present genre in the other combinations followed by comedy.\n",
    "- A combination of comedy and drama genres are third highest in the combined genres plot."
   ]
  },
  {
   "cell_type": "markdown",
   "id": "ac223ab6",
   "metadata": {},
   "source": [
    "## Bivariate Analysis"
   ]
  },
  {
   "cell_type": "code",
   "execution_count": 52,
   "id": "74f5091a",
   "metadata": {},
   "outputs": [
    {
     "data": {
      "image/png": "[encoded data removed]",
      "text/plain": [
       "<Figure size 800x600 with 1 Axes>"
      ]
     },
     "metadata": {},
     "output_type": "display_data"
    }
   ],
   "source": [
    "# Calculate average rating and number of ratings per movie\n",
    "movie_stats = final_df.groupby('movieId').agg(\n",
    "    avg_rating=('rating', 'mean'),\n",
    "    num_ratings=('rating', 'count')\n",
    ").reset_index()\n",
    "\n",
    "# Plot\n",
    "plt.figure(figsize=(8,6))\n",
    "sns.scatterplot(data=movie_stats, x='num_ratings', y='avg_rating', alpha=0.6)\n",
    "plt.title('Average Rating vs Number of Ratings per Movie')\n",
    "plt.xlabel('Number of Ratings (per Movie)')\n",
    "plt.ylabel('Average Rating')\n",
    "plt.xscale('log')\n",
    "plt.show()\n"
   ]
  },
  {
   "cell_type": "markdown",
   "id": "a8e4529b",
   "metadata": {},
   "source": [
    "**Observation**\n",
    "- Movies with fewer ratings tend to have extreme averages"
   ]
  },
  {
   "cell_type": "code",
   "execution_count": 53,
   "id": "5c36ba97",
   "metadata": {},
   "outputs": [
    {
     "data": {
      "image/png": "[encoded data removed]",
      "text/plain": [
       "<Figure size 1000x600 with 1 Axes>"
      ]
     },
     "metadata": {},
     "output_type": "display_data"
    }
   ],
   "source": [
    "# Compute mean rating per year\n",
    "yearly_ratings = final_df.groupby('year')['rating'].mean().reset_index()\n",
    "\n",
    "# Plot\n",
    "plt.figure(figsize=(10,6))\n",
    "sns.lineplot(data=yearly_ratings, x='year', y='rating', marker='o')\n",
    "plt.title('Average Rating by Year of Release')\n",
    "plt.xlabel('Year of Release')\n",
    "plt.ylabel('Average Rating')\n",
    "plt.show()\n"
   ]
  },
  {
   "cell_type": "markdown",
   "id": "455cf4e7",
   "metadata": {},
   "source": [
    "**Observation**\n",
    "- Older movies have a higher rating compared to newer movies whichhave an average rating"
   ]
  },
  {
   "cell_type": "code",
   "execution_count": 54,
   "id": "16bcfbb0",
   "metadata": {},
   "outputs": [
    {
     "name": "stderr",
     "output_type": "stream",
     "text": [
      "C:\\Users\\nrmmw\\AppData\\Local\\Temp\\ipykernel_4372\\2761660410.py:9: FutureWarning: \n",
      "\n",
      "Passing `palette` without assigning `hue` is deprecated and will be removed in v0.14.0. Assign the `y` variable to `hue` and set `legend=False` for the same effect.\n",
      "\n",
      "  sns.barplot(data=genre_ratings, x='rating', y='genre', palette='viridis')\n"
     ]
    },
    {
     "data": {
      "image/png": "[encoded data removed]",
      "text/plain": [
       "<Figure size 1000x600 with 1 Axes>"
      ]
     },
     "metadata": {},
     "output_type": "display_data"
    }
   ],
   "source": [
    "# Split multiple genres into separate rows\n",
    "genres_exploded = final_df.assign(genre=final_df['genres'].str.split('|')).explode('genre')\n",
    "\n",
    "# Calculate average rating per genre\n",
    "genre_ratings = genres_exploded.groupby('genre')['rating'].mean().sort_values(ascending=False).reset_index()\n",
    "\n",
    "# Bar chart\n",
    "plt.figure(figsize=(10,6))\n",
    "sns.barplot(data=genre_ratings, x='rating', y='genre', palette='viridis')\n",
    "plt.title('Average Rating by Genre')\n",
    "plt.xlabel('Average Rating')\n",
    "plt.ylabel('Genre')\n",
    "plt.show()"
   ]
  },
  {
   "cell_type": "markdown",
   "id": "c66d2f2a",
   "metadata": {},
   "source": [
    "**Observation**\n",
    "- The difference between top and bottom genres can be up to 0.5 rating points."
   ]
  },
  {
   "cell_type": "code",
   "execution_count": 55,
   "id": "e9b914de",
   "metadata": {},
   "outputs": [
    {
     "data": {
      "image/png": "[encoded data removed]",
      "text/plain": [
       "<Figure size 800x600 with 1 Axes>"
      ]
     },
     "metadata": {},
     "output_type": "display_data"
    }
   ],
   "source": [
    "# Compute user statistics\n",
    "user_stats = final_df.groupby('userId').agg(\n",
    "    avg_rating=('rating', 'mean'),\n",
    "    num_ratings=('rating', 'count')\n",
    ").reset_index()\n",
    "\n",
    "# Plot\n",
    "plt.figure(figsize=(8,6))\n",
    "sns.scatterplot(data=user_stats, x='num_ratings', y='avg_rating', alpha=0.6, color='teal')\n",
    "plt.title('Average Rating vs Number of Ratings per User')\n",
    "plt.xlabel('Number of Ratings (per User)')\n",
    "plt.ylabel('Average Rating Given')\n",
    "plt.xscale('log')\n",
    "plt.show()"
   ]
  },
  {
   "cell_type": "markdown",
   "id": "6ddd6ecc",
   "metadata": {},
   "source": [
    "**Observation**\n",
    "- Users who rate fewer movies often give higher ratings compared to users who rate more movies tend tohave lower more balanced ratings"
   ]
  }
 ],
 "metadata": {
  "kernelspec": {
   "display_name": "ds-env",
   "language": "python",
   "name": "python3"
  },
  "language_info": {
   "codemirror_mode": {
    "name": "ipython",
    "version": 3
   },
   "file_extension": ".py",
   "mimetype": "text/x-python",
   "name": "python",
   "nbconvert_exporter": "python",
   "pygments_lexer": "ipython3",
   "version": "3.11.7"
  }
 },
 "nbformat": 4,
 "nbformat_minor": 5
}
