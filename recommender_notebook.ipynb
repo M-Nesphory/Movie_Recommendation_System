{
 "cells": [
  {
   "cell_type": "markdown",
   "id": "85eb44f9",
   "metadata": {},
   "source": [
    "# Couch-Potato Movie Recommendation System\n",
    "\n",
    "# Business Understanding\n",
    "\n",
    "## 1. Project Objective\n",
    "\n",
    "Our team is building a movie recommendation system using the MovieLens dataset (100,000 user ratings) to provide personalized movie suggestions. The primary goal is to recommend the top 5 movies a user is most likely to enjoy based on their historical rating patterns.\n",
    "\n",
    "## 2. Problem Statement\n",
    "\n",
    "Users often struggle to discover movies that match their preferences when faced with large movie catalogs. Without personalized recommendations, users may:\n",
    "- Spend excessive time browsing without finding suitable content\n",
    "- Miss movies they would enjoy\n",
    "- Experience decision fatigue leading to reduced engagement\n",
    "\n",
    "Our recommendation system addresses this by analyzing user rating patterns to surface movies that align with their tastes.\n",
    "\n",
    "## 3. Technical Approach\n",
    "\n",
    "We will implement **Collaborative Filtering (CF)** as our core recommendation methodology. Collaborative filtering works by identifying users with similar movie preferences and recommending movies that similar users have enjoyed.\n",
    "\n",
    "**How it works:**\n",
    "- When a user rates movies, the system finds other users with similar rating patterns\n",
    "- The system identifies movies that similar users rated highly but our target user hasn't seen\n",
    "- These movies become our recommendations\n",
    "\n",
    "**Input**: User's existing movie ratings  \n",
    "**Output**: Top 5 personalized movie recommendations\n",
    "\n",
    "## 4. Key Challenges\n",
    "\n",
    "**Sparse Data**: Most users rate only a small fraction of available movies, making it harder to find similar users and identify patterns.\n",
    "\n",
    "**Cold Start Problem**: Users with few ratings are particularly challenging for collaborative filtering, which relies on having enough rating history to find meaningful similarities with other users. We need to ensure our system can provide reasonable recommendations even for users with limited rating history.\n",
    "\n",
    "## 5. Success Metrics\n",
    "\n",
    "We will evaluate our recommendation system using multiple metrics:\n",
    "\n",
    "- **RMSE (Root Mean Squared Error)**: Measures how accurately we can predict what rating a user would give to recommended movies\n",
    "  - *Target*: RMSE < 1.0 (within 1 star of actual rating)\n",
    "  \n",
    "- **Precision@5**: What proportion of our top 5 recommendations are actually good matches that users would rate highly\n",
    "\n",
    "- **Coverage**: Percentage of users for whom we can generate meaningful recommendations\n",
    "\n",
    "- **User Segment Performance**: Evaluate how well the system performs for users with different amounts of rating history (e.g., 5 ratings vs 50+ ratings)\n",
    "\n",
    "## 6. Expected Outcomes\n",
    "\n",
    "By implementing collaborative filtering, we aim to deliver a recommendation system that helps users discover movies they'll enjoy, reducing search time and improving their overall experience with the movie catalog."
   "id": "da40f2ee",
   "metadata": {},
   "source": [
    "# Data Understanding"
   ]
  },
  {
   "cell_type": "code",
   "execution_count": 20,
   "id": "1421ec27",
   "metadata": {},
   "outputs": [],
   "source": [
    "# import relevant libraries\n",
    "import pandas as pd\n",
    "import numpy as np\n",
    "\n",
    "#visualization libraries\n",
    "import seaborn as sns"
   ]
  },
  {
   "cell_type": "markdown",
   "id": "e3a66718",
   "metadata": {},
   "source": [
    "### LINKS DATASET"
   ]
  },
  {
   "cell_type": "code",
   "execution_count": 3,
   "id": "9c9a666a",
   "metadata": {},
   "outputs": [
    {
     "data": {
      "application/vnd.microsoft.datawrangler.viewer.v0+json": {
       "columns": [
        {
         "name": "index",
         "rawType": "int64",
         "type": "integer"
        },
        {
         "name": "movieId",
         "rawType": "int64",
         "type": "integer"
        },
        {
         "name": "imdbId",
         "rawType": "int64",
         "type": "integer"
        },
        {
         "name": "tmdbId",
         "rawType": "float64",
         "type": "float"
        }
       ],
       "ref": "81938294-c98b-4e42-acc4-b5242c6a02b5",
       "rows": [
        [
         "0",
         "1",
         "114709",
         "862.0"
        ],
        [
         "1",
         "2",
         "113497",
         "8844.0"
        ],
        [
         "2",
         "3",
         "113228",
         "15602.0"
        ],
        [
         "3",
         "4",
         "114885",
         "31357.0"
        ],
        [
         "4",
         "5",
         "113041",
         "11862.0"
        ],
        [
         "5",
         "6",
         "113277",
         "949.0"
        ],
        [
         "6",
         "7",
         "114319",
         "11860.0"
        ],
        [
         "7",
         "8",
         "112302",
         "45325.0"
        ],
        [
         "8",
         "9",
         "114576",
         "9091.0"
        ],
        [
         "9",
         "10",
         "113189",
         "710.0"
        ],
        [
         "10",
         "11",
         "112346",
         "9087.0"
        ],
        [
         "11",
         "12",
         "112896",
         "12110.0"
        ],
        [
         "12",
         "13",
         "112453",
         "21032.0"
        ],
        [
         "13",
         "14",
         "113987",
         "10858.0"
        ],
        [
         "14",
         "15",
         "112760",
         "1408.0"
        ],
        [
         "15",
         "16",
         "112641",
         "524.0"
        ],
        [
         "16",
         "17",
         "114388",
         "4584.0"
        ],
        [
         "17",
         "18",
         "113101",
         "5.0"
        ],
        [
         "18",
         "19",
         "112281",
         "9273.0"
        ],
        [
         "19",
         "20",
         "113845",
         "11517.0"
        ],
        [
         "20",
         "21",
         "113161",
         "8012.0"
        ],
        [
         "21",
         "22",
         "112722",
         "1710.0"
        ],
        [
         "22",
         "23",
         "112401",
         "9691.0"
        ],
        [
         "23",
         "24",
         "114168",
         "12665.0"
        ],
        [
         "24",
         "25",
         "113627",
         "451.0"
        ],
        [
         "25",
         "26",
         "114057",
         "16420.0"
        ],
        [
         "26",
         "27",
         "114011",
         "9263.0"
        ],
        [
         "27",
         "28",
         "114117",
         "17015.0"
        ],
        [
         "28",
         "29",
         "112682",
         "902.0"
        ],
        [
         "29",
         "30",
         "115012",
         "37557.0"
        ],
        [
         "30",
         "31",
         "112792",
         "9909.0"
        ],
        [
         "31",
         "32",
         "114746",
         "63.0"
        ],
        [
         "32",
         "34",
         "112431",
         "9598.0"
        ],
        [
         "33",
         "36",
         "112818",
         "687.0"
        ],
        [
         "34",
         "38",
         "113442",
         "33689.0"
        ],
        [
         "35",
         "39",
         "112697",
         "9603.0"
        ],
        [
         "36",
         "40",
         "112749",
         "34615.0"
        ],
        [
         "37",
         "41",
         "114279",
         "31174.0"
        ],
        [
         "38",
         "42",
         "112819",
         "11443.0"
        ],
        [
         "39",
         "43",
         "114272",
         "35196.0"
        ],
        [
         "40",
         "44",
         "113855",
         "9312.0"
        ],
        [
         "41",
         "45",
         "114681",
         "577.0"
        ],
        [
         "42",
         "46",
         "113347",
         "11861.0"
        ],
        [
         "43",
         "47",
         "114369",
         "807.0"
        ],
        [
         "44",
         "48",
         "114148",
         "10530.0"
        ],
        [
         "45",
         "49",
         "114916",
         "8391.0"
        ],
        [
         "46",
         "50",
         "114814",
         "629.0"
        ],
        [
         "47",
         "52",
         "113819",
         "11448.0"
        ],
        [
         "48",
         "53",
         "110299",
         "49133.0"
        ],
        [
         "49",
         "54",
         "112499",
         "26441.0"
        ]
       ],
       "shape": {
        "columns": 3,
        "rows": 9742
       }
      },
      "text/html": [
       "<div>\n",
       "<style scoped>\n",
       "    .dataframe tbody tr th:only-of-type {\n",
       "        vertical-align: middle;\n",
       "    }\n",
       "\n",
       "    .dataframe tbody tr th {\n",
       "        vertical-align: top;\n",
       "    }\n",
       "\n",
       "    .dataframe thead th {\n",
       "        text-align: right;\n",
       "    }\n",
       "</style>\n",
       "<table border=\"1\" class=\"dataframe\">\n",
       "  <thead>\n",
       "    <tr style=\"text-align: right;\">\n",
       "      <th></th>\n",
       "      <th>movieId</th>\n",
       "      <th>imdbId</th>\n",
       "      <th>tmdbId</th>\n",
       "    </tr>\n",
       "  </thead>\n",
       "  <tbody>\n",
       "    <tr>\n",
       "      <th>0</th>\n",
       "      <td>1</td>\n",
       "      <td>114709</td>\n",
       "      <td>862.0</td>\n",
       "    </tr>\n",
       "    <tr>\n",
       "      <th>1</th>\n",
       "      <td>2</td>\n",
       "      <td>113497</td>\n",
       "      <td>8844.0</td>\n",
       "    </tr>\n",
       "    <tr>\n",
       "      <th>2</th>\n",
       "      <td>3</td>\n",
       "      <td>113228</td>\n",
       "      <td>15602.0</td>\n",
       "    </tr>\n",
       "    <tr>\n",
       "      <th>3</th>\n",
       "      <td>4</td>\n",
       "      <td>114885</td>\n",
       "      <td>31357.0</td>\n",
       "    </tr>\n",
       "    <tr>\n",
       "      <th>4</th>\n",
       "      <td>5</td>\n",
       "      <td>113041</td>\n",
       "      <td>11862.0</td>\n",
       "    </tr>\n",
       "    <tr>\n",
       "      <th>...</th>\n",
       "      <td>...</td>\n",
       "      <td>...</td>\n",
       "      <td>...</td>\n",
       "    </tr>\n",
       "    <tr>\n",
       "      <th>9737</th>\n",
       "      <td>193581</td>\n",
       "      <td>5476944</td>\n",
       "      <td>432131.0</td>\n",
       "    </tr>\n",
       "    <tr>\n",
       "      <th>9738</th>\n",
       "      <td>193583</td>\n",
       "      <td>5914996</td>\n",
       "      <td>445030.0</td>\n",
       "    </tr>\n",
       "    <tr>\n",
       "      <th>9739</th>\n",
       "      <td>193585</td>\n",
       "      <td>6397426</td>\n",
       "      <td>479308.0</td>\n",
       "    </tr>\n",
       "    <tr>\n",
       "      <th>9740</th>\n",
       "      <td>193587</td>\n",
       "      <td>8391976</td>\n",
       "      <td>483455.0</td>\n",
       "    </tr>\n",
       "    <tr>\n",
       "      <th>9741</th>\n",
       "      <td>193609</td>\n",
       "      <td>101726</td>\n",
       "      <td>37891.0</td>\n",
       "    </tr>\n",
       "  </tbody>\n",
       "</table>\n",
       "<p>9742 rows × 3 columns</p>\n",
       "</div>"
      ],
      "text/plain": [
       "      movieId   imdbId    tmdbId\n",
       "0           1   114709     862.0\n",
       "1           2   113497    8844.0\n",
       "2           3   113228   15602.0\n",
       "3           4   114885   31357.0\n",
       "4           5   113041   11862.0\n",
       "...       ...      ...       ...\n",
       "9737   193581  5476944  432131.0\n",
       "9738   193583  5914996  445030.0\n",
       "9739   193585  6397426  479308.0\n",
       "9740   193587  8391976  483455.0\n",
       "9741   193609   101726   37891.0\n",
       "\n",
       "[9742 rows x 3 columns]"
      ]
     },
     "execution_count": 3,
     "metadata": {},
     "output_type": "execute_result"
    }
   ],
   "source": [
    "links_df = pd.read_csv(\"Data/links.csv\")\n",
    "links_df"
   ]
  },
  {
   "cell_type": "markdown",
   "id": "d26f2b7f",
   "metadata": {},
   "source": [
    "### DATASET DESCRIPTION  \n",
    "* `movieId` is an identifier for movies used by [MovieLens](https://movielens.org). \n",
    "* `imdbId` is an identifier for movies used by [IMDb](http://www.imdb.com).\n",
    "* `tmdbId` is an identifier for movies used by [TMDb](https://www.themoviedb.org)."
   ]
  },
  {
   "cell_type": "code",
   "execution_count": 10,
   "id": "389ad471",
   "metadata": {},
   "outputs": [
    {
     "data": {
      "application/vnd.microsoft.datawrangler.viewer.v0+json": {
       "columns": [
        {
         "name": "index",
         "rawType": "int64",
         "type": "integer"
        },
        {
         "name": "movieId",
         "rawType": "int64",
         "type": "integer"
        },
        {
         "name": "imdbId",
         "rawType": "int64",
         "type": "integer"
        },
        {
         "name": "tmdbId",
         "rawType": "float64",
         "type": "float"
        }
       ],
       "ref": "5a801064-d6d8-4582-8291-d37e54654380",
       "rows": [
        [
         "0",
         "1",
         "114709",
         "862.0"
        ],
        [
         "1",
         "2",
         "113497",
         "8844.0"
        ],
        [
         "2",
         "3",
         "113228",
         "15602.0"
        ],
        [
         "3",
         "4",
         "114885",
         "31357.0"
        ],
        [
         "4",
         "5",
         "113041",
         "11862.0"
        ]
       ],
       "shape": {
        "columns": 3,
        "rows": 5
       }
      },
      "text/html": [
       "<div>\n",
       "<style scoped>\n",
       "    .dataframe tbody tr th:only-of-type {\n",
       "        vertical-align: middle;\n",
       "    }\n",
       "\n",
       "    .dataframe tbody tr th {\n",
       "        vertical-align: top;\n",
       "    }\n",
       "\n",
       "    .dataframe thead th {\n",
       "        text-align: right;\n",
       "    }\n",
       "</style>\n",
       "<table border=\"1\" class=\"dataframe\">\n",
       "  <thead>\n",
       "    <tr style=\"text-align: right;\">\n",
       "      <th></th>\n",
       "      <th>movieId</th>\n",
       "      <th>imdbId</th>\n",
       "      <th>tmdbId</th>\n",
       "    </tr>\n",
       "  </thead>\n",
       "  <tbody>\n",
       "    <tr>\n",
       "      <th>0</th>\n",
       "      <td>1</td>\n",
       "      <td>114709</td>\n",
       "      <td>862.0</td>\n",
       "    </tr>\n",
       "    <tr>\n",
       "      <th>1</th>\n",
       "      <td>2</td>\n",
       "      <td>113497</td>\n",
       "      <td>8844.0</td>\n",
       "    </tr>\n",
       "    <tr>\n",
       "      <th>2</th>\n",
       "      <td>3</td>\n",
       "      <td>113228</td>\n",
       "      <td>15602.0</td>\n",
       "    </tr>\n",
       "    <tr>\n",
       "      <th>3</th>\n",
       "      <td>4</td>\n",
       "      <td>114885</td>\n",
       "      <td>31357.0</td>\n",
       "    </tr>\n",
       "    <tr>\n",
       "      <th>4</th>\n",
       "      <td>5</td>\n",
       "      <td>113041</td>\n",
       "      <td>11862.0</td>\n",
       "    </tr>\n",
       "  </tbody>\n",
       "</table>\n",
       "</div>"
      ],
      "text/plain": [
       "   movieId  imdbId   tmdbId\n",
       "0        1  114709    862.0\n",
       "1        2  113497   8844.0\n",
       "2        3  113228  15602.0\n",
       "3        4  114885  31357.0\n",
       "4        5  113041  11862.0"
      ]
     },
     "execution_count": 10,
     "metadata": {},
     "output_type": "execute_result"
    }
   ],
   "source": [
    "#check the first 5 rows\n",
    "links_df.head()"
   ]
  },
  {
   "cell_type": "code",
   "execution_count": 11,
   "id": "39480136",
   "metadata": {},
   "outputs": [
    {
     "data": {
      "application/vnd.microsoft.datawrangler.viewer.v0+json": {
       "columns": [
        {
         "name": "index",
         "rawType": "int64",
         "type": "integer"
        },
        {
         "name": "movieId",
         "rawType": "int64",
         "type": "integer"
        },
        {
         "name": "imdbId",
         "rawType": "int64",
         "type": "integer"
        },
        {
         "name": "tmdbId",
         "rawType": "float64",
         "type": "float"
        }
       ],
       "ref": "6a29fad5-c56c-4f03-bce5-8db9cc470411",
       "rows": [
        [
         "9737",
         "193581",
         "5476944",
         "432131.0"
        ],
        [
         "9738",
         "193583",
         "5914996",
         "445030.0"
        ],
        [
         "9739",
         "193585",
         "6397426",
         "479308.0"
        ],
        [
         "9740",
         "193587",
         "8391976",
         "483455.0"
        ],
        [
         "9741",
         "193609",
         "101726",
         "37891.0"
        ]
       ],
       "shape": {
        "columns": 3,
        "rows": 5
       }
      },
      "text/html": [
       "<div>\n",
       "<style scoped>\n",
       "    .dataframe tbody tr th:only-of-type {\n",
       "        vertical-align: middle;\n",
       "    }\n",
       "\n",
       "    .dataframe tbody tr th {\n",
       "        vertical-align: top;\n",
       "    }\n",
       "\n",
       "    .dataframe thead th {\n",
       "        text-align: right;\n",
       "    }\n",
       "</style>\n",
       "<table border=\"1\" class=\"dataframe\">\n",
       "  <thead>\n",
       "    <tr style=\"text-align: right;\">\n",
       "      <th></th>\n",
       "      <th>movieId</th>\n",
       "      <th>imdbId</th>\n",
       "      <th>tmdbId</th>\n",
       "    </tr>\n",
       "  </thead>\n",
       "  <tbody>\n",
       "    <tr>\n",
       "      <th>9737</th>\n",
       "      <td>193581</td>\n",
       "      <td>5476944</td>\n",
       "      <td>432131.0</td>\n",
       "    </tr>\n",
       "    <tr>\n",
       "      <th>9738</th>\n",
       "      <td>193583</td>\n",
       "      <td>5914996</td>\n",
       "      <td>445030.0</td>\n",
       "    </tr>\n",
       "    <tr>\n",
       "      <th>9739</th>\n",
       "      <td>193585</td>\n",
       "      <td>6397426</td>\n",
       "      <td>479308.0</td>\n",
       "    </tr>\n",
       "    <tr>\n",
       "      <th>9740</th>\n",
       "      <td>193587</td>\n",
       "      <td>8391976</td>\n",
       "      <td>483455.0</td>\n",
       "    </tr>\n",
       "    <tr>\n",
       "      <th>9741</th>\n",
       "      <td>193609</td>\n",
       "      <td>101726</td>\n",
       "      <td>37891.0</td>\n",
       "    </tr>\n",
       "  </tbody>\n",
       "</table>\n",
       "</div>"
      ],
      "text/plain": [
       "      movieId   imdbId    tmdbId\n",
       "9737   193581  5476944  432131.0\n",
       "9738   193583  5914996  445030.0\n",
       "9739   193585  6397426  479308.0\n",
       "9740   193587  8391976  483455.0\n",
       "9741   193609   101726   37891.0"
      ]
     },
     "execution_count": 11,
     "metadata": {},
     "output_type": "execute_result"
    }
   ],
   "source": [
    "#check the last 5 rows\n",
    "links_df.tail()"
   ]
  },
  {
   "cell_type": "markdown",
   "id": "dcb135be",
   "metadata": {},
   "source": [
    "The dataset is uniform from start to finish."
   ]
  },
  {
   "cell_type": "code",
   "execution_count": 5,
   "id": "fc226dd6",
   "metadata": {},
   "outputs": [
    {
     "name": "stdout",
     "output_type": "stream",
     "text": [
      "The links dataset has 9742 rows and 3 columns.\n"
     ]
    }
   ],
   "source": [
    "#check shape\n",
    "print(f\"The links dataset has {links_df.shape[0]} rows and {links_df.shape[1]} columns.\")"
   ]
  },
  {
   "cell_type": "code",
   "execution_count": 6,
   "id": "9061afbb",
   "metadata": {},
   "outputs": [
    {
     "name": "stdout",
     "output_type": "stream",
     "text": [
      "<class 'pandas.core.frame.DataFrame'>\n",
      "RangeIndex: 9742 entries, 0 to 9741\n",
      "Data columns (total 3 columns):\n",
      " #   Column   Non-Null Count  Dtype  \n",
      "---  ------   --------------  -----  \n",
      " 0   movieId  9742 non-null   int64  \n",
      " 1   imdbId   9742 non-null   int64  \n",
      " 2   tmdbId   9734 non-null   float64\n",
      "dtypes: float64(1), int64(2)\n",
      "memory usage: 228.5 KB\n"
     ]
    }
   ],
   "source": [
    "#get metadata\n",
    "links_df.info()"
   ]
  },
  {
   "cell_type": "markdown",
   "id": "6e4e456f",
   "metadata": {},
   "source": [
    "The links dataset has 3 columns of numerical data type and 8 nulls in the tmdbId column."
   ]
  },
  {
   "cell_type": "code",
   "execution_count": 7,
   "id": "fbaf9274",
   "metadata": {},
   "outputs": [
    {
     "data": {
      "application/vnd.microsoft.datawrangler.viewer.v0+json": {
       "columns": [
        {
         "name": "index",
         "rawType": "object",
         "type": "string"
        },
        {
         "name": "count",
         "rawType": "float64",
         "type": "float"
        },
        {
         "name": "mean",
         "rawType": "float64",
         "type": "float"
        },
        {
         "name": "std",
         "rawType": "float64",
         "type": "float"
        },
        {
         "name": "min",
         "rawType": "float64",
         "type": "float"
        },
        {
         "name": "25%",
         "rawType": "float64",
         "type": "float"
        },
        {
         "name": "50%",
         "rawType": "float64",
         "type": "float"
        },
        {
         "name": "75%",
         "rawType": "float64",
         "type": "float"
        },
        {
         "name": "max",
         "rawType": "float64",
         "type": "float"
        }
       ],
       "ref": "74f06c93-183b-432d-8385-04c3f8c6a469",
       "rows": [
        [
         "movieId",
         "9742.0",
         "42200.353623485935",
         "52160.494854438315",
         "1.0",
         "3248.25",
         "7300.0",
         "76232.0",
         "193609.0"
        ],
        [
         "imdbId",
         "9742.0",
         "677183.8981728598",
         "1107227.576759764",
         "417.0",
         "95180.75",
         "167260.5",
         "805568.5",
         "8391976.0"
        ],
        [
         "tmdbId",
         "9734.0",
         "55162.123792890896",
         "93653.48148734073",
         "2.0",
         "9665.5",
         "16529.0",
         "44205.75",
         "525662.0"
        ]
       ],
       "shape": {
        "columns": 8,
        "rows": 3
       }
      },
      "text/html": [
       "<div>\n",
       "<style scoped>\n",
       "    .dataframe tbody tr th:only-of-type {\n",
       "        vertical-align: middle;\n",
       "    }\n",
       "\n",
       "    .dataframe tbody tr th {\n",
       "        vertical-align: top;\n",
       "    }\n",
       "\n",
       "    .dataframe thead th {\n",
       "        text-align: right;\n",
       "    }\n",
       "</style>\n",
       "<table border=\"1\" class=\"dataframe\">\n",
       "  <thead>\n",
       "    <tr style=\"text-align: right;\">\n",
       "      <th></th>\n",
       "      <th>count</th>\n",
       "      <th>mean</th>\n",
       "      <th>std</th>\n",
       "      <th>min</th>\n",
       "      <th>25%</th>\n",
       "      <th>50%</th>\n",
       "      <th>75%</th>\n",
       "      <th>max</th>\n",
       "    </tr>\n",
       "  </thead>\n",
       "  <tbody>\n",
       "    <tr>\n",
       "      <th>movieId</th>\n",
       "      <td>9742.0</td>\n",
       "      <td>42200.353623</td>\n",
       "      <td>5.216049e+04</td>\n",
       "      <td>1.0</td>\n",
       "      <td>3248.25</td>\n",
       "      <td>7300.0</td>\n",
       "      <td>76232.00</td>\n",
       "      <td>193609.0</td>\n",
       "    </tr>\n",
       "    <tr>\n",
       "      <th>imdbId</th>\n",
       "      <td>9742.0</td>\n",
       "      <td>677183.898173</td>\n",
       "      <td>1.107228e+06</td>\n",
       "      <td>417.0</td>\n",
       "      <td>95180.75</td>\n",
       "      <td>167260.5</td>\n",
       "      <td>805568.50</td>\n",
       "      <td>8391976.0</td>\n",
       "    </tr>\n",
       "    <tr>\n",
       "      <th>tmdbId</th>\n",
       "      <td>9734.0</td>\n",
       "      <td>55162.123793</td>\n",
       "      <td>9.365348e+04</td>\n",
       "      <td>2.0</td>\n",
       "      <td>9665.50</td>\n",
       "      <td>16529.0</td>\n",
       "      <td>44205.75</td>\n",
       "      <td>525662.0</td>\n",
       "    </tr>\n",
       "  </tbody>\n",
       "</table>\n",
       "</div>"
      ],
      "text/plain": [
       "          count           mean           std    min       25%       50%  \\\n",
       "movieId  9742.0   42200.353623  5.216049e+04    1.0   3248.25    7300.0   \n",
       "imdbId   9742.0  677183.898173  1.107228e+06  417.0  95180.75  167260.5   \n",
       "tmdbId   9734.0   55162.123793  9.365348e+04    2.0   9665.50   16529.0   \n",
       "\n",
       "               75%        max  \n",
       "movieId   76232.00   193609.0  \n",
       "imdbId   805568.50  8391976.0  \n",
       "tmdbId    44205.75   525662.0  "
      ]
     },
     "execution_count": 7,
     "metadata": {},
     "output_type": "execute_result"
    }
   ],
   "source": [
    "#check statistical summary\n",
    "links_df.describe().T"
   ]
  },
  {
   "cell_type": "code",
   "execution_count": 26,
   "id": "404d1335",
   "metadata": {},
   "outputs": [
    {
     "name": "stdout",
     "output_type": "stream",
     "text": [
      " The links dataset has 8 null values.\n"
     ]
    }
   ],
   "source": [
    "#check nulls\n",
    "print(f\" The links dataset has {links_df.isna().sum().sum()} null values.\")"
   ]
  },
  {
   "cell_type": "code",
   "execution_count": 23,
   "id": "5667498f",
   "metadata": {},
   "outputs": [
    {
     "name": "stdout",
     "output_type": "stream",
     "text": [
      "The links dataset has 0 duplicates.\n"
     ]
    }
   ],
   "source": [
    "#check duplicates\n",
    "print(f\"The links dataset has {links_df.duplicated().sum()} duplicates.\")"
   ]
  },
  {
   "cell_type": "code",
   "execution_count": 22,
   "id": "398e0dc0",
   "metadata": {},
   "outputs": [
    {
     "data": {
      "image/png": "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",
      "text/plain": [
       "<Figure size 640x480 with 1 Axes>"
      ]
     },
     "metadata": {},
     "output_type": "display_data"
    }
   ],
   "source": [
    "#check for outliers\n",
    "sns.boxplot(links_df);"
   ]
  },
  {
   "cell_type": "markdown",
   "id": "c576abb8",
   "metadata": {},
   "source": [
    "The links dataset seems to have many outliers in the imdbId column but they are genuine outliers so we will keep them."
   ]
  },
  {
   "cell_type": "markdown",
   "id": "53c3e90e",
   "metadata": {},
   "source": [
    "### MOVIES DATASET"
   ]
  },
  {
   "cell_type": "code",
   "execution_count": 27,
   "id": "de34914d",
   "metadata": {},
   "outputs": [
    {
     "data": {
      "application/vnd.microsoft.datawrangler.viewer.v0+json": {
       "columns": [
        {
         "name": "index",
         "rawType": "int64",
         "type": "integer"
        },
        {
         "name": "movieId",
         "rawType": "int64",
         "type": "integer"
        },
        {
         "name": "title",
         "rawType": "object",
         "type": "string"
        },
        {
         "name": "genres",
         "rawType": "object",
         "type": "string"
        }
       ],
       "ref": "60a10d2d-e256-44fb-916a-bcbf5b9ea436",
       "rows": [
        [
         "0",
         "1",
         "Toy Story (1995)",
         "Adventure|Animation|Children|Comedy|Fantasy"
        ],
        [
         "1",
         "2",
         "Jumanji (1995)",
         "Adventure|Children|Fantasy"
        ],
        [
         "2",
         "3",
         "Grumpier Old Men (1995)",
         "Comedy|Romance"
        ],
        [
         "3",
         "4",
         "Waiting to Exhale (1995)",
         "Comedy|Drama|Romance"
        ],
        [
         "4",
         "5",
         "Father of the Bride Part II (1995)",
         "Comedy"
        ],
        [
         "5",
         "6",
         "Heat (1995)",
         "Action|Crime|Thriller"
        ],
        [
         "6",
         "7",
         "Sabrina (1995)",
         "Comedy|Romance"
        ],
        [
         "7",
         "8",
         "Tom and Huck (1995)",
         "Adventure|Children"
        ],
        [
         "8",
         "9",
         "Sudden Death (1995)",
         "Action"
        ],
        [
         "9",
         "10",
         "GoldenEye (1995)",
         "Action|Adventure|Thriller"
        ],
        [
         "10",
         "11",
         "American President, The (1995)",
         "Comedy|Drama|Romance"
        ],
        [
         "11",
         "12",
         "Dracula: Dead and Loving It (1995)",
         "Comedy|Horror"
        ],
        [
         "12",
         "13",
         "Balto (1995)",
         "Adventure|Animation|Children"
        ],
        [
         "13",
         "14",
         "Nixon (1995)",
         "Drama"
        ],
        [
         "14",
         "15",
         "Cutthroat Island (1995)",
         "Action|Adventure|Romance"
        ],
        [
         "15",
         "16",
         "Casino (1995)",
         "Crime|Drama"
        ],
        [
         "16",
         "17",
         "Sense and Sensibility (1995)",
         "Drama|Romance"
        ],
        [
         "17",
         "18",
         "Four Rooms (1995)",
         "Comedy"
        ],
        [
         "18",
         "19",
         "Ace Ventura: When Nature Calls (1995)",
         "Comedy"
        ],
        [
         "19",
         "20",
         "Money Train (1995)",
         "Action|Comedy|Crime|Drama|Thriller"
        ],
        [
         "20",
         "21",
         "Get Shorty (1995)",
         "Comedy|Crime|Thriller"
        ],
        [
         "21",
         "22",
         "Copycat (1995)",
         "Crime|Drama|Horror|Mystery|Thriller"
        ],
        [
         "22",
         "23",
         "Assassins (1995)",
         "Action|Crime|Thriller"
        ],
        [
         "23",
         "24",
         "Powder (1995)",
         "Drama|Sci-Fi"
        ],
        [
         "24",
         "25",
         "Leaving Las Vegas (1995)",
         "Drama|Romance"
        ],
        [
         "25",
         "26",
         "Othello (1995)",
         "Drama"
        ],
        [
         "26",
         "27",
         "Now and Then (1995)",
         "Children|Drama"
        ],
        [
         "27",
         "28",
         "Persuasion (1995)",
         "Drama|Romance"
        ],
        [
         "28",
         "29",
         "City of Lost Children, The (Cité des enfants perdus, La) (1995)",
         "Adventure|Drama|Fantasy|Mystery|Sci-Fi"
        ],
        [
         "29",
         "30",
         "Shanghai Triad (Yao a yao yao dao waipo qiao) (1995)",
         "Crime|Drama"
        ],
        [
         "30",
         "31",
         "Dangerous Minds (1995)",
         "Drama"
        ],
        [
         "31",
         "32",
         "Twelve Monkeys (a.k.a. 12 Monkeys) (1995)",
         "Mystery|Sci-Fi|Thriller"
        ],
        [
         "32",
         "34",
         "Babe (1995)",
         "Children|Drama"
        ],
        [
         "33",
         "36",
         "Dead Man Walking (1995)",
         "Crime|Drama"
        ],
        [
         "34",
         "38",
         "It Takes Two (1995)",
         "Children|Comedy"
        ],
        [
         "35",
         "39",
         "Clueless (1995)",
         "Comedy|Romance"
        ],
        [
         "36",
         "40",
         "Cry, the Beloved Country (1995)",
         "Drama"
        ],
        [
         "37",
         "41",
         "Richard III (1995)",
         "Drama|War"
        ],
        [
         "38",
         "42",
         "Dead Presidents (1995)",
         "Action|Crime|Drama"
        ],
        [
         "39",
         "43",
         "Restoration (1995)",
         "Drama"
        ],
        [
         "40",
         "44",
         "Mortal Kombat (1995)",
         "Action|Adventure|Fantasy"
        ],
        [
         "41",
         "45",
         "To Die For (1995)",
         "Comedy|Drama|Thriller"
        ],
        [
         "42",
         "46",
         "How to Make an American Quilt (1995)",
         "Drama|Romance"
        ],
        [
         "43",
         "47",
         "Seven (a.k.a. Se7en) (1995)",
         "Mystery|Thriller"
        ],
        [
         "44",
         "48",
         "Pocahontas (1995)",
         "Animation|Children|Drama|Musical|Romance"
        ],
        [
         "45",
         "49",
         "When Night Is Falling (1995)",
         "Drama|Romance"
        ],
        [
         "46",
         "50",
         "Usual Suspects, The (1995)",
         "Crime|Mystery|Thriller"
        ],
        [
         "47",
         "52",
         "Mighty Aphrodite (1995)",
         "Comedy|Drama|Romance"
        ],
        [
         "48",
         "53",
         "Lamerica (1994)",
         "Adventure|Drama"
        ],
        [
         "49",
         "54",
         "Big Green, The (1995)",
         "Children|Comedy"
        ]
       ],
       "shape": {
        "columns": 3,
        "rows": 9742
       }
      },
      "text/html": [
       "<div>\n",
       "<style scoped>\n",
       "    .dataframe tbody tr th:only-of-type {\n",
       "        vertical-align: middle;\n",
       "    }\n",
       "\n",
       "    .dataframe tbody tr th {\n",
       "        vertical-align: top;\n",
       "    }\n",
       "\n",
       "    .dataframe thead th {\n",
       "        text-align: right;\n",
       "    }\n",
       "</style>\n",
       "<table border=\"1\" class=\"dataframe\">\n",
       "  <thead>\n",
       "    <tr style=\"text-align: right;\">\n",
       "      <th></th>\n",
       "      <th>movieId</th>\n",
       "      <th>title</th>\n",
       "      <th>genres</th>\n",
       "    </tr>\n",
       "  </thead>\n",
       "  <tbody>\n",
       "    <tr>\n",
       "      <th>0</th>\n",
       "      <td>1</td>\n",
       "      <td>Toy Story (1995)</td>\n",
       "      <td>Adventure|Animation|Children|Comedy|Fantasy</td>\n",
       "    </tr>\n",
       "    <tr>\n",
       "      <th>1</th>\n",
       "      <td>2</td>\n",
       "      <td>Jumanji (1995)</td>\n",
       "      <td>Adventure|Children|Fantasy</td>\n",
       "    </tr>\n",
       "    <tr>\n",
       "      <th>2</th>\n",
       "      <td>3</td>\n",
       "      <td>Grumpier Old Men (1995)</td>\n",
       "      <td>Comedy|Romance</td>\n",
       "    </tr>\n",
       "    <tr>\n",
       "      <th>3</th>\n",
       "      <td>4</td>\n",
       "      <td>Waiting to Exhale (1995)</td>\n",
       "      <td>Comedy|Drama|Romance</td>\n",
       "    </tr>\n",
       "    <tr>\n",
       "      <th>4</th>\n",
       "      <td>5</td>\n",
       "      <td>Father of the Bride Part II (1995)</td>\n",
       "      <td>Comedy</td>\n",
       "    </tr>\n",
       "    <tr>\n",
       "      <th>...</th>\n",
       "      <td>...</td>\n",
       "      <td>...</td>\n",
       "      <td>...</td>\n",
       "    </tr>\n",
       "    <tr>\n",
       "      <th>9737</th>\n",
       "      <td>193581</td>\n",
       "      <td>Black Butler: Book of the Atlantic (2017)</td>\n",
       "      <td>Action|Animation|Comedy|Fantasy</td>\n",
       "    </tr>\n",
       "    <tr>\n",
       "      <th>9738</th>\n",
       "      <td>193583</td>\n",
       "      <td>No Game No Life: Zero (2017)</td>\n",
       "      <td>Animation|Comedy|Fantasy</td>\n",
       "    </tr>\n",
       "    <tr>\n",
       "      <th>9739</th>\n",
       "      <td>193585</td>\n",
       "      <td>Flint (2017)</td>\n",
       "      <td>Drama</td>\n",
       "    </tr>\n",
       "    <tr>\n",
       "      <th>9740</th>\n",
       "      <td>193587</td>\n",
       "      <td>Bungo Stray Dogs: Dead Apple (2018)</td>\n",
       "      <td>Action|Animation</td>\n",
       "    </tr>\n",
       "    <tr>\n",
       "      <th>9741</th>\n",
       "      <td>193609</td>\n",
       "      <td>Andrew Dice Clay: Dice Rules (1991)</td>\n",
       "      <td>Comedy</td>\n",
       "    </tr>\n",
       "  </tbody>\n",
       "</table>\n",
       "<p>9742 rows × 3 columns</p>\n",
       "</div>"
      ],
      "text/plain": [
       "      movieId                                      title  \\\n",
       "0           1                           Toy Story (1995)   \n",
       "1           2                             Jumanji (1995)   \n",
       "2           3                    Grumpier Old Men (1995)   \n",
       "3           4                   Waiting to Exhale (1995)   \n",
       "4           5         Father of the Bride Part II (1995)   \n",
       "...       ...                                        ...   \n",
       "9737   193581  Black Butler: Book of the Atlantic (2017)   \n",
       "9738   193583               No Game No Life: Zero (2017)   \n",
       "9739   193585                               Flint (2017)   \n",
       "9740   193587        Bungo Stray Dogs: Dead Apple (2018)   \n",
       "9741   193609        Andrew Dice Clay: Dice Rules (1991)   \n",
       "\n",
       "                                           genres  \n",
       "0     Adventure|Animation|Children|Comedy|Fantasy  \n",
       "1                      Adventure|Children|Fantasy  \n",
       "2                                  Comedy|Romance  \n",
       "3                            Comedy|Drama|Romance  \n",
       "4                                          Comedy  \n",
       "...                                           ...  \n",
       "9737              Action|Animation|Comedy|Fantasy  \n",
       "9738                     Animation|Comedy|Fantasy  \n",
       "9739                                        Drama  \n",
       "9740                             Action|Animation  \n",
       "9741                                       Comedy  \n",
       "\n",
       "[9742 rows x 3 columns]"
      ]
     },
     "execution_count": 27,
     "metadata": {},
     "output_type": "execute_result"
    }
   ],
   "source": [
    "#load and read dataset\n",
    "movies_df = pd.read_csv(\"Data/movies.csv\")\n",
    "movies_df"
   ]
  },
  {
   "cell_type": "markdown",
   "id": "e1c5857a",
   "metadata": {},
   "source": [
    "### DATASET DESCRIPTION  \n",
    "\n",
    "1. `title` is the name of a film and includes the year of release in parentheses.\n",
    "\n",
    "2. These are the `genres` present in the dataset:\n",
    "\n",
    "* Action\n",
    "* Adventure\n",
    "* Animation\n",
    "* Children's\n",
    "* Comedy\n",
    "* Crime\n",
    "* Documentary\n",
    "* Drama\n",
    "* Fantasy\n",
    "* Film-Noir\n",
    "* Horror\n",
    "* Musical\n",
    "* Mystery\n",
    "* Romance\n",
    "* Sci-Fi\n",
    "* Thriller\n",
    "* War\n",
    "* Western"
   ]
  },
  {
   "cell_type": "code",
   "execution_count": 28,
   "id": "8b6298a9",
   "metadata": {},
   "outputs": [
    {
     "data": {
      "application/vnd.microsoft.datawrangler.viewer.v0+json": {
       "columns": [
        {
         "name": "index",
         "rawType": "int64",
         "type": "integer"
        },
        {
         "name": "movieId",
         "rawType": "int64",
         "type": "integer"
        },
        {
         "name": "title",
         "rawType": "object",
         "type": "string"
        },
        {
         "name": "genres",
         "rawType": "object",
         "type": "string"
        }
       ],
       "ref": "4fd4180c-f37c-4d7a-815c-85ba6835f519",
       "rows": [
        [
         "0",
         "1",
         "Toy Story (1995)",
         "Adventure|Animation|Children|Comedy|Fantasy"
        ],
        [
         "1",
         "2",
         "Jumanji (1995)",
         "Adventure|Children|Fantasy"
        ],
        [
         "2",
         "3",
         "Grumpier Old Men (1995)",
         "Comedy|Romance"
        ],
        [
         "3",
         "4",
         "Waiting to Exhale (1995)",
         "Comedy|Drama|Romance"
        ],
        [
         "4",
         "5",
         "Father of the Bride Part II (1995)",
         "Comedy"
        ]
       ],
       "shape": {
        "columns": 3,
        "rows": 5
       }
      },
      "text/html": [
       "<div>\n",
       "<style scoped>\n",
       "    .dataframe tbody tr th:only-of-type {\n",
       "        vertical-align: middle;\n",
       "    }\n",
       "\n",
       "    .dataframe tbody tr th {\n",
       "        vertical-align: top;\n",
       "    }\n",
       "\n",
       "    .dataframe thead th {\n",
       "        text-align: right;\n",
       "    }\n",
       "</style>\n",
       "<table border=\"1\" class=\"dataframe\">\n",
       "  <thead>\n",
       "    <tr style=\"text-align: right;\">\n",
       "      <th></th>\n",
       "      <th>movieId</th>\n",
       "      <th>title</th>\n",
       "      <th>genres</th>\n",
       "    </tr>\n",
       "  </thead>\n",
       "  <tbody>\n",
       "    <tr>\n",
       "      <th>0</th>\n",
       "      <td>1</td>\n",
       "      <td>Toy Story (1995)</td>\n",
       "      <td>Adventure|Animation|Children|Comedy|Fantasy</td>\n",
       "    </tr>\n",
       "    <tr>\n",
       "      <th>1</th>\n",
       "      <td>2</td>\n",
       "      <td>Jumanji (1995)</td>\n",
       "      <td>Adventure|Children|Fantasy</td>\n",
       "    </tr>\n",
       "    <tr>\n",
       "      <th>2</th>\n",
       "      <td>3</td>\n",
       "      <td>Grumpier Old Men (1995)</td>\n",
       "      <td>Comedy|Romance</td>\n",
       "    </tr>\n",
       "    <tr>\n",
       "      <th>3</th>\n",
       "      <td>4</td>\n",
       "      <td>Waiting to Exhale (1995)</td>\n",
       "      <td>Comedy|Drama|Romance</td>\n",
       "    </tr>\n",
       "    <tr>\n",
       "      <th>4</th>\n",
       "      <td>5</td>\n",
       "      <td>Father of the Bride Part II (1995)</td>\n",
       "      <td>Comedy</td>\n",
       "    </tr>\n",
       "  </tbody>\n",
       "</table>\n",
       "</div>"
      ],
      "text/plain": [
       "   movieId                               title  \\\n",
       "0        1                    Toy Story (1995)   \n",
       "1        2                      Jumanji (1995)   \n",
       "2        3             Grumpier Old Men (1995)   \n",
       "3        4            Waiting to Exhale (1995)   \n",
       "4        5  Father of the Bride Part II (1995)   \n",
       "\n",
       "                                        genres  \n",
       "0  Adventure|Animation|Children|Comedy|Fantasy  \n",
       "1                   Adventure|Children|Fantasy  \n",
       "2                               Comedy|Romance  \n",
       "3                         Comedy|Drama|Romance  \n",
       "4                                       Comedy  "
      ]
     },
     "execution_count": 28,
     "metadata": {},
     "output_type": "execute_result"
    }
   ],
   "source": [
    "#check the first 5 rows\n",
    "movies_df.head()"
   ]
  },
  {
   "cell_type": "code",
   "execution_count": 29,
   "id": "bbf03181",
   "metadata": {},
   "outputs": [
    {
     "data": {
      "application/vnd.microsoft.datawrangler.viewer.v0+json": {
       "columns": [
        {
         "name": "index",
         "rawType": "int64",
         "type": "integer"
        },
        {
         "name": "movieId",
         "rawType": "int64",
         "type": "integer"
        },
        {
         "name": "title",
         "rawType": "object",
         "type": "string"
        },
        {
         "name": "genres",
         "rawType": "object",
         "type": "string"
        }
       ],
       "ref": "531ad851-c77c-43c5-a48d-68592ad4bc87",
       "rows": [
        [
         "9737",
         "193581",
         "Black Butler: Book of the Atlantic (2017)",
         "Action|Animation|Comedy|Fantasy"
        ],
        [
         "9738",
         "193583",
         "No Game No Life: Zero (2017)",
         "Animation|Comedy|Fantasy"
        ],
        [
         "9739",
         "193585",
         "Flint (2017)",
         "Drama"
        ],
        [
         "9740",
         "193587",
         "Bungo Stray Dogs: Dead Apple (2018)",
         "Action|Animation"
        ],
        [
         "9741",
         "193609",
         "Andrew Dice Clay: Dice Rules (1991)",
         "Comedy"
        ]
       ],
       "shape": {
        "columns": 3,
        "rows": 5
       }
      },
      "text/html": [
       "<div>\n",
       "<style scoped>\n",
       "    .dataframe tbody tr th:only-of-type {\n",
       "        vertical-align: middle;\n",
       "    }\n",
       "\n",
       "    .dataframe tbody tr th {\n",
       "        vertical-align: top;\n",
       "    }\n",
       "\n",
       "    .dataframe thead th {\n",
       "        text-align: right;\n",
       "    }\n",
       "</style>\n",
       "<table border=\"1\" class=\"dataframe\">\n",
       "  <thead>\n",
       "    <tr style=\"text-align: right;\">\n",
       "      <th></th>\n",
       "      <th>movieId</th>\n",
       "      <th>title</th>\n",
       "      <th>genres</th>\n",
       "    </tr>\n",
       "  </thead>\n",
       "  <tbody>\n",
       "    <tr>\n",
       "      <th>9737</th>\n",
       "      <td>193581</td>\n",
       "      <td>Black Butler: Book of the Atlantic (2017)</td>\n",
       "      <td>Action|Animation|Comedy|Fantasy</td>\n",
       "    </tr>\n",
       "    <tr>\n",
       "      <th>9738</th>\n",
       "      <td>193583</td>\n",
       "      <td>No Game No Life: Zero (2017)</td>\n",
       "      <td>Animation|Comedy|Fantasy</td>\n",
       "    </tr>\n",
       "    <tr>\n",
       "      <th>9739</th>\n",
       "      <td>193585</td>\n",
       "      <td>Flint (2017)</td>\n",
       "      <td>Drama</td>\n",
       "    </tr>\n",
       "    <tr>\n",
       "      <th>9740</th>\n",
       "      <td>193587</td>\n",
       "      <td>Bungo Stray Dogs: Dead Apple (2018)</td>\n",
       "      <td>Action|Animation</td>\n",
       "    </tr>\n",
       "    <tr>\n",
       "      <th>9741</th>\n",
       "      <td>193609</td>\n",
       "      <td>Andrew Dice Clay: Dice Rules (1991)</td>\n",
       "      <td>Comedy</td>\n",
       "    </tr>\n",
       "  </tbody>\n",
       "</table>\n",
       "</div>"
      ],
      "text/plain": [
       "      movieId                                      title  \\\n",
       "9737   193581  Black Butler: Book of the Atlantic (2017)   \n",
       "9738   193583               No Game No Life: Zero (2017)   \n",
       "9739   193585                               Flint (2017)   \n",
       "9740   193587        Bungo Stray Dogs: Dead Apple (2018)   \n",
       "9741   193609        Andrew Dice Clay: Dice Rules (1991)   \n",
       "\n",
       "                               genres  \n",
       "9737  Action|Animation|Comedy|Fantasy  \n",
       "9738         Animation|Comedy|Fantasy  \n",
       "9739                            Drama  \n",
       "9740                 Action|Animation  \n",
       "9741                           Comedy  "
      ]
     },
     "execution_count": 29,
     "metadata": {},
     "output_type": "execute_result"
    }
   ],
   "source": [
    "#check the last 5 rows\n",
    "movies_df.tail()"
   ]
  },
  {
   "cell_type": "markdown",
   "id": "7386759d",
   "metadata": {},
   "source": [
    "The movies dataset is uniform from start to finish."
   ]
  },
  {
   "cell_type": "code",
   "execution_count": 30,
   "id": "afe6ebe6",
   "metadata": {},
   "outputs": [
    {
     "name": "stdout",
     "output_type": "stream",
     "text": [
      "<class 'pandas.core.frame.DataFrame'>\n",
      "RangeIndex: 9742 entries, 0 to 9741\n",
      "Data columns (total 3 columns):\n",
      " #   Column   Non-Null Count  Dtype \n",
      "---  ------   --------------  ----- \n",
      " 0   movieId  9742 non-null   int64 \n",
      " 1   title    9742 non-null   object\n",
      " 2   genres   9742 non-null   object\n",
      "dtypes: int64(1), object(2)\n",
      "memory usage: 228.5+ KB\n"
     ]
    }
   ],
   "source": [
    "#get metadata\n",
    "movies_df.info()"
   ]
  },
  {
   "cell_type": "markdown",
   "id": "5557c5d0",
   "metadata": {},
   "source": [
    "The movies dataset has one numerical column and 2 categorical columns."
   ]
  },
  {
   "cell_type": "code",
   "execution_count": 44,
   "id": "882d69fa",
   "metadata": {},
   "outputs": [
    {
     "name": "stdout",
     "output_type": "stream",
     "text": [
      "The movies dataset has 9742 rows and 3 columns.\n"
     ]
    }
   ],
   "source": [
    "#check shape\n",
    "print(f\"The movies dataset has {movies_df.shape[0]} rows and {movies_df.shape[1]} columns.\")"
   ]
  },
  {
   "cell_type": "code",
   "execution_count": 31,
   "id": "d736d5b7",
   "metadata": {},
   "outputs": [
    {
     "data": {
      "application/vnd.microsoft.datawrangler.viewer.v0+json": {
       "columns": [
        {
         "name": "index",
         "rawType": "object",
         "type": "string"
        },
        {
         "name": "count",
         "rawType": "float64",
         "type": "float"
        },
        {
         "name": "mean",
         "rawType": "float64",
         "type": "float"
        },
        {
         "name": "std",
         "rawType": "float64",
         "type": "float"
        },
        {
         "name": "min",
         "rawType": "float64",
         "type": "float"
        },
        {
         "name": "25%",
         "rawType": "float64",
         "type": "float"
        },
        {
         "name": "50%",
         "rawType": "float64",
         "type": "float"
        },
        {
         "name": "75%",
         "rawType": "float64",
         "type": "float"
        },
        {
         "name": "max",
         "rawType": "float64",
         "type": "float"
        }
       ],
       "ref": "7f1e267d-1823-4d27-ae69-7c6137c936f2",
       "rows": [
        [
         "movieId",
         "9742.0",
         "42200.353623485935",
         "52160.494854438315",
         "1.0",
         "3248.25",
         "7300.0",
         "76232.0",
         "193609.0"
        ]
       ],
       "shape": {
        "columns": 8,
        "rows": 1
       }
      },
      "text/html": [
       "<div>\n",
       "<style scoped>\n",
       "    .dataframe tbody tr th:only-of-type {\n",
       "        vertical-align: middle;\n",
       "    }\n",
       "\n",
       "    .dataframe tbody tr th {\n",
       "        vertical-align: top;\n",
       "    }\n",
       "\n",
       "    .dataframe thead th {\n",
       "        text-align: right;\n",
       "    }\n",
       "</style>\n",
       "<table border=\"1\" class=\"dataframe\">\n",
       "  <thead>\n",
       "    <tr style=\"text-align: right;\">\n",
       "      <th></th>\n",
       "      <th>count</th>\n",
       "      <th>mean</th>\n",
       "      <th>std</th>\n",
       "      <th>min</th>\n",
       "      <th>25%</th>\n",
       "      <th>50%</th>\n",
       "      <th>75%</th>\n",
       "      <th>max</th>\n",
       "    </tr>\n",
       "  </thead>\n",
       "  <tbody>\n",
       "    <tr>\n",
       "      <th>movieId</th>\n",
       "      <td>9742.0</td>\n",
       "      <td>42200.353623</td>\n",
       "      <td>52160.494854</td>\n",
       "      <td>1.0</td>\n",
       "      <td>3248.25</td>\n",
       "      <td>7300.0</td>\n",
       "      <td>76232.0</td>\n",
       "      <td>193609.0</td>\n",
       "    </tr>\n",
       "  </tbody>\n",
       "</table>\n",
       "</div>"
      ],
      "text/plain": [
       "          count          mean           std  min      25%     50%      75%  \\\n",
       "movieId  9742.0  42200.353623  52160.494854  1.0  3248.25  7300.0  76232.0   \n",
       "\n",
       "              max  \n",
       "movieId  193609.0  "
      ]
     },
     "execution_count": 31,
     "metadata": {},
     "output_type": "execute_result"
    }
   ],
   "source": [
    "#statistical summary of the numerical column\n",
    "movies_df.describe().T"
   ]
  },
  {
   "cell_type": "code",
   "execution_count": 32,
   "id": "ee4a404e",
   "metadata": {},
   "outputs": [
    {
     "data": {
      "application/vnd.microsoft.datawrangler.viewer.v0+json": {
       "columns": [
        {
         "name": "index",
         "rawType": "object",
         "type": "string"
        },
        {
         "name": "count",
         "rawType": "object",
         "type": "unknown"
        },
        {
         "name": "unique",
         "rawType": "object",
         "type": "unknown"
        },
        {
         "name": "top",
         "rawType": "object",
         "type": "string"
        },
        {
         "name": "freq",
         "rawType": "object",
         "type": "unknown"
        }
       ],
       "ref": "ac5d1df1-181d-4010-917e-b363801c8bf9",
       "rows": [
        [
         "title",
         "9742",
         "9737",
         "Saturn 3 (1980)",
         "2"
        ],
        [
         "genres",
         "9742",
         "951",
         "Drama",
         "1053"
        ]
       ],
       "shape": {
        "columns": 4,
        "rows": 2
       }
      },
      "text/html": [
       "<div>\n",
       "<style scoped>\n",
       "    .dataframe tbody tr th:only-of-type {\n",
       "        vertical-align: middle;\n",
       "    }\n",
       "\n",
       "    .dataframe tbody tr th {\n",
       "        vertical-align: top;\n",
       "    }\n",
       "\n",
       "    .dataframe thead th {\n",
       "        text-align: right;\n",
       "    }\n",
       "</style>\n",
       "<table border=\"1\" class=\"dataframe\">\n",
       "  <thead>\n",
       "    <tr style=\"text-align: right;\">\n",
       "      <th></th>\n",
       "      <th>count</th>\n",
       "      <th>unique</th>\n",
       "      <th>top</th>\n",
       "      <th>freq</th>\n",
       "    </tr>\n",
       "  </thead>\n",
       "  <tbody>\n",
       "    <tr>\n",
       "      <th>title</th>\n",
       "      <td>9742</td>\n",
       "      <td>9737</td>\n",
       "      <td>Saturn 3 (1980)</td>\n",
       "      <td>2</td>\n",
       "    </tr>\n",
       "    <tr>\n",
       "      <th>genres</th>\n",
       "      <td>9742</td>\n",
       "      <td>951</td>\n",
       "      <td>Drama</td>\n",
       "      <td>1053</td>\n",
       "    </tr>\n",
       "  </tbody>\n",
       "</table>\n",
       "</div>"
      ],
      "text/plain": [
       "       count unique              top  freq\n",
       "title   9742   9737  Saturn 3 (1980)     2\n",
       "genres  9742    951            Drama  1053"
      ]
     },
     "execution_count": 32,
     "metadata": {},
     "output_type": "execute_result"
    }
   ],
   "source": [
    "#statistical summary of the categorical columns\n",
    "movies_df.describe(include=\"object\").T"
   ]
  },
  {
   "cell_type": "code",
   "execution_count": 33,
   "id": "b54a9b34",
   "metadata": {},
   "outputs": [
    {
     "name": "stdout",
     "output_type": "stream",
     "text": [
      " The movies dataset has 0 null values.\n"
     ]
    }
   ],
   "source": [
    "#check nulls\n",
    "print(f\" The movies dataset has {movies_df.isna().sum().sum()} null values.\")"
   ]
  },
  {
   "cell_type": "code",
   "execution_count": 34,
   "id": "7ccc23cd",
   "metadata": {},
   "outputs": [
    {
     "name": "stdout",
     "output_type": "stream",
     "text": [
      "The movies dataset has 0 duplicates.\n"
     ]
    }
   ],
   "source": [
    "#check duplicates\n",
    "print(f\"The movies dataset has {movies_df.duplicated().sum()} duplicates.\")"
   ]
  },
  {
   "cell_type": "code",
   "execution_count": 36,
   "id": "6829317d",
   "metadata": {},
   "outputs": [
    {
     "data": {
      "image/png": "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",
      "text/plain": [
       "<Figure size 640x480 with 1 Axes>"
      ]
     },
     "metadata": {},
     "output_type": "display_data"
    }
   ],
   "source": [
    "#check for outliers\n",
    "sns.boxplot(movies_df);"
   ]
  },
  {
   "cell_type": "markdown",
   "id": "407f0d21",
   "metadata": {},
   "source": [
    "The movies dataset has no outliers."
   ]
  },
  {
   "cell_type": "markdown",
   "id": "4c235d11",
   "metadata": {},
   "source": [
    "### RATINGS DATASET"
   ]
  },
  {
   "cell_type": "code",
   "execution_count": 38,
   "id": "c33530d1",
   "metadata": {},
   "outputs": [
    {
     "data": {
      "application/vnd.microsoft.datawrangler.viewer.v0+json": {
       "columns": [
        {
         "name": "index",
         "rawType": "int64",
         "type": "integer"
        },
        {
         "name": "userId",
         "rawType": "int64",
         "type": "integer"
        },
        {
         "name": "movieId",
         "rawType": "int64",
         "type": "integer"
        },
        {
         "name": "rating",
         "rawType": "float64",
         "type": "float"
        },
        {
         "name": "timestamp",
         "rawType": "int64",
         "type": "integer"
        }
       ],
       "ref": "64ff0687-546d-4a9e-b161-c2f0c01a3adb",
       "rows": [
        [
         "0",
         "1",
         "1",
         "4.0",
         "964982703"
        ],
        [
         "1",
         "1",
         "3",
         "4.0",
         "964981247"
        ],
        [
         "2",
         "1",
         "6",
         "4.0",
         "964982224"
        ],
        [
         "3",
         "1",
         "47",
         "5.0",
         "964983815"
        ],
        [
         "4",
         "1",
         "50",
         "5.0",
         "964982931"
        ],
        [
         "5",
         "1",
         "70",
         "3.0",
         "964982400"
        ],
        [
         "6",
         "1",
         "101",
         "5.0",
         "964980868"
        ],
        [
         "7",
         "1",
         "110",
         "4.0",
         "964982176"
        ],
        [
         "8",
         "1",
         "151",
         "5.0",
         "964984041"
        ],
        [
         "9",
         "1",
         "157",
         "5.0",
         "964984100"
        ],
        [
         "10",
         "1",
         "163",
         "5.0",
         "964983650"
        ],
        [
         "11",
         "1",
         "216",
         "5.0",
         "964981208"
        ],
        [
         "12",
         "1",
         "223",
         "3.0",
         "964980985"
        ],
        [
         "13",
         "1",
         "231",
         "5.0",
         "964981179"
        ],
        [
         "14",
         "1",
         "235",
         "4.0",
         "964980908"
        ],
        [
         "15",
         "1",
         "260",
         "5.0",
         "964981680"
        ],
        [
         "16",
         "1",
         "296",
         "3.0",
         "964982967"
        ],
        [
         "17",
         "1",
         "316",
         "3.0",
         "964982310"
        ],
        [
         "18",
         "1",
         "333",
         "5.0",
         "964981179"
        ],
        [
         "19",
         "1",
         "349",
         "4.0",
         "964982563"
        ],
        [
         "20",
         "1",
         "356",
         "4.0",
         "964980962"
        ],
        [
         "21",
         "1",
         "362",
         "5.0",
         "964982588"
        ],
        [
         "22",
         "1",
         "367",
         "4.0",
         "964981710"
        ],
        [
         "23",
         "1",
         "423",
         "3.0",
         "964982363"
        ],
        [
         "24",
         "1",
         "441",
         "4.0",
         "964980868"
        ],
        [
         "25",
         "1",
         "457",
         "5.0",
         "964981909"
        ],
        [
         "26",
         "1",
         "480",
         "4.0",
         "964982346"
        ],
        [
         "27",
         "1",
         "500",
         "3.0",
         "964981208"
        ],
        [
         "28",
         "1",
         "527",
         "5.0",
         "964984002"
        ],
        [
         "29",
         "1",
         "543",
         "4.0",
         "964981179"
        ],
        [
         "30",
         "1",
         "552",
         "4.0",
         "964982653"
        ],
        [
         "31",
         "1",
         "553",
         "5.0",
         "964984153"
        ],
        [
         "32",
         "1",
         "590",
         "4.0",
         "964982546"
        ],
        [
         "33",
         "1",
         "592",
         "4.0",
         "964982271"
        ],
        [
         "34",
         "1",
         "593",
         "4.0",
         "964983793"
        ],
        [
         "35",
         "1",
         "596",
         "5.0",
         "964982838"
        ],
        [
         "36",
         "1",
         "608",
         "5.0",
         "964982931"
        ],
        [
         "37",
         "1",
         "648",
         "3.0",
         "964982563"
        ],
        [
         "38",
         "1",
         "661",
         "5.0",
         "964982838"
        ],
        [
         "39",
         "1",
         "673",
         "3.0",
         "964981775"
        ],
        [
         "40",
         "1",
         "733",
         "4.0",
         "964982400"
        ],
        [
         "41",
         "1",
         "736",
         "3.0",
         "964982653"
        ],
        [
         "42",
         "1",
         "780",
         "3.0",
         "964984086"
        ],
        [
         "43",
         "1",
         "804",
         "4.0",
         "964980499"
        ],
        [
         "44",
         "1",
         "919",
         "5.0",
         "964982475"
        ],
        [
         "45",
         "1",
         "923",
         "5.0",
         "964981529"
        ],
        [
         "46",
         "1",
         "940",
         "5.0",
         "964982176"
        ],
        [
         "47",
         "1",
         "943",
         "4.0",
         "964983614"
        ],
        [
         "48",
         "1",
         "954",
         "5.0",
         "964983219"
        ],
        [
         "49",
         "1",
         "1009",
         "3.0",
         "964981775"
        ]
       ],
       "shape": {
        "columns": 4,
        "rows": 100836
       }
      },
      "text/html": [
       "<div>\n",
       "<style scoped>\n",
       "    .dataframe tbody tr th:only-of-type {\n",
       "        vertical-align: middle;\n",
       "    }\n",
       "\n",
       "    .dataframe tbody tr th {\n",
       "        vertical-align: top;\n",
       "    }\n",
       "\n",
       "    .dataframe thead th {\n",
       "        text-align: right;\n",
       "    }\n",
       "</style>\n",
       "<table border=\"1\" class=\"dataframe\">\n",
       "  <thead>\n",
       "    <tr style=\"text-align: right;\">\n",
       "      <th></th>\n",
       "      <th>userId</th>\n",
       "      <th>movieId</th>\n",
       "      <th>rating</th>\n",
       "      <th>timestamp</th>\n",
       "    </tr>\n",
       "  </thead>\n",
       "  <tbody>\n",
       "    <tr>\n",
       "      <th>0</th>\n",
       "      <td>1</td>\n",
       "      <td>1</td>\n",
       "      <td>4.0</td>\n",
       "      <td>964982703</td>\n",
       "    </tr>\n",
       "    <tr>\n",
       "      <th>1</th>\n",
       "      <td>1</td>\n",
       "      <td>3</td>\n",
       "      <td>4.0</td>\n",
       "      <td>964981247</td>\n",
       "    </tr>\n",
       "    <tr>\n",
       "      <th>2</th>\n",
       "      <td>1</td>\n",
       "      <td>6</td>\n",
       "      <td>4.0</td>\n",
       "      <td>964982224</td>\n",
       "    </tr>\n",
       "    <tr>\n",
       "      <th>3</th>\n",
       "      <td>1</td>\n",
       "      <td>47</td>\n",
       "      <td>5.0</td>\n",
       "      <td>964983815</td>\n",
       "    </tr>\n",
       "    <tr>\n",
       "      <th>4</th>\n",
       "      <td>1</td>\n",
       "      <td>50</td>\n",
       "      <td>5.0</td>\n",
       "      <td>964982931</td>\n",
       "    </tr>\n",
       "    <tr>\n",
       "      <th>...</th>\n",
       "      <td>...</td>\n",
       "      <td>...</td>\n",
       "      <td>...</td>\n",
       "      <td>...</td>\n",
       "    </tr>\n",
       "    <tr>\n",
       "      <th>100831</th>\n",
       "      <td>610</td>\n",
       "      <td>166534</td>\n",
       "      <td>4.0</td>\n",
       "      <td>1493848402</td>\n",
       "    </tr>\n",
       "    <tr>\n",
       "      <th>100832</th>\n",
       "      <td>610</td>\n",
       "      <td>168248</td>\n",
       "      <td>5.0</td>\n",
       "      <td>1493850091</td>\n",
       "    </tr>\n",
       "    <tr>\n",
       "      <th>100833</th>\n",
       "      <td>610</td>\n",
       "      <td>168250</td>\n",
       "      <td>5.0</td>\n",
       "      <td>1494273047</td>\n",
       "    </tr>\n",
       "    <tr>\n",
       "      <th>100834</th>\n",
       "      <td>610</td>\n",
       "      <td>168252</td>\n",
       "      <td>5.0</td>\n",
       "      <td>1493846352</td>\n",
       "    </tr>\n",
       "    <tr>\n",
       "      <th>100835</th>\n",
       "      <td>610</td>\n",
       "      <td>170875</td>\n",
       "      <td>3.0</td>\n",
       "      <td>1493846415</td>\n",
       "    </tr>\n",
       "  </tbody>\n",
       "</table>\n",
       "<p>100836 rows × 4 columns</p>\n",
       "</div>"
      ],
      "text/plain": [
       "        userId  movieId  rating   timestamp\n",
       "0            1        1     4.0   964982703\n",
       "1            1        3     4.0   964981247\n",
       "2            1        6     4.0   964982224\n",
       "3            1       47     5.0   964983815\n",
       "4            1       50     5.0   964982931\n",
       "...        ...      ...     ...         ...\n",
       "100831     610   166534     4.0  1493848402\n",
       "100832     610   168248     5.0  1493850091\n",
       "100833     610   168250     5.0  1494273047\n",
       "100834     610   168252     5.0  1493846352\n",
       "100835     610   170875     3.0  1493846415\n",
       "\n",
       "[100836 rows x 4 columns]"
      ]
     },
     "execution_count": 38,
     "metadata": {},
     "output_type": "execute_result"
    }
   ],
   "source": [
    "#load and read dataset\n",
    "ratings_df = pd.read_csv(\"Data/ratings.csv\")\n",
    "ratings_df"
   ]
  },
  {
   "cell_type": "markdown",
   "id": "27a1b4c3",
   "metadata": {},
   "source": [
    "### DATASET DESCRIPTION  \n",
    "\n",
    "* Each row represents one rating of one movie by one user.\n",
    "\n",
    "* `rating` are made on a 5-star scale with half-star increments (0.5 stars - 5.0 stars).\n",
    "\n",
    "* `timestamp` represents seconds since midnight Coordinated Universal Time (UTC) of January 1, 1970.\n"
   ]
  },
  {
   "cell_type": "code",
   "execution_count": 39,
   "id": "a261e2cc",
   "metadata": {},
   "outputs": [
    {
     "data": {
      "application/vnd.microsoft.datawrangler.viewer.v0+json": {
       "columns": [
        {
         "name": "index",
         "rawType": "int64",
         "type": "integer"
        },
        {
         "name": "userId",
         "rawType": "int64",
         "type": "integer"
        },
        {
         "name": "movieId",
         "rawType": "int64",
         "type": "integer"
        },
        {
         "name": "rating",
         "rawType": "float64",
         "type": "float"
        },
        {
         "name": "timestamp",
         "rawType": "int64",
         "type": "integer"
        }
       ],
       "ref": "64c07b02-98ec-4af4-879b-9bd92fec2330",
       "rows": [
        [
         "0",
         "1",
         "1",
         "4.0",
         "964982703"
        ],
        [
         "1",
         "1",
         "3",
         "4.0",
         "964981247"
        ],
        [
         "2",
         "1",
         "6",
         "4.0",
         "964982224"
        ],
        [
         "3",
         "1",
         "47",
         "5.0",
         "964983815"
        ],
        [
         "4",
         "1",
         "50",
         "5.0",
         "964982931"
        ]
       ],
       "shape": {
        "columns": 4,
        "rows": 5
       }
      },
      "text/html": [
       "<div>\n",
       "<style scoped>\n",
       "    .dataframe tbody tr th:only-of-type {\n",
       "        vertical-align: middle;\n",
       "    }\n",
       "\n",
       "    .dataframe tbody tr th {\n",
       "        vertical-align: top;\n",
       "    }\n",
       "\n",
       "    .dataframe thead th {\n",
       "        text-align: right;\n",
       "    }\n",
       "</style>\n",
       "<table border=\"1\" class=\"dataframe\">\n",
       "  <thead>\n",
       "    <tr style=\"text-align: right;\">\n",
       "      <th></th>\n",
       "      <th>userId</th>\n",
       "      <th>movieId</th>\n",
       "      <th>rating</th>\n",
       "      <th>timestamp</th>\n",
       "    </tr>\n",
       "  </thead>\n",
       "  <tbody>\n",
       "    <tr>\n",
       "      <th>0</th>\n",
       "      <td>1</td>\n",
       "      <td>1</td>\n",
       "      <td>4.0</td>\n",
       "      <td>964982703</td>\n",
       "    </tr>\n",
       "    <tr>\n",
       "      <th>1</th>\n",
       "      <td>1</td>\n",
       "      <td>3</td>\n",
       "      <td>4.0</td>\n",
       "      <td>964981247</td>\n",
       "    </tr>\n",
       "    <tr>\n",
       "      <th>2</th>\n",
       "      <td>1</td>\n",
       "      <td>6</td>\n",
       "      <td>4.0</td>\n",
       "      <td>964982224</td>\n",
       "    </tr>\n",
       "    <tr>\n",
       "      <th>3</th>\n",
       "      <td>1</td>\n",
       "      <td>47</td>\n",
       "      <td>5.0</td>\n",
       "      <td>964983815</td>\n",
       "    </tr>\n",
       "    <tr>\n",
       "      <th>4</th>\n",
       "      <td>1</td>\n",
       "      <td>50</td>\n",
       "      <td>5.0</td>\n",
       "      <td>964982931</td>\n",
       "    </tr>\n",
       "  </tbody>\n",
       "</table>\n",
       "</div>"
      ],
      "text/plain": [
       "   userId  movieId  rating  timestamp\n",
       "0       1        1     4.0  964982703\n",
       "1       1        3     4.0  964981247\n",
       "2       1        6     4.0  964982224\n",
       "3       1       47     5.0  964983815\n",
       "4       1       50     5.0  964982931"
      ]
     },
     "execution_count": 39,
     "metadata": {},
     "output_type": "execute_result"
    }
   ],
   "source": [
    "#check the first 5 rows\n",
    "ratings_df.head()"
   ]
  },
  {
   "cell_type": "code",
   "execution_count": 40,
   "id": "1bf7ccd3",
   "metadata": {},
   "outputs": [
    {
     "data": {
      "application/vnd.microsoft.datawrangler.viewer.v0+json": {
       "columns": [
        {
         "name": "index",
         "rawType": "int64",
         "type": "integer"
        },
        {
         "name": "userId",
         "rawType": "int64",
         "type": "integer"
        },
        {
         "name": "movieId",
         "rawType": "int64",
         "type": "integer"
        },
        {
         "name": "rating",
         "rawType": "float64",
         "type": "float"
        },
        {
         "name": "timestamp",
         "rawType": "int64",
         "type": "integer"
        }
       ],
       "ref": "d1e84e9b-775a-4bf6-8b74-51feefd06993",
       "rows": [
        [
         "100831",
         "610",
         "166534",
         "4.0",
         "1493848402"
        ],
        [
         "100832",
         "610",
         "168248",
         "5.0",
         "1493850091"
        ],
        [
         "100833",
         "610",
         "168250",
         "5.0",
         "1494273047"
        ],
        [
         "100834",
         "610",
         "168252",
         "5.0",
         "1493846352"
        ],
        [
         "100835",
         "610",
         "170875",
         "3.0",
         "1493846415"
        ]
       ],
       "shape": {
        "columns": 4,
        "rows": 5
       }
      },
      "text/html": [
       "<div>\n",
       "<style scoped>\n",
       "    .dataframe tbody tr th:only-of-type {\n",
       "        vertical-align: middle;\n",
       "    }\n",
       "\n",
       "    .dataframe tbody tr th {\n",
       "        vertical-align: top;\n",
       "    }\n",
       "\n",
       "    .dataframe thead th {\n",
       "        text-align: right;\n",
       "    }\n",
       "</style>\n",
       "<table border=\"1\" class=\"dataframe\">\n",
       "  <thead>\n",
       "    <tr style=\"text-align: right;\">\n",
       "      <th></th>\n",
       "      <th>userId</th>\n",
       "      <th>movieId</th>\n",
       "      <th>rating</th>\n",
       "      <th>timestamp</th>\n",
       "    </tr>\n",
       "  </thead>\n",
       "  <tbody>\n",
       "    <tr>\n",
       "      <th>100831</th>\n",
       "      <td>610</td>\n",
       "      <td>166534</td>\n",
       "      <td>4.0</td>\n",
       "      <td>1493848402</td>\n",
       "    </tr>\n",
       "    <tr>\n",
       "      <th>100832</th>\n",
       "      <td>610</td>\n",
       "      <td>168248</td>\n",
       "      <td>5.0</td>\n",
       "      <td>1493850091</td>\n",
       "    </tr>\n",
       "    <tr>\n",
       "      <th>100833</th>\n",
       "      <td>610</td>\n",
       "      <td>168250</td>\n",
       "      <td>5.0</td>\n",
       "      <td>1494273047</td>\n",
       "    </tr>\n",
       "    <tr>\n",
       "      <th>100834</th>\n",
       "      <td>610</td>\n",
       "      <td>168252</td>\n",
       "      <td>5.0</td>\n",
       "      <td>1493846352</td>\n",
       "    </tr>\n",
       "    <tr>\n",
       "      <th>100835</th>\n",
       "      <td>610</td>\n",
       "      <td>170875</td>\n",
       "      <td>3.0</td>\n",
       "      <td>1493846415</td>\n",
       "    </tr>\n",
       "  </tbody>\n",
       "</table>\n",
       "</div>"
      ],
      "text/plain": [
       "        userId  movieId  rating   timestamp\n",
       "100831     610   166534     4.0  1493848402\n",
       "100832     610   168248     5.0  1493850091\n",
       "100833     610   168250     5.0  1494273047\n",
       "100834     610   168252     5.0  1493846352\n",
       "100835     610   170875     3.0  1493846415"
      ]
     },
     "execution_count": 40,
     "metadata": {},
     "output_type": "execute_result"
    }
   ],
   "source": [
    "#check the last rows\n",
    "ratings_df.tail()"
   ]
  },
  {
   "cell_type": "markdown",
   "id": "66ce1720",
   "metadata": {},
   "source": [
    "The ratings dataset is uniform from start to finish."
   ]
  },
  {
   "cell_type": "code",
   "execution_count": 45,
   "id": "421584df",
   "metadata": {},
   "outputs": [
    {
     "name": "stdout",
     "output_type": "stream",
     "text": [
      "The ratings dataset has 100836 rows and 4 columns.\n"
     ]
    }
   ],
   "source": [
    "#check shape\n",
    "print(f\"The ratings dataset has {ratings_df.shape[0]} rows and {ratings_df.shape[1]} columns.\")"
   ]
  },
  {
   "cell_type": "code",
   "execution_count": 41,
   "id": "8e17c470",
   "metadata": {},
   "outputs": [
    {
     "name": "stdout",
     "output_type": "stream",
     "text": [
      "<class 'pandas.core.frame.DataFrame'>\n",
      "RangeIndex: 100836 entries, 0 to 100835\n",
      "Data columns (total 4 columns):\n",
      " #   Column     Non-Null Count   Dtype  \n",
      "---  ------     --------------   -----  \n",
      " 0   userId     100836 non-null  int64  \n",
      " 1   movieId    100836 non-null  int64  \n",
      " 2   rating     100836 non-null  float64\n",
      " 3   timestamp  100836 non-null  int64  \n",
      "dtypes: float64(1), int64(3)\n",
      "memory usage: 3.1 MB\n"
     ]
    }
   ],
   "source": [
    "#get metadata\n",
    "ratings_df.info()"
   ]
  },
  {
   "cell_type": "markdown",
   "id": "c0847e6f",
   "metadata": {},
   "source": [
    "The dataset has 4 numerical columns."
   ]
  },
  {
   "cell_type": "code",
   "execution_count": 42,
   "id": "939f178d",
   "metadata": {},
   "outputs": [
    {
     "data": {
      "application/vnd.microsoft.datawrangler.viewer.v0+json": {
       "columns": [
        {
         "name": "index",
         "rawType": "object",
         "type": "string"
        },
        {
         "name": "count",
         "rawType": "float64",
         "type": "float"
        },
        {
         "name": "mean",
         "rawType": "float64",
         "type": "float"
        },
        {
         "name": "std",
         "rawType": "float64",
         "type": "float"
        },
        {
         "name": "min",
         "rawType": "float64",
         "type": "float"
        },
        {
         "name": "25%",
         "rawType": "float64",
         "type": "float"
        },
        {
         "name": "50%",
         "rawType": "float64",
         "type": "float"
        },
        {
         "name": "75%",
         "rawType": "float64",
         "type": "float"
        },
        {
         "name": "max",
         "rawType": "float64",
         "type": "float"
        }
       ],
       "ref": "73000c46-9824-4d5a-9bc1-65f1fefd9e35",
       "rows": [
        [
         "userId",
         "100836.0",
         "326.12756356856676",
         "182.61849146349707",
         "1.0",
         "177.0",
         "325.0",
         "477.0",
         "610.0"
        ],
        [
         "movieId",
         "100836.0",
         "19435.2957177992",
         "35530.98719870027",
         "1.0",
         "1199.0",
         "2991.0",
         "8122.0",
         "193609.0"
        ],
        [
         "rating",
         "100836.0",
         "3.501556983616962",
         "1.0425292390605359",
         "0.5",
         "3.0",
         "3.5",
         "4.0",
         "5.0"
        ],
        [
         "timestamp",
         "100836.0",
         "1205946087.3684695",
         "216261035.9951324",
         "828124615.0",
         "1019123866.0",
         "1186086662.0",
         "1435994144.5",
         "1537799250.0"
        ]
       ],
       "shape": {
        "columns": 8,
        "rows": 4
       }
      },
      "text/html": [
       "<div>\n",
       "<style scoped>\n",
       "    .dataframe tbody tr th:only-of-type {\n",
       "        vertical-align: middle;\n",
       "    }\n",
       "\n",
       "    .dataframe tbody tr th {\n",
       "        vertical-align: top;\n",
       "    }\n",
       "\n",
       "    .dataframe thead th {\n",
       "        text-align: right;\n",
       "    }\n",
       "</style>\n",
       "<table border=\"1\" class=\"dataframe\">\n",
       "  <thead>\n",
       "    <tr style=\"text-align: right;\">\n",
       "      <th></th>\n",
       "      <th>count</th>\n",
       "      <th>mean</th>\n",
       "      <th>std</th>\n",
       "      <th>min</th>\n",
       "      <th>25%</th>\n",
       "      <th>50%</th>\n",
       "      <th>75%</th>\n",
       "      <th>max</th>\n",
       "    </tr>\n",
       "  </thead>\n",
       "  <tbody>\n",
       "    <tr>\n",
       "      <th>userId</th>\n",
       "      <td>100836.0</td>\n",
       "      <td>3.261276e+02</td>\n",
       "      <td>1.826185e+02</td>\n",
       "      <td>1.0</td>\n",
       "      <td>1.770000e+02</td>\n",
       "      <td>3.250000e+02</td>\n",
       "      <td>4.770000e+02</td>\n",
       "      <td>6.100000e+02</td>\n",
       "    </tr>\n",
       "    <tr>\n",
       "      <th>movieId</th>\n",
       "      <td>100836.0</td>\n",
       "      <td>1.943530e+04</td>\n",
       "      <td>3.553099e+04</td>\n",
       "      <td>1.0</td>\n",
       "      <td>1.199000e+03</td>\n",
       "      <td>2.991000e+03</td>\n",
       "      <td>8.122000e+03</td>\n",
       "      <td>1.936090e+05</td>\n",
       "    </tr>\n",
       "    <tr>\n",
       "      <th>rating</th>\n",
       "      <td>100836.0</td>\n",
       "      <td>3.501557e+00</td>\n",
       "      <td>1.042529e+00</td>\n",
       "      <td>0.5</td>\n",
       "      <td>3.000000e+00</td>\n",
       "      <td>3.500000e+00</td>\n",
       "      <td>4.000000e+00</td>\n",
       "      <td>5.000000e+00</td>\n",
       "    </tr>\n",
       "    <tr>\n",
       "      <th>timestamp</th>\n",
       "      <td>100836.0</td>\n",
       "      <td>1.205946e+09</td>\n",
       "      <td>2.162610e+08</td>\n",
       "      <td>828124615.0</td>\n",
       "      <td>1.019124e+09</td>\n",
       "      <td>1.186087e+09</td>\n",
       "      <td>1.435994e+09</td>\n",
       "      <td>1.537799e+09</td>\n",
       "    </tr>\n",
       "  </tbody>\n",
       "</table>\n",
       "</div>"
      ],
      "text/plain": [
       "              count          mean           std          min           25%  \\\n",
       "userId     100836.0  3.261276e+02  1.826185e+02          1.0  1.770000e+02   \n",
       "movieId    100836.0  1.943530e+04  3.553099e+04          1.0  1.199000e+03   \n",
       "rating     100836.0  3.501557e+00  1.042529e+00          0.5  3.000000e+00   \n",
       "timestamp  100836.0  1.205946e+09  2.162610e+08  828124615.0  1.019124e+09   \n",
       "\n",
       "                    50%           75%           max  \n",
       "userId     3.250000e+02  4.770000e+02  6.100000e+02  \n",
       "movieId    2.991000e+03  8.122000e+03  1.936090e+05  \n",
       "rating     3.500000e+00  4.000000e+00  5.000000e+00  \n",
       "timestamp  1.186087e+09  1.435994e+09  1.537799e+09  "
      ]
     },
     "execution_count": 42,
     "metadata": {},
     "output_type": "execute_result"
    }
   ],
   "source": [
    "#statistical summary of the numerical columns\n",
    "ratings_df.describe().T"
   ]
  },
  {
   "cell_type": "code",
   "execution_count": 47,
   "metadata": {},
   "outputs": [
    {
     "name": "stdout",
     "output_type": "stream",
     "text": [
      "The ratings dataset has 0 null values.\n"
     ]
    }
   ],
   "source": [
    "#check nulls\n",
    "print(f\"The ratings dataset has {ratings_df.isna().sum().sum()} null values.\")"
   ]
  },
  {
   "cell_type": "code",
   "execution_count": 46,
   "id": "0389dcc6",
   "metadata": {},
   "outputs": [
    {
     "name": "stdout",
     "output_type": "stream",
     "text": [
      "The ratings dataset has 0 duplicates.\n"
     ]
    }
   ],
   "source": [
    "#check duplicates\n",
    "print(f\"The ratings dataset has {ratings_df.duplicated().sum()} duplicates.\")"
   ]
  },
  {
   "cell_type": "code",
   "execution_count": 48,
   "id": "46fd3e73",
   "metadata": {},
   "outputs": [
    {
     "data": {
      "image/png": "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",
      "text/plain": [
       "<Figure size 640x480 with 1 Axes>"
      ]
     },
     "metadata": {},
     "output_type": "display_data"
    }
   ],
   "source": [
    "#check for outliers\n",
    "sns.boxplot(ratings_df);"
   ]
  },
  {
   "cell_type": "markdown",
   "id": "2458b544",
   "metadata": {},
   "source": [
    "The ratings dataset has no outliers."
   ]
  },
  {
   "cell_type": "markdown",
   "id": "6d71fe0c",
   "metadata": {},
   "source": [
    "### TAGS DATASET\n"
   ]
  },
  {
   "cell_type": "code",
   "execution_count": 49,
   "id": "8c7c293e",
   "metadata": {},
   "outputs": [
    {
     "data": {
      "application/vnd.microsoft.datawrangler.viewer.v0+json": {
       "columns": [
        {
         "name": "index",
         "rawType": "int64",
         "type": "integer"
        },
        {
         "name": "userId",
         "rawType": "int64",
         "type": "integer"
        },
        {
         "name": "movieId",
         "rawType": "int64",
         "type": "integer"
        },
        {
         "name": "tag",
         "rawType": "object",
         "type": "string"
        },
        {
         "name": "timestamp",
         "rawType": "int64",
         "type": "integer"
        }
       ],
       "ref": "d8c0f62b-5ebb-428d-ac09-30d08c282ae9",
       "rows": [
        [
         "0",
         "2",
         "60756",
         "funny",
         "1445714994"
        ],
        [
         "1",
         "2",
         "60756",
         "Highly quotable",
         "1445714996"
        ],
        [
         "2",
         "2",
         "60756",
         "will ferrell",
         "1445714992"
        ],
        [
         "3",
         "2",
         "89774",
         "Boxing story",
         "1445715207"
        ],
        [
         "4",
         "2",
         "89774",
         "MMA",
         "1445715200"
        ],
        [
         "5",
         "2",
         "89774",
         "Tom Hardy",
         "1445715205"
        ],
        [
         "6",
         "2",
         "106782",
         "drugs",
         "1445715054"
        ],
        [
         "7",
         "2",
         "106782",
         "Leonardo DiCaprio",
         "1445715051"
        ],
        [
         "8",
         "2",
         "106782",
         "Martin Scorsese",
         "1445715056"
        ],
        [
         "9",
         "7",
         "48516",
         "way too long",
         "1169687325"
        ],
        [
         "10",
         "18",
         "431",
         "Al Pacino",
         "1462138765"
        ],
        [
         "11",
         "18",
         "431",
         "gangster",
         "1462138749"
        ],
        [
         "12",
         "18",
         "431",
         "mafia",
         "1462138755"
        ],
        [
         "13",
         "18",
         "1221",
         "Al Pacino",
         "1461699306"
        ],
        [
         "14",
         "18",
         "1221",
         "Mafia",
         "1461699303"
        ],
        [
         "15",
         "18",
         "5995",
         "holocaust",
         "1455735472"
        ],
        [
         "16",
         "18",
         "5995",
         "true story",
         "1455735479"
        ],
        [
         "17",
         "18",
         "44665",
         "twist ending",
         "1456948283"
        ],
        [
         "18",
         "18",
         "52604",
         "Anthony Hopkins",
         "1457650696"
        ],
        [
         "19",
         "18",
         "52604",
         "courtroom drama",
         "1457650711"
        ],
        [
         "20",
         "18",
         "52604",
         "twist ending",
         "1457650682"
        ],
        [
         "21",
         "18",
         "88094",
         "britpop",
         "1457444500"
        ],
        [
         "22",
         "18",
         "88094",
         "indie record label",
         "1457444592"
        ],
        [
         "23",
         "18",
         "88094",
         "music",
         "1457444609"
        ],
        [
         "24",
         "18",
         "144210",
         "dumpster diving",
         "1455060381"
        ],
        [
         "25",
         "18",
         "144210",
         "Sustainability",
         "1455060452"
        ],
        [
         "26",
         "21",
         "1569",
         "romantic comedy",
         "1419805413"
        ],
        [
         "27",
         "21",
         "1569",
         "wedding",
         "1419805419"
        ],
        [
         "28",
         "21",
         "118985",
         "painter",
         "1419805477"
        ],
        [
         "29",
         "21",
         "119141",
         "bloody",
         "1419793962"
        ],
        [
         "30",
         "49",
         "109487",
         "black hole",
         "1493093306"
        ],
        [
         "31",
         "49",
         "109487",
         "sci-fi",
         "1493093332"
        ],
        [
         "32",
         "49",
         "109487",
         "time-travel",
         "1493093356"
        ],
        [
         "33",
         "62",
         "2",
         "fantasy",
         "1528843929"
        ],
        [
         "34",
         "62",
         "2",
         "magic board game",
         "1528843932"
        ],
        [
         "35",
         "62",
         "2",
         "Robin Williams",
         "1528843907"
        ],
        [
         "36",
         "62",
         "110",
         "beautiful scenery",
         "1528152541"
        ],
        [
         "37",
         "62",
         "110",
         "epic",
         "1528152532"
        ],
        [
         "38",
         "62",
         "110",
         "historical",
         "1528152523"
        ],
        [
         "39",
         "62",
         "110",
         "inspirational",
         "1528152527"
        ],
        [
         "40",
         "62",
         "110",
         "Medieval",
         "1528152528"
        ],
        [
         "41",
         "62",
         "110",
         "mel gibson",
         "1528152521"
        ],
        [
         "42",
         "62",
         "110",
         "Oscar (Best Cinematography)",
         "1528152539"
        ],
        [
         "43",
         "62",
         "110",
         "revenge",
         "1528152531"
        ],
        [
         "44",
         "62",
         "110",
         "sword fight",
         "1528152535"
        ],
        [
         "45",
         "62",
         "410",
         "black comedy",
         "1525636607"
        ],
        [
         "46",
         "62",
         "410",
         "Christina Ricci",
         "1525636685"
        ],
        [
         "47",
         "62",
         "410",
         "Christopher Lloyd",
         "1525636622"
        ],
        [
         "48",
         "62",
         "410",
         "dark comedy",
         "1525636610"
        ],
        [
         "49",
         "62",
         "410",
         "family",
         "1525636708"
        ]
       ],
       "shape": {
        "columns": 4,
        "rows": 3683
       }
      },
      "text/html": [
       "<div>\n",
       "<style scoped>\n",
       "    .dataframe tbody tr th:only-of-type {\n",
       "        vertical-align: middle;\n",
       "    }\n",
       "\n",
       "    .dataframe tbody tr th {\n",
       "        vertical-align: top;\n",
       "    }\n",
       "\n",
       "    .dataframe thead th {\n",
       "        text-align: right;\n",
       "    }\n",
       "</style>\n",
       "<table border=\"1\" class=\"dataframe\">\n",
       "  <thead>\n",
       "    <tr style=\"text-align: right;\">\n",
       "      <th></th>\n",
       "      <th>userId</th>\n",
       "      <th>movieId</th>\n",
       "      <th>tag</th>\n",
       "      <th>timestamp</th>\n",
       "    </tr>\n",
       "  </thead>\n",
       "  <tbody>\n",
       "    <tr>\n",
       "      <th>0</th>\n",
       "      <td>2</td>\n",
       "      <td>60756</td>\n",
       "      <td>funny</td>\n",
       "      <td>1445714994</td>\n",
       "    </tr>\n",
       "    <tr>\n",
       "      <th>1</th>\n",
       "      <td>2</td>\n",
       "      <td>60756</td>\n",
       "      <td>Highly quotable</td>\n",
       "      <td>1445714996</td>\n",
       "    </tr>\n",
       "    <tr>\n",
       "      <th>2</th>\n",
       "      <td>2</td>\n",
       "      <td>60756</td>\n",
       "      <td>will ferrell</td>\n",
       "      <td>1445714992</td>\n",
       "    </tr>\n",
       "    <tr>\n",
       "      <th>3</th>\n",
       "      <td>2</td>\n",
       "      <td>89774</td>\n",
       "      <td>Boxing story</td>\n",
       "      <td>1445715207</td>\n",
       "    </tr>\n",
       "    <tr>\n",
       "      <th>4</th>\n",
       "      <td>2</td>\n",
       "      <td>89774</td>\n",
       "      <td>MMA</td>\n",
       "      <td>1445715200</td>\n",
       "    </tr>\n",
       "    <tr>\n",
       "      <th>...</th>\n",
       "      <td>...</td>\n",
       "      <td>...</td>\n",
       "      <td>...</td>\n",
       "      <td>...</td>\n",
       "    </tr>\n",
       "    <tr>\n",
       "      <th>3678</th>\n",
       "      <td>606</td>\n",
       "      <td>7382</td>\n",
       "      <td>for katie</td>\n",
       "      <td>1171234019</td>\n",
       "    </tr>\n",
       "    <tr>\n",
       "      <th>3679</th>\n",
       "      <td>606</td>\n",
       "      <td>7936</td>\n",
       "      <td>austere</td>\n",
       "      <td>1173392334</td>\n",
       "    </tr>\n",
       "    <tr>\n",
       "      <th>3680</th>\n",
       "      <td>610</td>\n",
       "      <td>3265</td>\n",
       "      <td>gun fu</td>\n",
       "      <td>1493843984</td>\n",
       "    </tr>\n",
       "    <tr>\n",
       "      <th>3681</th>\n",
       "      <td>610</td>\n",
       "      <td>3265</td>\n",
       "      <td>heroic bloodshed</td>\n",
       "      <td>1493843978</td>\n",
       "    </tr>\n",
       "    <tr>\n",
       "      <th>3682</th>\n",
       "      <td>610</td>\n",
       "      <td>168248</td>\n",
       "      <td>Heroic Bloodshed</td>\n",
       "      <td>1493844270</td>\n",
       "    </tr>\n",
       "  </tbody>\n",
       "</table>\n",
       "<p>3683 rows × 4 columns</p>\n",
       "</div>"
      ],
      "text/plain": [
       "      userId  movieId               tag   timestamp\n",
       "0          2    60756             funny  1445714994\n",
       "1          2    60756   Highly quotable  1445714996\n",
       "2          2    60756      will ferrell  1445714992\n",
       "3          2    89774      Boxing story  1445715207\n",
       "4          2    89774               MMA  1445715200\n",
       "...      ...      ...               ...         ...\n",
       "3678     606     7382         for katie  1171234019\n",
       "3679     606     7936           austere  1173392334\n",
       "3680     610     3265            gun fu  1493843984\n",
       "3681     610     3265  heroic bloodshed  1493843978\n",
       "3682     610   168248  Heroic Bloodshed  1493844270\n",
       "\n",
       "[3683 rows x 4 columns]"
      ]
     },
     "execution_count": 49,
     "metadata": {},
     "output_type": "execute_result"
    }
   ],
   "source": [
    "#load and read dataset\n",
    "tags_df = pd.read_csv(\"Data/tags.csv\")\n",
    "tags_df"
   ]
  },
  {
   "cell_type": "markdown",
   "id": "ab6cf675",
   "metadata": {},
   "source": [
    "### DATASET DESCRIPTION  \n",
    "\n",
    "* Tags are user-generated metadata about movies. Each `tag` is typically a single word or short phrase. The meaning, value and purpose of a particular tag is determined by each user.\n",
    "\n",
    "* `timestamp` represent seconds since midnight Coordinated Universal Time (UTC) of January 1, 1970"
   ]
  },
  {
   "cell_type": "code",
   "execution_count": 52,
   "id": "f79bf09a",
   "metadata": {},
   "outputs": [
    {
     "data": {
      "application/vnd.microsoft.datawrangler.viewer.v0+json": {
       "columns": [
        {
         "name": "index",
         "rawType": "int64",
         "type": "integer"
        },
        {
         "name": "userId",
         "rawType": "int64",
         "type": "integer"
        },
        {
         "name": "movieId",
         "rawType": "int64",
         "type": "integer"
        },
        {
         "name": "tag",
         "rawType": "object",
         "type": "string"
        },
        {
         "name": "timestamp",
         "rawType": "int64",
         "type": "integer"
        }
       ],
       "ref": "de8ea1b5-1fa4-4ec3-9202-9f1a0b6082e6",
       "rows": [
        [
         "0",
         "2",
         "60756",
         "funny",
         "1445714994"
        ],
        [
         "1",
         "2",
         "60756",
         "Highly quotable",
         "1445714996"
        ],
        [
         "2",
         "2",
         "60756",
         "will ferrell",
         "1445714992"
        ],
        [
         "3",
         "2",
         "89774",
         "Boxing story",
         "1445715207"
        ],
        [
         "4",
         "2",
         "89774",
         "MMA",
         "1445715200"
        ]
       ],
       "shape": {
        "columns": 4,
        "rows": 5
       }
      },
      "text/html": [
       "<div>\n",
       "<style scoped>\n",
       "    .dataframe tbody tr th:only-of-type {\n",
       "        vertical-align: middle;\n",
       "    }\n",
       "\n",
       "    .dataframe tbody tr th {\n",
       "        vertical-align: top;\n",
       "    }\n",
       "\n",
       "    .dataframe thead th {\n",
       "        text-align: right;\n",
       "    }\n",
       "</style>\n",
       "<table border=\"1\" class=\"dataframe\">\n",
       "  <thead>\n",
       "    <tr style=\"text-align: right;\">\n",
       "      <th></th>\n",
       "      <th>userId</th>\n",
       "      <th>movieId</th>\n",
       "      <th>tag</th>\n",
       "      <th>timestamp</th>\n",
       "    </tr>\n",
       "  </thead>\n",
       "  <tbody>\n",
       "    <tr>\n",
       "      <th>0</th>\n",
       "      <td>2</td>\n",
       "      <td>60756</td>\n",
       "      <td>funny</td>\n",
       "      <td>1445714994</td>\n",
       "    </tr>\n",
       "    <tr>\n",
       "      <th>1</th>\n",
       "      <td>2</td>\n",
       "      <td>60756</td>\n",
       "      <td>Highly quotable</td>\n",
       "      <td>1445714996</td>\n",
       "    </tr>\n",
       "    <tr>\n",
       "      <th>2</th>\n",
       "      <td>2</td>\n",
       "      <td>60756</td>\n",
       "      <td>will ferrell</td>\n",
       "      <td>1445714992</td>\n",
       "    </tr>\n",
       "    <tr>\n",
       "      <th>3</th>\n",
       "      <td>2</td>\n",
       "      <td>89774</td>\n",
       "      <td>Boxing story</td>\n",
       "      <td>1445715207</td>\n",
       "    </tr>\n",
       "    <tr>\n",
       "      <th>4</th>\n",
       "      <td>2</td>\n",
       "      <td>89774</td>\n",
       "      <td>MMA</td>\n",
       "      <td>1445715200</td>\n",
       "    </tr>\n",
       "  </tbody>\n",
       "</table>\n",
       "</div>"
      ],
      "text/plain": [
       "   userId  movieId              tag   timestamp\n",
       "0       2    60756            funny  1445714994\n",
       "1       2    60756  Highly quotable  1445714996\n",
       "2       2    60756     will ferrell  1445714992\n",
       "3       2    89774     Boxing story  1445715207\n",
       "4       2    89774              MMA  1445715200"
      ]
     },
     "execution_count": 52,
     "metadata": {},
     "output_type": "execute_result"
    }
   ],
   "source": [
    "#check the first 5 rows\n",
    "tags_df.head()"
   ]
  },
  {
   "cell_type": "code",
   "execution_count": 53,
   "id": "d9758619",
   "metadata": {},
   "outputs": [
    {
     "data": {
      "application/vnd.microsoft.datawrangler.viewer.v0+json": {
       "columns": [
        {
         "name": "index",
         "rawType": "int64",
         "type": "integer"
        },
        {
         "name": "userId",
         "rawType": "int64",
         "type": "integer"
        },
        {
         "name": "movieId",
         "rawType": "int64",
         "type": "integer"
        },
        {
         "name": "tag",
         "rawType": "object",
         "type": "string"
        },
        {
         "name": "timestamp",
         "rawType": "int64",
         "type": "integer"
        }
       ],
       "ref": "83999133-143b-42e7-8431-cd48e6fccb9d",
       "rows": [
        [
         "3678",
         "606",
         "7382",
         "for katie",
         "1171234019"
        ],
        [
         "3679",
         "606",
         "7936",
         "austere",
         "1173392334"
        ],
        [
         "3680",
         "610",
         "3265",
         "gun fu",
         "1493843984"
        ],
        [
         "3681",
         "610",
         "3265",
         "heroic bloodshed",
         "1493843978"
        ],
        [
         "3682",
         "610",
         "168248",
         "Heroic Bloodshed",
         "1493844270"
        ]
       ],
       "shape": {
        "columns": 4,
        "rows": 5
       }
      },
      "text/html": [
       "<div>\n",
       "<style scoped>\n",
       "    .dataframe tbody tr th:only-of-type {\n",
       "        vertical-align: middle;\n",
       "    }\n",
       "\n",
       "    .dataframe tbody tr th {\n",
       "        vertical-align: top;\n",
       "    }\n",
       "\n",
       "    .dataframe thead th {\n",
       "        text-align: right;\n",
       "    }\n",
       "</style>\n",
       "<table border=\"1\" class=\"dataframe\">\n",
       "  <thead>\n",
       "    <tr style=\"text-align: right;\">\n",
       "      <th></th>\n",
       "      <th>userId</th>\n",
       "      <th>movieId</th>\n",
       "      <th>tag</th>\n",
       "      <th>timestamp</th>\n",
       "    </tr>\n",
       "  </thead>\n",
       "  <tbody>\n",
       "    <tr>\n",
       "      <th>3678</th>\n",
       "      <td>606</td>\n",
       "      <td>7382</td>\n",
       "      <td>for katie</td>\n",
       "      <td>1171234019</td>\n",
       "    </tr>\n",
       "    <tr>\n",
       "      <th>3679</th>\n",
       "      <td>606</td>\n",
       "      <td>7936</td>\n",
       "      <td>austere</td>\n",
       "      <td>1173392334</td>\n",
       "    </tr>\n",
       "    <tr>\n",
       "      <th>3680</th>\n",
       "      <td>610</td>\n",
       "      <td>3265</td>\n",
       "      <td>gun fu</td>\n",
       "      <td>1493843984</td>\n",
       "    </tr>\n",
       "    <tr>\n",
       "      <th>3681</th>\n",
       "      <td>610</td>\n",
       "      <td>3265</td>\n",
       "      <td>heroic bloodshed</td>\n",
       "      <td>1493843978</td>\n",
       "    </tr>\n",
       "    <tr>\n",
       "      <th>3682</th>\n",
       "      <td>610</td>\n",
       "      <td>168248</td>\n",
       "      <td>Heroic Bloodshed</td>\n",
       "      <td>1493844270</td>\n",
       "    </tr>\n",
       "  </tbody>\n",
       "</table>\n",
       "</div>"
      ],
      "text/plain": [
       "      userId  movieId               tag   timestamp\n",
       "3678     606     7382         for katie  1171234019\n",
       "3679     606     7936           austere  1173392334\n",
       "3680     610     3265            gun fu  1493843984\n",
       "3681     610     3265  heroic bloodshed  1493843978\n",
       "3682     610   168248  Heroic Bloodshed  1493844270"
      ]
     },
     "execution_count": 53,
     "metadata": {},
     "output_type": "execute_result"
    }
   ],
   "source": [
    "#check the last 5 rows\n",
    "tags_df.tail()"
   ]
  },
  {
   "cell_type": "markdown",
   "id": "eb60855e",
   "metadata": {},
   "source": [
    "The tags dataset is uniform from start to finish."
   ]
  },
  {
   "cell_type": "code",
   "execution_count": 51,
   "id": "43e274e0",
   "metadata": {},
   "outputs": [
    {
     "name": "stdout",
     "output_type": "stream",
     "text": [
      "The tags dataset has 3683 rows and 4 columns.\n"
     ]
    }
   ],
   "source": [
    "#check shape\n",
    "print(f\"The tags dataset has {tags_df.shape[0]} rows and {tags_df.shape[1]} columns.\")"
   ]
  },
  {
   "cell_type": "code",
   "execution_count": null,
   "id": "8cb26479",
   "metadata": {},
   "outputs": [
    {
     "name": "stdout",
     "output_type": "stream",
     "text": [
      "<class 'pandas.core.frame.DataFrame'>\n",
      "RangeIndex: 3683 entries, 0 to 3682\n",
      "Data columns (total 4 columns):\n",
      " #   Column     Non-Null Count  Dtype \n",
      "---  ------     --------------  ----- \n",
      " 0   userId     3683 non-null   int64 \n",
      " 1   movieId    3683 non-null   int64 \n",
      " 2   tag        3683 non-null   object\n",
      " 3   timestamp  3683 non-null   int64 \n",
      "dtypes: int64(3), object(1)\n",
      "memory usage: 115.2+ KB\n"
     ]
    }
   ],
   "source": [
    "#get metadata\n",
    "tags_df.info()"
   ]
  },
  {
   "cell_type": "markdown",
   "id": "5d76dbd9",
   "metadata": {},
   "source": [
    "The tags dataset has one categorical columns and 3 numerical columns."
   ]
  },
  {
   "cell_type": "code",
   "execution_count": 55,
   "id": "b90f624b",
   "metadata": {},
   "outputs": [
    {
     "data": {
      "application/vnd.microsoft.datawrangler.viewer.v0+json": {
       "columns": [
        {
         "name": "index",
         "rawType": "object",
         "type": "string"
        },
        {
         "name": "count",
         "rawType": "float64",
         "type": "float"
        },
        {
         "name": "mean",
         "rawType": "float64",
         "type": "float"
        },
        {
         "name": "std",
         "rawType": "float64",
         "type": "float"
        },
        {
         "name": "min",
         "rawType": "float64",
         "type": "float"
        },
        {
         "name": "25%",
         "rawType": "float64",
         "type": "float"
        },
        {
         "name": "50%",
         "rawType": "float64",
         "type": "float"
        },
        {
         "name": "75%",
         "rawType": "float64",
         "type": "float"
        },
        {
         "name": "max",
         "rawType": "float64",
         "type": "float"
        }
       ],
       "ref": "9b7182c1-f9a3-41b0-9e53-c2d282e8c34d",
       "rows": [
        [
         "userId",
         "3683.0",
         "431.1493347814282",
         "158.472553484827",
         "2.0",
         "424.0",
         "474.0",
         "477.0",
         "610.0"
        ],
        [
         "movieId",
         "3683.0",
         "27252.01357588922",
         "43490.558802767875",
         "1.0",
         "1262.5",
         "4454.0",
         "39263.0",
         "193565.0"
        ],
        [
         "timestamp",
         "3683.0",
         "1320031966.823785",
         "172102450.4371264",
         "1137179352.0",
         "1137521216.0",
         "1269832564.0",
         "1498456765.5",
         "1537098603.0"
        ]
       ],
       "shape": {
        "columns": 8,
        "rows": 3
       }
      },
      "text/html": [
       "<div>\n",
       "<style scoped>\n",
       "    .dataframe tbody tr th:only-of-type {\n",
       "        vertical-align: middle;\n",
       "    }\n",
       "\n",
       "    .dataframe tbody tr th {\n",
       "        vertical-align: top;\n",
       "    }\n",
       "\n",
       "    .dataframe thead th {\n",
       "        text-align: right;\n",
       "    }\n",
       "</style>\n",
       "<table border=\"1\" class=\"dataframe\">\n",
       "  <thead>\n",
       "    <tr style=\"text-align: right;\">\n",
       "      <th></th>\n",
       "      <th>count</th>\n",
       "      <th>mean</th>\n",
       "      <th>std</th>\n",
       "      <th>min</th>\n",
       "      <th>25%</th>\n",
       "      <th>50%</th>\n",
       "      <th>75%</th>\n",
       "      <th>max</th>\n",
       "    </tr>\n",
       "  </thead>\n",
       "  <tbody>\n",
       "    <tr>\n",
       "      <th>userId</th>\n",
       "      <td>3683.0</td>\n",
       "      <td>4.311493e+02</td>\n",
       "      <td>1.584726e+02</td>\n",
       "      <td>2.000000e+00</td>\n",
       "      <td>4.240000e+02</td>\n",
       "      <td>4.740000e+02</td>\n",
       "      <td>4.770000e+02</td>\n",
       "      <td>6.100000e+02</td>\n",
       "    </tr>\n",
       "    <tr>\n",
       "      <th>movieId</th>\n",
       "      <td>3683.0</td>\n",
       "      <td>2.725201e+04</td>\n",
       "      <td>4.349056e+04</td>\n",
       "      <td>1.000000e+00</td>\n",
       "      <td>1.262500e+03</td>\n",
       "      <td>4.454000e+03</td>\n",
       "      <td>3.926300e+04</td>\n",
       "      <td>1.935650e+05</td>\n",
       "    </tr>\n",
       "    <tr>\n",
       "      <th>timestamp</th>\n",
       "      <td>3683.0</td>\n",
       "      <td>1.320032e+09</td>\n",
       "      <td>1.721025e+08</td>\n",
       "      <td>1.137179e+09</td>\n",
       "      <td>1.137521e+09</td>\n",
       "      <td>1.269833e+09</td>\n",
       "      <td>1.498457e+09</td>\n",
       "      <td>1.537099e+09</td>\n",
       "    </tr>\n",
       "  </tbody>\n",
       "</table>\n",
       "</div>"
      ],
      "text/plain": [
       "            count          mean           std           min           25%  \\\n",
       "userId     3683.0  4.311493e+02  1.584726e+02  2.000000e+00  4.240000e+02   \n",
       "movieId    3683.0  2.725201e+04  4.349056e+04  1.000000e+00  1.262500e+03   \n",
       "timestamp  3683.0  1.320032e+09  1.721025e+08  1.137179e+09  1.137521e+09   \n",
       "\n",
       "                    50%           75%           max  \n",
       "userId     4.740000e+02  4.770000e+02  6.100000e+02  \n",
       "movieId    4.454000e+03  3.926300e+04  1.935650e+05  \n",
       "timestamp  1.269833e+09  1.498457e+09  1.537099e+09  "
      ]
     },
     "execution_count": 55,
     "metadata": {},
     "output_type": "execute_result"
    }
   ],
   "source": [
    "#statistical summary of numerical columns\n",
    "tags_df.describe().T"
   ]
  },
  {
   "cell_type": "code",
   "execution_count": 56,
   "id": "95d0d4c4",
   "metadata": {},
   "outputs": [
    {
     "data": {
      "application/vnd.microsoft.datawrangler.viewer.v0+json": {
       "columns": [
        {
         "name": "index",
         "rawType": "object",
         "type": "string"
        },
        {
         "name": "count",
         "rawType": "object",
         "type": "unknown"
        },
        {
         "name": "unique",
         "rawType": "object",
         "type": "unknown"
        },
        {
         "name": "top",
         "rawType": "object",
         "type": "string"
        },
        {
         "name": "freq",
         "rawType": "object",
         "type": "unknown"
        }
       ],
       "ref": "15a6bebc-ee21-436e-bb37-1cb514afbbf6",
       "rows": [
        [
         "tag",
         "3683",
         "1589",
         "In Netflix queue",
         "131"
        ]
       ],
       "shape": {
        "columns": 4,
        "rows": 1
       }
      },
      "text/html": [
       "<div>\n",
       "<style scoped>\n",
       "    .dataframe tbody tr th:only-of-type {\n",
       "        vertical-align: middle;\n",
       "    }\n",
       "\n",
       "    .dataframe tbody tr th {\n",
       "        vertical-align: top;\n",
       "    }\n",
       "\n",
       "    .dataframe thead th {\n",
       "        text-align: right;\n",
       "    }\n",
       "</style>\n",
       "<table border=\"1\" class=\"dataframe\">\n",
       "  <thead>\n",
       "    <tr style=\"text-align: right;\">\n",
       "      <th></th>\n",
       "      <th>count</th>\n",
       "      <th>unique</th>\n",
       "      <th>top</th>\n",
       "      <th>freq</th>\n",
       "    </tr>\n",
       "  </thead>\n",
       "  <tbody>\n",
       "    <tr>\n",
       "      <th>tag</th>\n",
       "      <td>3683</td>\n",
       "      <td>1589</td>\n",
       "      <td>In Netflix queue</td>\n",
       "      <td>131</td>\n",
       "    </tr>\n",
       "  </tbody>\n",
       "</table>\n",
       "</div>"
      ],
      "text/plain": [
       "    count unique               top freq\n",
       "tag  3683   1589  In Netflix queue  131"
      ]
     },
     "execution_count": 56,
     "metadata": {},
     "output_type": "execute_result"
    }
   ],
   "source": [
    "#statistical summary of the categorical column\n",
    "tags_df.describe(include=\"object\").T"
   ]
  },
  {
   "cell_type": "code",
   "execution_count": 57,
   "id": "110ce73f",
   "metadata": {},
   "outputs": [
    {
     "name": "stdout",
     "output_type": "stream",
     "text": [
      "The tags dataset has 0 null values.\n"
     ]
    }
   ],
   "source": [
    "#check for nulls\n",
    "print(f\"The tags dataset has {tags_df.isna().sum().sum()} null values.\")"
   ]
  },
  {
   "cell_type": "code",
   "execution_count": 58,
   "id": "75c39de4",
   "metadata": {},
   "outputs": [
    {
     "name": "stdout",
     "output_type": "stream",
     "text": [
      "The tags dataset has 0 duplicates.\n"
     ]
    }
   ],
   "source": [
    "#check for duplicates\n",
    "print(f\"The tags dataset has {tags_df.duplicated().sum()} duplicates.\")"
   ]
  },
  {
   "cell_type": "code",
   "execution_count": 60,
   "id": "cd85dd51",
   "metadata": {},
   "outputs": [
    {
     "data": {
      "image/png": "iVBORw0KGgoAAAANSUhEUgAAAiMAAAGsCAYAAAAPJKchAAAAOnRFWHRTb2Z0d2FyZQBNYXRwbG90bGliIHZlcnNpb24zLjEwLjYsIGh0dHBzOi8vbWF0cGxvdGxpYi5vcmcvq6yFwwAAAAlwSFlzAAAPYQAAD2EBqD+naQAAK+hJREFUeJzt3X9cVVW+//H3EeKAIaioR1BC+4HRaIYwGRqlNVJYmHO7oz30hpr1iFtpSjZXsps/8g7TNHrtl6aWcmvMHDMtG6aiuollP0aCatKb+SNBO8RgyQ+nAYH1/cOvZzwByiFgAb6ej8f+Y6+z1tmfXZt93q69zz4OY4wRAACAJV1sFwAAAM5uhBEAAGAVYQQAAFhFGAEAAFYRRgAAgFWEEQAAYBVhBAAAWEUYAQAAVhFGAACAVYQRAABgVYcKI7m5uUpJSVFERIQcDoe2bNni83v88Y9/1GWXXaauXbsqKipKjz76aMsXCgAAmqxDhZFjx45p6NChevLJJ5s1/s9//rMmT56stLQ0/fWvf9Xy5cu1dOnSZr8fAAD46Rwd9YfyHA6HNm/erPHjx3vaqqur9eCDD2rdunU6evSoBg8erEceeUSjRo2SJE2aNEnHjx/Xxo0bPWOWLVumJUuWqLCwUA6Ho433AgAAdKiZkTOZNm2a3n//fb344ov67LPP9Ktf/UrXX3+9vvrqK0lSVVWVAgMDvcYEBQXp0KFDOnjwoI2SAQA463WaMLJv3z6tX79eGzduVGJioi644ALNmTNHV155pdauXStJuu666/Tyyy/r7bffVl1dnfbs2aNly5ZJktxut8XqAQA4e/nbLqClfPLJJzLGKDo62qu9qqpKYWFhkqQ77rhD+/bt04033qjjx48rJCRE9957rxYsWCA/Pz8bZQMAcNbrNGGkrq5Ofn5+ysvLqxcsgoODJZ24z+SRRx7Rb37zGxUXF6t37956++23JUkDBgxo65IBAIA6URiJjY1VbW2tSkpKlJiYeNq+fn5+6tevnyRp/fr1SkhIUJ8+fdqiTAAA8CMdKoxUVlZq7969nvUDBw6ooKBAPXv2VHR0tCZPnqzU1FQtWbJEsbGxKi0t1TvvvKMhQ4Zo7NixKi0t1UsvvaRRo0bpH//4h9auXauNGzdq27ZtFvcKAICzW4f6au+7776r0aNH12ufMmWKsrKydPz4cS1evFjPPfecDh8+rLCwMCUkJGjhwoUaMmSISktLlZKSos8//1zGGCUkJOi//uu/NHz4cAt7AwAApA4WRgAAQOfTab7aCwAAOibCCAAAsMrnG1hzc3P16KOPKi8vT263u94j2RtSVVWlRYsW6Q9/+IOKi4vVv39/zZs3T7fddluTtllXV6dvvvlG3bp145HtAAB0EMYYVVRUKCIiQl26ND7/4XMYOfljddOmTdPNN9/cpDETJkzQt99+q2effVYXXnihSkpKVFNT0+RtfvPNN4qMjPS1VAAA0A4UFRWpf//+jb7ucxhJTk5WcnJyk/u//vrr2rZtm/bv36+ePXtK8v0BY926dZN0YmdCQkJ8GgsAAOwoLy9XZGSk53O8Ma3+nJFXX31V8fHx+t3vfqfnn39e5557rsaNG6eHH35YQUFBDY6pqqpSVVWVZ72iokKSFBISQhgBAKCDOdMtFq0eRvbv36/33ntPgYGB2rx5s0pLS3XXXXfpu+++05o1axock5mZqYULF7Z2aQAAoB1o9W/T1NXVyeFwaN26dbr88ss1duxYLV26VFlZWfrhhx8aHJORkaGysjLPUlRU1NplAgAAS1p9ZiQ8PFz9+vVTaGiopy0mJkbGGB06dEgXXXRRvTFOp1NOp7O1SwMAAO1Aq8+MjBw5Ut98840qKys9bXv27FGXLl1Oe2ctAAA4O/gcRiorK1VQUKCCggJJ//yxusLCQkknLrGkpqZ6+k+aNElhYWGaNm2adu3apdzcXN1///267bbbGr2BFQAAnD18DiM7d+5UbGysYmNjJUnp6emKjY3VQw89JElyu92eYCJJwcHBysnJ0dGjRxUfH6/JkycrJSVFjz/+eAvtAgAA6Mg6xA/llZeXKzQ0VGVlZXy1FwCADqKpn9/8Ng0AALCKMAIAAKwijAAAAKsIIwAAwCrCCAAAsKrVn8AKAEBT/eMf/9DBgwdtl9FuREVFKTAw0HYZrY4wAgBoNw4ePKg77rjDdhntxurVqzVo0CDbZbQ6wggAoN2IiorS6tWrrdZw8OBBLV68WA8++KCioqKs1mJ7+22FMAIAaDcCAwPbzUxAVFRUu6mls+MGVgAAYBVhBAAAWEUYAQAAVhFGAACAVYQRAABgFd+mAQB4fPvttzp69KjtMqw6+dA1Hr4mde/eXS6Xq9W34zDGmFbfyk9UXl6u0NBQlZWVKSQkxHY5ANApffvtt5r8b5NVXVVtuxS0EwHOAK37w7pmB5Kmfn4zMwIAkCQdPXpU1VXVqru8Tiak3f87Fa3MUe5Q9cfVOnr0aKvPjhBGAABeTIiRetiuArYZtV0g5QZWAABgFWEEAABYRRgBAABWEUYAAIBVhBEAAGAVYQQAAFhFGAEAAFYRRgAAgFWEEQAAYBVhBAAAWEUYAQAAVhFGAACAVYQRAABgFWEEAABY5XMYyc3NVUpKiiIiIuRwOLRly5Ymj33//ffl7++vyy67zNfNAgCATsrnMHLs2DENHTpUTz75pE/jysrKlJqaqmuvvdbXTQIAgE7M39cBycnJSk5O9nlDd955pyZNmiQ/Pz+fZlMAAEDn1ib3jKxdu1b79u3T/Pnzm9S/qqpK5eXlXgsAAOicWj2MfPXVV5o7d67WrVsnf/+mTcRkZmYqNDTUs0RGRrZylQAAwJZWDSO1tbWaNGmSFi5cqOjo6CaPy8jIUFlZmWcpKipqxSoBAIBNPt8z4ouKigrt3LlT+fn5uueeeyRJdXV1MsbI399fb775pq655pp645xOp5xOZ2uWBgAA2olWDSMhISH6/PPPvdqWL1+ud955Ry+99JIGDhzYmpsHAAAdgM9hpLKyUnv37vWsHzhwQAUFBerZs6fOO+88ZWRk6PDhw3ruuefUpUsXDR482Gt8nz59FBgYWK8dAACcnXwOIzt37tTo0aM96+np6ZKkKVOmKCsrS263W4WFhS1XIQAA6NR8DiOjRo2SMabR17Oysk47fsGCBVqwYIGvmwUAAJ0Uv00DAACsIowAAACrCCMAAMAqwggAALCKMAIAAKwijAAAAKsIIwAAwCrCCAAAsIowAgAArCKMAAAAqwgjAADAKsIIAACwijACAACsIowAAACrCCMAAMAqwggAALCKMAIAAKwijAAAAKsIIwAAwCrCCAAAsIowAgAArPK3XQAAoJ0pt10A2oU2PA4IIwAAL34f+9kuAWcZwggAwEvt5bVSiO0qYF152wVTwggAwFuIpB62i8DZhBtYAQCAVYQRAABgFWEEAABYRRgBAABWEUYAAIBVhBEAAGAVYQQAAFhFGAEAAFb5HEZyc3OVkpKiiIgIORwObdmy5bT9X375ZY0ZM0a9e/dWSEiIEhIS9MYbbzS3XgAA0Mn4HEaOHTumoUOH6sknn2xS/9zcXI0ZM0bZ2dnKy8vT6NGjlZKSovz8fJ+LBQAAnY/Pj4NPTk5WcnJyk/svW7bMa/03v/mNXnnlFW3dulWxsbG+bh4AAHQybf7bNHV1daqoqFDPnj0b7VNVVaWqqirPenk5v2cNAEBn1eY3sC5ZskTHjh3ThAkTGu2TmZmp0NBQzxIZGdmGFQIAgLbUpmFk/fr1WrBggTZs2KA+ffo02i8jI0NlZWWepaioqA2rBAAAbanNLtNs2LBB06dP18aNG/WLX/zitH2dTqecTmcbVQYAAGxqk5mR9evXa+rUqXrhhRd0ww03tMUmAQBAB+HzzEhlZaX27t3rWT9w4IAKCgrUs2dPnXfeecrIyNDhw4f13HPPSToRRFJTU/XYY4/piiuuUHFxsSQpKChIoaGhLbQbAACgo/J5ZmTnzp2KjY31fC03PT1dsbGxeuihhyRJbrdbhYWFnv4rV65UTU2N7r77boWHh3uWe++9t4V2AQAAdGQ+z4yMGjVKxphGX8/KyvJaf/fdd33dBAAAOIvw2zQAAMAqwggAALCKMAIAAKwijAAAAKsIIwAAwCrCCAAAsKrNf7UXANC+OcodMmr8EQ6tqlbSMTubbpfOleRnZ9OOckebbYswAgCQJHXv3l0BzgBVf1xtuxS0EwHOAHXv3r3Vt0MYAQBIklwul9b9YZ2OHj1qrYaqqirPz4ZA6tu3r9Ufju3evbtcLlerb4cwAgDwcLlcbfLhczqXXnqp1e2j7XEDKwAAsIowAgAArCKMAAAAqwgjAADAKsIIAACwijACAACsIowAAACrCCMAAMAqwggAALCKMAIAAKwijAAAAKsIIwAAwCrCCAAAsIowAgAArCKMAAAAqwgjAADAKsIIAACwijACAACsIowAAACrCCMAAMAqwggAALCKMAIAAKwijAAAAKt8DiO5ublKSUlRRESEHA6HtmzZcsYx27ZtU1xcnAIDA3X++efr6aefbk6tAACgE/I5jBw7dkxDhw7Vk08+2aT+Bw4c0NixY5WYmKj8/Hw98MADmjlzpjZt2uRzsQAAoPPx93VAcnKykpOTm9z/6aef1nnnnadly5ZJkmJiYrRz5079/ve/18033+zr5gEAQCfT6veMfPDBB0pKSvJqu+6667Rz504dP368wTFVVVUqLy/3WgAAQOfU6mGkuLhYLpfLq83lcqmmpkalpaUNjsnMzFRoaKhniYyMbO0yAQCAJW3ybRqHw+G1boxpsP2kjIwMlZWVeZaioqJWrxEAANjh8z0jvurbt6+Ki4u92kpKSuTv76+wsLAGxzidTjmdztYuDQAAtAOtPjOSkJCgnJwcr7Y333xT8fHxOuecc1p78wAAoJ3zOYxUVlaqoKBABQUFkk58dbegoECFhYWSTlxiSU1N9fRPS0vTwYMHlZ6ert27d2vNmjV69tlnNWfOnJbZAwAA0KH5fJlm586dGj16tGc9PT1dkjRlyhRlZWXJ7XZ7gokkDRw4UNnZ2Zo9e7aeeuopRURE6PHHH+drvQAAQJLkMCfvJm3HysvLFRoaqrKyMoWEhNguBwAANEFTP7/5bRoAAGAVYQQAAFhFGAEAAFYRRgAAgFWEEQAAYBVhBAAAWEUYAQAAVhFGAACAVYQRAABgFWEEAABYRRgBAABWEUYAAIBVhBEAAGAVYQQAAFhFGAEAAFYRRgAAgFWEEQAAYBVhBAAAWEUYAQAAVhFGAACAVYQRAABgFWEEAABYRRgBAABWEUYAAIBVhBEAAGAVYQQAAFhFGAEAAFYRRgAAgFWEEQAAYBVhBAAAWEUYAQAAVhFGAACAVYQRAABgVbPCyPLlyzVw4EAFBgYqLi5O27dvP23/devWaejQoeratavCw8M1bdo0HTlypFkFAwCAzsXnMLJhwwbNmjVL8+bNU35+vhITE5WcnKzCwsIG+7/33ntKTU3V9OnT9cUXX2jjxo36y1/+ottvv/0nFw8AADo+n8PI0qVLNX36dN1+++2KiYnRsmXLFBkZqRUrVjTY/8MPP9SAAQM0c+ZMDRw4UFdeeaXuvPNO7dy58ycXDwAAOj6fwkh1dbXy8vKUlJTk1Z6UlKQdO3Y0OGbEiBE6dOiQsrOzZYzRt99+q5deekk33HBDo9upqqpSeXm51wIAADonn8JIaWmpamtr5XK5vNpdLpeKi4sbHDNixAitW7dOEydOVEBAgPr27avu3bvriSeeaHQ7mZmZCg0N9SyRkZG+lAkAADqQZt3A6nA4vNaNMfXaTtq1a5dmzpyphx56SHl5eXr99dd14MABpaWlNfr+GRkZKisr8yxFRUXNKRMAAHQA/r507tWrl/z8/OrNgpSUlNSbLTkpMzNTI0eO1P333y9JuvTSS3XuuecqMTFRixcvVnh4eL0xTqdTTqfTl9IAAEAH5dPMSEBAgOLi4pSTk+PVnpOToxEjRjQ45u9//7u6dPHejJ+fn6QTMyoAAODs5vNlmvT0dD3zzDNas2aNdu/erdmzZ6uwsNBz2SUjI0Opqame/ikpKXr55Ze1YsUK7d+/X++//75mzpypyy+/XBERES23JwAAoEPy6TKNJE2cOFFHjhzRokWL5Ha7NXjwYGVnZysqKkqS5Ha7vZ45MnXqVFVUVOjJJ5/Ufffdp+7du+uaa67RI4880nJ7AQAAOiyH6QDXSsrLyxUaGqqysjKFhITYLgcAADRBUz+/+W0aAABgFWEEAABYRRgBAABWEUYAAIBVhBEAAGAVYQQAAFhFGAEAAFYRRgAAgFWEEQAAYBVhBAAAWEUYAQAAVhFGAACAVYQRAABgFWEEAABYRRgBAABWEUYAAIBVhBEAAGAVYQQAAFhFGAEAAFYRRgAAgFWEEQAAYBVhBAAAWEUYAQAAVhFGAACAVYQRAABgFWEEAABYRRgBAABWEUYAAIBVhBEAAGAVYQQAAFhFGAEAAFYRRgAAgFXNCiPLly/XwIEDFRgYqLi4OG3fvv20/auqqjRv3jxFRUXJ6XTqggsu0Jo1a5pVMAAA6Fz8fR2wYcMGzZo1S8uXL9fIkSO1cuVKJScna9euXTrvvPMaHDNhwgR9++23evbZZ3XhhReqpKRENTU1P7l4AADQ8TmMMcaXAcOHD9ewYcO0YsUKT1tMTIzGjx+vzMzMev1ff/113XLLLdq/f7969uzZrCLLy8sVGhqqsrIyhYSENOs9AABA22rq57dPl2mqq6uVl5enpKQkr/akpCTt2LGjwTGvvvqq4uPj9bvf/U79+vVTdHS05syZox9++KHR7VRVVam8vNxrAQAAnZNPl2lKS0tVW1srl8vl1e5yuVRcXNzgmP379+u9995TYGCgNm/erNLSUt1111367rvvGr1vJDMzUwsXLvSlNAAA0EE16wZWh8PhtW6Mqdd2Ul1dnRwOh9atW6fLL79cY8eO1dKlS5WVldXo7EhGRobKyso8S1FRUXPKBAAAHYBPMyO9evWSn59fvVmQkpKSerMlJ4WHh6tfv34KDQ31tMXExMgYo0OHDumiiy6qN8bpdMrpdPpSGgAA6KB8mhkJCAhQXFyccnJyvNpzcnI0YsSIBseMHDlS33zzjSorKz1te/bsUZcuXdS/f/9mlAwAADoTny/TpKen65lnntGaNWu0e/duzZ49W4WFhUpLS5N04hJLamqqp/+kSZMUFhamadOmadeuXcrNzdX999+v2267TUFBQS23JwAAoEPy+TkjEydO1JEjR7Ro0SK53W4NHjxY2dnZioqKkiS53W4VFhZ6+gcHBysnJ0czZsxQfHy8wsLCNGHCBC1evLjl9gIAAHRYPj9nxAaeMwIAQMfTKs8ZAQAAaGmEEQAAYBVhBAAAWEUYAQAAVhFGAACAVYQRAABgFWEEAABYRRgBAABWEUYAAIBVhBEAAGAVYQQAAFhFGAEAAFYRRgAAgFWEEQAAYBVhBAAAWEUYAQAAVhFGAACAVYQRAABgFWEEAABYRRgBAABWEUYAAIBVhBEAAGAVYQQAAFhFGAEAAFYRRgAAgFWEEQAAYBVhBAAAWEUYAQAAVhFGAACAVYQRAABgFWEEAABYRRgBAABWEUYAAIBVzQojy5cv18CBAxUYGKi4uDht3769SePef/99+fv767LLLmvOZgEAQCfkcxjZsGGDZs2apXnz5ik/P1+JiYlKTk5WYWHhaceVlZUpNTVV1157bbOLBQAAnY/DGGN8GTB8+HANGzZMK1as8LTFxMRo/PjxyszMbHTcLbfcoosuukh+fn7asmWLCgoKmrzN8vJyhYaGqqysTCEhIb6UCwAALGnq57dPMyPV1dXKy8tTUlKSV3tSUpJ27NjR6Li1a9dq3759mj9/fpO2U1VVpfLycq8FAAB0Tj6FkdLSUtXW1srlcnm1u1wuFRcXNzjmq6++0ty5c7Vu3Tr5+/s3aTuZmZkKDQ31LJGRkb6UCQAAOpBm3cDqcDi81o0x9dokqba2VpMmTdLChQsVHR3d5PfPyMhQWVmZZykqKmpOmQAAoANo2lTF/9erVy/5+fnVmwUpKSmpN1siSRUVFdq5c6fy8/N1zz33SJLq6upkjJG/v7/efPNNXXPNNfXGOZ1OOZ1OX0oDAAAdlE8zIwEBAYqLi1NOTo5Xe05OjkaMGFGvf0hIiD7//HMVFBR4lrS0NA0aNEgFBQUaPnz4T6seAAB0eD7NjEhSenq6br31VsXHxyshIUGrVq1SYWGh0tLSJJ24xHL48GE999xz6tKliwYPHuw1vk+fPgoMDKzXDgAAzk4+h5GJEyfqyJEjWrRokdxutwYPHqzs7GxFRUVJktxu9xmfOQIAAHCSz88ZsYHnjAAA0PG0ynNGAAAAWhphBAAAWEUYAQAAVhFGAACAVYQRAABgFWEEAABYRRgBAABWEUYAAIBVhBEAAGAVYQQAAFhFGAEAAFYRRgAAgFWEEQAAYBVhBAAAWEUYAQAAVhFGAACAVYQRAABgFWEEAABYRRgBAABWEUYAAIBVhBEAAGAVYQQAAFhFGAEAAFYRRgAAgFWEEQAAYBVhBAAAWEUYAQAAVhFGAACAVYQRAABgFWEEAABYRRgBAABWEUYAAIBVhBEAAGBVs8LI8uXLNXDgQAUGBiouLk7bt29vtO/LL7+sMWPGqHfv3goJCVFCQoLeeOONZhcMAAA6F5/DyIYNGzRr1izNmzdP+fn5SkxMVHJysgoLCxvsn5ubqzFjxig7O1t5eXkaPXq0UlJSlJ+f/5OLBwAAHZ/DGGN8GTB8+HANGzZMK1as8LTFxMRo/PjxyszMbNJ7/OxnP9PEiRP10EMPNal/eXm5QkNDVVZWppCQEF/KBQAAljT189unmZHq6mrl5eUpKSnJqz0pKUk7duxo0nvU1dWpoqJCPXv2bLRPVVWVysvLvRYAANA5+RRGSktLVVtbK5fL5dXucrlUXFzcpPdYsmSJjh07pgkTJjTaJzMzU6GhoZ4lMjLSlzIBAEAH0qwbWB0Oh9e6MaZeW0PWr1+vBQsWaMOGDerTp0+j/TIyMlRWVuZZioqKmlMmAADoAPx96dyrVy/5+fnVmwUpKSmpN1vyYxs2bND06dO1ceNG/eIXvzhtX6fTKafT6UtpAACgg/JpZiQgIEBxcXHKycnxas/JydGIESMaHbd+/XpNnTpVL7zwgm644YbmVQoAADoln2ZGJCk9PV233nqr4uPjlZCQoFWrVqmwsFBpaWmSTlxiOXz4sJ577jlJJ4JIamqqHnvsMV1xxRWeWZWgoCCFhoa24K4AAICOyOcwMnHiRB05ckSLFi2S2+3W4MGDlZ2draioKEmS2+32eubIypUrVVNTo7vvvlt33323p33KlCnKysr66XsAAAA6NJ+fM2IDzxkBAKDjaZXnjAAAALQ0wggAALCKMAIAAKwijAAAAKsIIwAAwCrCCAAAsIowAgAArCKMAAAAqwgjAADAKsIIAACwijACAACsIowAAACrCCMAAMAqwggAALCKMAIAAKwijAAAAKsIIwAAwCrCCAAAsIowAgAArCKMAAAAqwgjAADAKsIIAACwijACAACsIowAAACrCCMAAMAqwggAALCKMAIAAKwijAAAAKsIIwAAwCrCCAAAsIowAgAArPK3XQDazlVXXVWvLTc310IlwAkckwCkZs6MLF++XAMHDlRgYKDi4uK0ffv20/bftm2b4uLiFBgYqPPPP19PP/10s4pF8zV00j9dO9DaOCYBnORzGNmwYYNmzZqlefPmKT8/X4mJiUpOTlZhYWGD/Q8cOKCxY8cqMTFR+fn5euCBBzRz5kxt2rTpJxePpjnTyZ2TP9oaxySAUzmMMcaXAcOHD9ewYcO0YsUKT1tMTIzGjx+vzMzMev3/4z/+Q6+++qp2797taUtLS9Onn36qDz74oEnbLC8vV2hoqMrKyhQSEuJLuWe9H5/UT50CP91rQGvhmATOHk39/PbpnpHq6mrl5eVp7ty5Xu1JSUnasWNHg2M++OADJSUlebVdd911evbZZ3X8+HGdc8459cZUVVWpqqrKa2d+qj179ujrr7/+ye/TXH//+9+1b98+a9uXpJtuuklLlizxWn/llVc866e+1hYuuOACde3atU23eaoBAwYoOjra2vYljkuOSW/t4ZgEbPApjJSWlqq2tlYul8ur3eVyqbi4uMExxcXFDfavqalRaWmpwsPD643JzMzUwoULfSntjJ544gl9+umnLfqeHc2pJ/nmvN7ZDB06VE888YTVGs7245Jj0lt7OCYBG5r1bRqHw+G1boyp13am/g21n5SRkaH09HTPenl5uSIjI5tTqseMGTPOyn+Bnnoyv+mmm3x+vTW1h3+F2nY2Hpcck41rD8ckYINPYaRXr17y8/OrNwtSUlJSb/bjpL59+zbY39/fX2FhYQ2OcTqdcjqdvpR2RtHR0Wfl9OepJ/ZXXnnltNfn77vvvjarCyecjcclxySAH/MpjAQEBCguLk45OTn65S9/6WnPyclp9F8wCQkJ2rp1q1fbm2++qfj4+AbvF0HLys3N9TrBN/YtBW4URFvhmATwYz5/tTc9PV3PPPOM1qxZo927d2v27NkqLCxUWlqapBOXWFJTUz3909LSdPDgQaWnp2v37t1as2aNnn32Wc2ZM6fl9gKndaaTOid9tDWOSQCn8vmekYkTJ+rIkSNatGiR3G63Bg8erOzsbEVFRUmS3G631zNHBg4cqOzsbM2ePVtPPfWUIiIi9Pjjj+vmm29uub3AGf34X6OntgM2cEwCOMnn54zYwHNGAADoeJr6+c0P5QEAAKsIIwAAwCrCCAAAsIowAgAArCKMAAAAqwgjAADAKsIIAACwijACAACsIowAAACrfH4cvA0nHxJbXl5uuRIAANBUJz+3z/Sw9w4RRioqKiRJkZGRlisBAAC+qqioUGhoaKOvd4jfpqmrq9M333yjbt26yeFw2C6nQysvL1dkZKSKior4nR+0CxyTaG84JluOMUYVFRWKiIhQly6N3xnSIWZGunTpov79+9suo1MJCQnhjwztCsck2huOyZZxuhmRk7iBFQAAWEUYAQAAVhFGzjJOp1Pz58+X0+m0XQogiWMS7Q/HZNvrEDewAgCAzouZEQAAYBVhBAAAWEUYAQAAVhFG0CxTp07V+PHjbZeBTmbBggW67LLLWvQ9v/76azkcDhUUFLTo+6J1vfvuu3I4HDp69KjtUtAGCCOopzU+EICmmDNnjt5++22fxjgcDm3ZsqV1CkKbGTVqlGbNmuVZHzFihNxud5MemNVaCERtp0M8gRVto7a2lsftw6rg4GAFBwfbLgPtQEBAgPr27Wu7DLQRZkbauQEDBmjZsmVebZdddpkWLFgg6cQsxnnnnSen06mIiAjNnDnT06+6ulq//vWv1a9fP5177rkaPny43n33Xc/rWVlZ6t69u1577TVdcsklcjqdOnjwYL0aamtrlZ6eru7duyssLEy//vWvz/gLjOj4Ro0apRkzZmjWrFnq0aOHXC6XVq1apWPHjmnatGnq1q2bLrjgAv35z3/2jNm2bZsuv/xyOZ1OhYeHa+7cuaqpqZEkrVy5Uv369VNdXZ3XdsaNG6cpU6ZIanhWbu3atYqJiVFgYKAuvvhiLV++/LR1f/zxx4qNjVVgYKDi4+OVn5/fAv810JqmTp2qbdu26bHHHpPD4ZDD4VBWVpbXrMSp56tBgwapa9eu+td//VcdO3ZM//M//6MBAwaoR48emjFjhmpraz3vfabz4MGDB5WSkqIePXro3HPP1c9+9jNlZ2fr66+/1ujRoyVJPXr0kMPh0NSpUyVJr7/+uq688krPOfHGG2/Uvn37PO958tLgH//4RyUmJiooKEg///nPtWfPHv3lL39RfHy8goODdf311+tvf/ub13+H8ePHa+HCherTp49CQkJ05513qrq6uvX+47cXBu1aVFSU+e///m+vtqFDh5r58+ebjRs3mpCQEJOdnW0OHjxoPvroI7Nq1SpPv0mTJpkRI0aY3Nxcs3fvXvPoo48ap9Np9uzZY4wxZu3ateacc84xI0aMMO+//775v//7P1NZWWnmz59vhg4d6nmfRx55xISGhpqXXnrJ7Nq1y0yfPt1069bN3HTTTW3wXwC2XH311aZbt27m4YcfNnv27DEPP/yw6dKli0lOTjarVq0ye/bsMf/+7/9uwsLCzLFjx8yhQ4dM165dzV133WV2795tNm/ebHr16mXmz59vjDHmyJEjJiAgwLz11luebXz33XcmICDAvPHGG8YYU+/YW7VqlQkPDzebNm0y+/fvN5s2bTI9e/Y0WVlZnj6SzObNm40xxlRWVprevXubiRMnmr/+9a9m69at5vzzzzeSTH5+fmv/J0MzHT161CQkJJg77rjDuN1u43a7zVtvvWUkme+//94Y88/z1ZgxY8wnn3xitm3bZsLCwkxSUpKZMGGC+eKLL8zWrVtNQECAefHFFz3vfabz4A033GDGjBljPvvsM7Nv3z6zdetWs23bNlNTU2M2bdpkJJkvv/zSuN1uc/ToUWOMMS+99JLZtGmT2bNnj8nPzzcpKSlmyJAhpra21hhjzIEDB4wkc/HFF5vXX3/d7Nq1y1xxxRVm2LBhZtSoUea9994zn3zyibnwwgtNWlqap9YpU6aY4OBgz/H72muvmd69e5sHHnigjf5P2EMYaedOF0aWLFlioqOjTXV1db1xe/fuNQ6Hwxw+fNir/dprrzUZGRnGmBN/3JJMQUGBV58ffyCEh4eb3/72t57148ePm/79+xNGOrmrr77aXHnllZ71mpoac+6555pbb73V0+Z2u40k88EHH5gHHnjADBo0yNTV1Xlef+qpp0xwcLDnJD1u3Dhz2223eV5fuXKl6du3r6mpqTHG1D/2IiMjzQsvvOBV18MPP2wSEhI866eGkZUrV5qePXuaY8eOeV5fsWIFYaQDuPrqq829997rWf/f//3femFEktm7d6+nz5133mm6du1qKioqPG3XXXedufPOO40xTTsPDhkyxCxYsKDBmn5cQ2NKSkqMJPP5558bY/4ZRp555hlPn/Xr1xtJ5u233/a0ZWZmmkGDBnnWp0yZ0uDxe+rfUGfFZZoO7Fe/+pV++OEHnX/++brjjju0efNmz5T4J598ImOMoqOjPdfhg4ODtW3bNq/pxICAAF166aWNbqOsrExut1sJCQmeNn9/f8XHx7fejqHdOPXY8PPzU1hYmIYMGeJpc7lckqSSkhLt3r1bCQkJXvcdjRw5UpWVlTp06JAkafLkydq0aZOqqqokSevWrdMtt9wiPz+/etv+29/+pqKiIk2fPt3rGF68eLHXMXyq3bt3a+jQoerataun7dRjFx1b165ddcEFF3jWXS6XBgwY4HWfkcvlUklJiaSmnQdnzpypxYsXa+TIkZo/f74+++yzM9axb98+TZo0Seeff75CQkI0cOBASVJhYaFXv1P/fk7+rfz47+dkrSc1dPxWVlaqqKjojHV1ZNzA2s516dKl3v0Zx48flyRFRkbqyy+/VE5Ojt566y3dddddevTRR7Vt2zbV1dXJz89PeXl59U70p/7hBgUFcdMqGnXOOed4rTscDq+2k8dOXV2djDH1jqWTx+7J9pSUFNXV1elPf/qTfv7zn2v79u1aunRpg9s+eW/J6tWrNXz4cK/XGgovp24PndOZjseTbSePnaacB2+//XZdd911+tOf/qQ333xTmZmZWrJkiWbMmNFoHSkpKYqMjNTq1asVERGhuro6DR48uN69HQ39rfy47cf3UDWms5+nCSPtXO/eveV2uz3r5eXlOnDggGc9KChI48aN07hx43T33Xfr4osv1ueff67Y2FjV1taqpKREiYmJzd5+aGiowsPD9eGHH+qqq66SJNXU1CgvL0/Dhg1r/o6h07nkkku0adMmr1CyY8cOdevWTf369ZN04nj9l3/5F61bt0579+5VdHS04uLiGnw/l8ulfv36af/+/Zo8eXKTa3j++ef1ww8/KCgoSJL04YcftsDeobUFBAR43XjaEpp6HoyMjFRaWprS0tKUkZGh1atXa8aMGQoICJAkr7qOHDmi3bt3a+XKlZ73fO+991qs5k8//bTe8RscHKz+/fu32DbaI8JIO3fNNdcoKyvLc7f3f/7nf3oSflZWlmprazV8+HB17dpVzz//vIKCghQVFaWwsDBNnjxZqampWrJkiWJjY1VaWqp33nlHQ4YM0dixY5tcw7333qvf/va3uuiiixQTE6OlS5fyvXvUc9ddd2nZsmWaMWOG7rnnHn355ZeaP3++0tPT1aXLP68IT548WSkpKfriiy/0b//2b6d9zwULFmjmzJkKCQlRcnKyqqqqtHPnTn3//fdKT0+v13/SpEmaN2+epk+frgcffFBff/21fv/737f4vqLlDRgwQB999JG+/vprBQcHN3nG4HSio6PPeB6cNWuWkpOTFR0dre+//17vvPOOYmJiJElRUVFyOBx67bXXNHbsWAUFBalHjx4KCwvTqlWrFB4ersLCQs2dO/cn13pSdXW15/g9ePCg5s+fr3vuucfrb6gz6tx71wlkZGToqquu0o033qixY8dq/Pjxnmum3bt31+rVqzVy5Ehdeumlevvtt7V161aFhYVJOvGVyNTUVN13330aNGiQxo0bp48++kiRkZE+1XDfffcpNTVVU6dOVUJCgrp166Zf/vKXLb6v6Nj69eun7Oxsffzxxxo6dKjS0tI8J9VTXXPNNerZs6e+/PJLTZo06bTvefvtt+uZZ55RVlaWhgwZoquvvlpZWVmea/Q/FhwcrK1bt2rXrl2KjY3VvHnz9Mgjj7TYPqL1zJkzR35+frrkkkvUu3fvevdfNNeZzoO1tbW6++67FRMTo+uvv16DBg3yfH28X79+WrhwoebOnSuXy+UJBS+++KLy8vI0ePBgzZ49W48++miL1CpJ1157rS666CJdddVVmjBhglJSUjyPcujMHIaLrAAAWDd16lQdPXr0rHyiMDMjAADAKsIIAACwiss0AADAKmZGAACAVYQRAABgFWEEAABYRRgBAABWEUYAAIBVhBEAAGAVYQQAAFhFGAEAAFYRRgAAgFX/D6lIn3YO8pANAAAAAElFTkSuQmCC",
      "text/plain": [
       "<Figure size 640x480 with 1 Axes>"
      ]
     },
     "metadata": {},
     "output_type": "display_data"
    }
   ],
   "source": [
    "#check for outliers\n",
    "sns.boxplot(tags_df);"
   ]
  },
  {
   "cell_type": "markdown",
   "id": "26e81766",
   "metadata": {},
   "source": [
    "The tags dataset has no outliers."
   ]
  }
 ],
 "metadata": {
  "kernelspec": {
   "display_name": "learn-env-py313",
   "language": "python",
   "name": "python3"
  },
  "language_info": {
   "codemirror_mode": {
    "name": "ipython",
    "version": 3
   },
   "file_extension": ".py",
   "mimetype": "text/x-python",
   "name": "python",
   "nbconvert_exporter": "python",
   "pygments_lexer": "ipython3",
   "version": "3.13.7"
  }
 },
 "nbformat": 4,
 "nbformat_minor": 5
}
